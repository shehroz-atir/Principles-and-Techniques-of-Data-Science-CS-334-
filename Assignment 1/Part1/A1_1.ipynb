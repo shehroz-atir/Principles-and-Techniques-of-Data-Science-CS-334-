{
 "cells": [
  {
   "cell_type": "markdown",
   "metadata": {
    "id": "uC2VYsXrbqAI"
   },
   "source": [
    "# **Assignment 1-Part 1**"
   ]
  },
  {
   "cell_type": "markdown",
   "metadata": {
    "id": "3F0wgWvubqAP"
   },
   "source": [
    "Note: It should take you an estimated time of 45 minutes to complete this part.\n",
    "\n",
    "**Importing relevant libraries**"
   ]
  },
  {
   "cell_type": "code",
   "execution_count": null,
   "metadata": {
    "id": "0IScl2nTbqAS"
   },
   "outputs": [],
   "source": [
    "import pandas as pd"
   ]
  },
  {
   "cell_type": "markdown",
   "metadata": {
    "id": "OvLYpzvTbqAU"
   },
   "source": [
    "# **Instructions**"
   ]
  },
  {
   "cell_type": "markdown",
   "metadata": {
    "id": "OZQmqzEEbqAW"
   },
   "source": [
    "How to run this on Google Colab: Uncomment the code cells below and place your csv files on Drive to run this assignment on Google Colab (only if you want to - jupyter notebooks work just fine)"
   ]
  },
  {
   "cell_type": "code",
   "execution_count": null,
   "metadata": {
    "id": "smkMW7uubqAX",
    "outputId": "27ac0632-39cc-456e-90c1-ac4411cd1cfa"
   },
   "outputs": [
    {
     "data": {
      "text/plain": [
       "'\\nLinking google colab to your drive folder\\n'"
      ]
     },
     "execution_count": 3,
     "metadata": {
      "tags": []
     },
     "output_type": "execute_result"
    }
   ],
   "source": [
    "'''\n",
    "Linking google colab to your drive folder\n",
    "'''\n",
    "# from google.colab import drive\n",
    "# drive.mount('/content/gdrive', force_remount=True)"
   ]
  },
  {
   "cell_type": "code",
   "execution_count": null,
   "metadata": {
    "id": "M_DqlvwobqAa",
    "outputId": "abb018a8-71a7-4325-a6d8-b5c60dc98ecf"
   },
   "outputs": [
    {
     "data": {
      "text/plain": [
       "'\\nPlace the csv files inside your drive and then run this cell\\n'"
      ]
     },
     "execution_count": 4,
     "metadata": {
      "tags": []
     },
     "output_type": "execute_result"
    }
   ],
   "source": [
    "'''\n",
    "Place the csv files inside your drive and then run this cell\n",
    "'''\n",
    "# %cd /content/gdrive/My\\ Drive/"
   ]
  },
  {
   "cell_type": "markdown",
   "metadata": {
    "id": "x5nyj7hrbqAc"
   },
   "source": [
    "# **Submission Instructions**"
   ]
  },
  {
   "cell_type": "markdown",
   "metadata": {
    "id": "emGhG3dDbqAe"
   },
   "source": [
    "* You should name the notebook as **YourRollNumber_PartNumber.ipynb**. (e.g. this part should be named as *`2XXXXXXX_1.ipynb`*)\n",
    "* You must submit a zip file containg just the notebook and it must not have any folder or any other file. \n",
    "* The name of the zip file must be your `Roll Number`"
   ]
  },
  {
   "cell_type": "markdown",
   "metadata": {
    "id": "AQ3W-7J6bqAf"
   },
   "source": [
    "This is an introductory assignment based on Pandas which will provide a hands-on experience of using different functions and manipulating the dataset accordingly. "
   ]
  },
  {
   "cell_type": "markdown",
   "metadata": {
    "id": "zi94pT40bqAh"
   },
   "source": [
    "**Question 1:** Read the dataset from `top_50_restaurants.csv` and assign this dataframe to a variable."
   ]
  },
  {
   "cell_type": "code",
   "execution_count": 2,
   "metadata": {
    "id": "e8G_bG0jbqAi"
   },
   "outputs": [
    {
     "name": "stdout",
     "output_type": "stream",
     "text": [
      "   Year  Ranking                   Name      City   Country  Latitude  \\\n",
      "0  2018        1    Osteria Francescana    Modena     Italy   44.6431   \n",
      "1  2018        2  El Celler de Can Roca    Girona     Spain   41.9808   \n",
      "2  2018        3                Mirazur    Menton    France   43.7747   \n",
      "3  2018        4    Eleven Madison Park  New York       USA   40.7146   \n",
      "4  2018        5                 Gaggan   Bangkok  Thailand   13.7500   \n",
      "5  2018        6                Central      Lima      Peru  -12.0430   \n",
      "\n",
      "   Longitude  \n",
      "0    10.9341  \n",
      "1     2.8187  \n",
      "2     7.5046  \n",
      "3   -74.0071  \n",
      "4   100.5160  \n",
      "5   -77.0280  \n"
     ]
    }
   ],
   "source": [
    "import pandas as pd\n",
    "df=pd.read_csv(\"top_50_restaurants.csv\")\n"
   ]
  },
  {
   "cell_type": "markdown",
   "metadata": {
    "id": "TVOvMcLObqAj"
   },
   "source": [
    "**Question 2: Part A** Using this variable, print out the first five rows of the dataset."
   ]
  },
  {
   "cell_type": "code",
   "execution_count": 138,
   "metadata": {
    "id": "5zL6sl3HbqAk"
   },
   "outputs": [
    {
     "data": {
      "text/html": [
       "<div>\n",
       "<style scoped>\n",
       "    .dataframe tbody tr th:only-of-type {\n",
       "        vertical-align: middle;\n",
       "    }\n",
       "\n",
       "    .dataframe tbody tr th {\n",
       "        vertical-align: top;\n",
       "    }\n",
       "\n",
       "    .dataframe thead th {\n",
       "        text-align: right;\n",
       "    }\n",
       "</style>\n",
       "<table border=\"1\" class=\"dataframe\">\n",
       "  <thead>\n",
       "    <tr style=\"text-align: right;\">\n",
       "      <th></th>\n",
       "      <th>Year</th>\n",
       "      <th>Ranking</th>\n",
       "      <th>Name</th>\n",
       "      <th>City</th>\n",
       "      <th>Country</th>\n",
       "      <th>Latitude</th>\n",
       "      <th>Longitude</th>\n",
       "    </tr>\n",
       "  </thead>\n",
       "  <tbody>\n",
       "    <tr>\n",
       "      <th>0</th>\n",
       "      <td>2018</td>\n",
       "      <td>1</td>\n",
       "      <td>Osteria Francescana</td>\n",
       "      <td>Modena</td>\n",
       "      <td>Italy</td>\n",
       "      <td>44.6431</td>\n",
       "      <td>10.9341</td>\n",
       "    </tr>\n",
       "    <tr>\n",
       "      <th>1</th>\n",
       "      <td>2018</td>\n",
       "      <td>2</td>\n",
       "      <td>El Celler de Can Roca</td>\n",
       "      <td>Girona</td>\n",
       "      <td>Spain</td>\n",
       "      <td>41.9808</td>\n",
       "      <td>2.8187</td>\n",
       "    </tr>\n",
       "    <tr>\n",
       "      <th>2</th>\n",
       "      <td>2018</td>\n",
       "      <td>3</td>\n",
       "      <td>Mirazur</td>\n",
       "      <td>Menton</td>\n",
       "      <td>France</td>\n",
       "      <td>43.7747</td>\n",
       "      <td>7.5046</td>\n",
       "    </tr>\n",
       "    <tr>\n",
       "      <th>3</th>\n",
       "      <td>2018</td>\n",
       "      <td>4</td>\n",
       "      <td>Eleven Madison Park</td>\n",
       "      <td>New York</td>\n",
       "      <td>USA</td>\n",
       "      <td>40.7146</td>\n",
       "      <td>-74.0071</td>\n",
       "    </tr>\n",
       "    <tr>\n",
       "      <th>4</th>\n",
       "      <td>2018</td>\n",
       "      <td>5</td>\n",
       "      <td>Gaggan</td>\n",
       "      <td>Bangkok</td>\n",
       "      <td>Thailand</td>\n",
       "      <td>13.7500</td>\n",
       "      <td>100.5160</td>\n",
       "    </tr>\n",
       "  </tbody>\n",
       "</table>\n",
       "</div>"
      ],
      "text/plain": [
       "   Year  Ranking                   Name      City   Country  Latitude  \\\n",
       "0  2018        1    Osteria Francescana    Modena     Italy   44.6431   \n",
       "1  2018        2  El Celler de Can Roca    Girona     Spain   41.9808   \n",
       "2  2018        3                Mirazur    Menton    France   43.7747   \n",
       "3  2018        4    Eleven Madison Park  New York       USA   40.7146   \n",
       "4  2018        5                 Gaggan   Bangkok  Thailand   13.7500   \n",
       "\n",
       "   Longitude  \n",
       "0    10.9341  \n",
       "1     2.8187  \n",
       "2     7.5046  \n",
       "3   -74.0071  \n",
       "4   100.5160  "
      ]
     },
     "execution_count": 138,
     "metadata": {},
     "output_type": "execute_result"
    }
   ],
   "source": [
    "(df.head())"
   ]
  },
  {
   "cell_type": "markdown",
   "metadata": {
    "id": "eaHsFEJebqAl"
   },
   "source": [
    "**Question 2: Part B** Using this variable, print out the last five rows of the dataset."
   ]
  },
  {
   "cell_type": "code",
   "execution_count": 137,
   "metadata": {
    "id": "pMLL3vnKbqAm"
   },
   "outputs": [
    {
     "data": {
      "text/html": [
       "<div>\n",
       "<style scoped>\n",
       "    .dataframe tbody tr th:only-of-type {\n",
       "        vertical-align: middle;\n",
       "    }\n",
       "\n",
       "    .dataframe tbody tr th {\n",
       "        vertical-align: top;\n",
       "    }\n",
       "\n",
       "    .dataframe thead th {\n",
       "        text-align: right;\n",
       "    }\n",
       "</style>\n",
       "<table border=\"1\" class=\"dataframe\">\n",
       "  <thead>\n",
       "    <tr style=\"text-align: right;\">\n",
       "      <th></th>\n",
       "      <th>Year</th>\n",
       "      <th>Ranking</th>\n",
       "      <th>Name</th>\n",
       "      <th>City</th>\n",
       "      <th>Country</th>\n",
       "      <th>Latitude</th>\n",
       "      <th>Longitude</th>\n",
       "    </tr>\n",
       "  </thead>\n",
       "  <tbody>\n",
       "    <tr>\n",
       "      <th>45</th>\n",
       "      <td>2018</td>\n",
       "      <td>46</td>\n",
       "      <td>Saison</td>\n",
       "      <td>San Francisco</td>\n",
       "      <td>USA</td>\n",
       "      <td>37.777100</td>\n",
       "      <td>-122.419600</td>\n",
       "    </tr>\n",
       "    <tr>\n",
       "      <th>46</th>\n",
       "      <td>2018</td>\n",
       "      <td>47</td>\n",
       "      <td>Schloss Schauenstein</td>\n",
       "      <td>Fürstenau</td>\n",
       "      <td>Switzerland</td>\n",
       "      <td>46.716667</td>\n",
       "      <td>9.433333</td>\n",
       "    </tr>\n",
       "    <tr>\n",
       "      <th>47</th>\n",
       "      <td>2018</td>\n",
       "      <td>48</td>\n",
       "      <td>Hiša Franko</td>\n",
       "      <td>Kobarid</td>\n",
       "      <td>Slovenia</td>\n",
       "      <td>46.246436</td>\n",
       "      <td>13.578006</td>\n",
       "    </tr>\n",
       "    <tr>\n",
       "      <th>48</th>\n",
       "      <td>2018</td>\n",
       "      <td>49</td>\n",
       "      <td>Nahm</td>\n",
       "      <td>Bangkok</td>\n",
       "      <td>Thailand</td>\n",
       "      <td>13.750000</td>\n",
       "      <td>100.516000</td>\n",
       "    </tr>\n",
       "    <tr>\n",
       "      <th>49</th>\n",
       "      <td>2018</td>\n",
       "      <td>50</td>\n",
       "      <td>The Test Kitchen</td>\n",
       "      <td>Cape Town</td>\n",
       "      <td>South Africa</td>\n",
       "      <td>-33.916000</td>\n",
       "      <td>18.416000</td>\n",
       "    </tr>\n",
       "  </tbody>\n",
       "</table>\n",
       "</div>"
      ],
      "text/plain": [
       "    Year  Ranking                  Name           City       Country  \\\n",
       "45  2018       46                Saison  San Francisco           USA   \n",
       "46  2018       47  Schloss Schauenstein      Fürstenau   Switzerland   \n",
       "47  2018       48           Hiša Franko        Kobarid      Slovenia   \n",
       "48  2018       49                  Nahm        Bangkok      Thailand   \n",
       "49  2018       50      The Test Kitchen      Cape Town  South Africa   \n",
       "\n",
       "     Latitude   Longitude  \n",
       "45  37.777100 -122.419600  \n",
       "46  46.716667    9.433333  \n",
       "47  46.246436   13.578006  \n",
       "48  13.750000  100.516000  \n",
       "49 -33.916000   18.416000  "
      ]
     },
     "execution_count": 137,
     "metadata": {},
     "output_type": "execute_result"
    }
   ],
   "source": [
    "(df.tail())"
   ]
  },
  {
   "cell_type": "markdown",
   "metadata": {
    "id": "enA9MtEDbqAo"
   },
   "source": [
    "**Question 3 Part A:** Which country is the most popular in the list of top 50 restaurants? "
   ]
  },
  {
   "cell_type": "code",
   "execution_count": 22,
   "metadata": {
    "id": "R_YcLrJpbqAp"
   },
   "outputs": [
    {
     "data": {
      "text/plain": [
       "0    Italy\n",
       "Name: Country, dtype: object"
      ]
     },
     "execution_count": 22,
     "metadata": {},
     "output_type": "execute_result"
    }
   ],
   "source": [
    "df.loc[df[\"Ranking\"]==1,\"Country\"]"
   ]
  },
  {
   "cell_type": "markdown",
   "metadata": {
    "id": "Rze30cSMbqAq"
   },
   "source": [
    "**Question 3 Part B:** Which city is the most popular in the list of top 50 restaurants? "
   ]
  },
  {
   "cell_type": "code",
   "execution_count": 136,
   "metadata": {
    "id": "iB_4VJwdbqAr"
   },
   "outputs": [
    {
     "data": {
      "text/plain": [
       "0    Modena\n",
       "Name: City, dtype: object"
      ]
     },
     "execution_count": 136,
     "metadata": {},
     "output_type": "execute_result"
    }
   ],
   "source": [
    "\n",
    "\n",
    "df.loc[df[\"Ranking\"]==1, \"City\"]"
   ]
  },
  {
   "cell_type": "markdown",
   "metadata": {
    "id": "dqmppovfbqAs"
   },
   "source": [
    "**Question 4:** Print the dataframe with restaurants ranking between 35-40 (exclusive of 35 and 40)."
   ]
  },
  {
   "cell_type": "code",
   "execution_count": 127,
   "metadata": {
    "id": "9JQyBTNibqAt"
   },
   "outputs": [
    {
     "data": {
      "text/html": [
       "<div>\n",
       "<style scoped>\n",
       "    .dataframe tbody tr th:only-of-type {\n",
       "        vertical-align: middle;\n",
       "    }\n",
       "\n",
       "    .dataframe tbody tr th {\n",
       "        vertical-align: top;\n",
       "    }\n",
       "\n",
       "    .dataframe thead th {\n",
       "        text-align: right;\n",
       "    }\n",
       "</style>\n",
       "<table border=\"1\" class=\"dataframe\">\n",
       "  <thead>\n",
       "    <tr style=\"text-align: right;\">\n",
       "      <th></th>\n",
       "      <th>Year</th>\n",
       "      <th>Ranking</th>\n",
       "      <th>Name</th>\n",
       "      <th>City</th>\n",
       "      <th>Country</th>\n",
       "      <th>Latitude</th>\n",
       "      <th>Longitude</th>\n",
       "    </tr>\n",
       "  </thead>\n",
       "  <tbody>\n",
       "    <tr>\n",
       "      <th>35</th>\n",
       "      <td>2018</td>\n",
       "      <td>36</td>\n",
       "      <td>Reale</td>\n",
       "      <td>Castel di Sangro</td>\n",
       "      <td>Italy</td>\n",
       "      <td>41.783333</td>\n",
       "      <td>14.1000</td>\n",
       "    </tr>\n",
       "    <tr>\n",
       "      <th>36</th>\n",
       "      <td>2018</td>\n",
       "      <td>37</td>\n",
       "      <td>Restaurant Tim Raue</td>\n",
       "      <td>Berlin</td>\n",
       "      <td>Germany</td>\n",
       "      <td>52.516100</td>\n",
       "      <td>13.3770</td>\n",
       "    </tr>\n",
       "    <tr>\n",
       "      <th>37</th>\n",
       "      <td>2018</td>\n",
       "      <td>38</td>\n",
       "      <td>Lyle's</td>\n",
       "      <td>London</td>\n",
       "      <td>UK</td>\n",
       "      <td>51.506400</td>\n",
       "      <td>-0.1272</td>\n",
       "    </tr>\n",
       "    <tr>\n",
       "      <th>38</th>\n",
       "      <td>2018</td>\n",
       "      <td>39</td>\n",
       "      <td>Astrid y Gastón</td>\n",
       "      <td>Lima</td>\n",
       "      <td>Peru</td>\n",
       "      <td>-12.043000</td>\n",
       "      <td>-77.0280</td>\n",
       "    </tr>\n",
       "  </tbody>\n",
       "</table>\n",
       "</div>"
      ],
      "text/plain": [
       "    Year  Ranking                 Name              City  Country   Latitude  \\\n",
       "35  2018       36                Reale  Castel di Sangro    Italy  41.783333   \n",
       "36  2018       37  Restaurant Tim Raue            Berlin  Germany  52.516100   \n",
       "37  2018       38               Lyle's            London       UK  51.506400   \n",
       "38  2018       39      Astrid y Gastón              Lima     Peru -12.043000   \n",
       "\n",
       "    Longitude  \n",
       "35    14.1000  \n",
       "36    13.3770  \n",
       "37    -0.1272  \n",
       "38   -77.0280  "
      ]
     },
     "execution_count": 127,
     "metadata": {},
     "output_type": "execute_result"
    }
   ],
   "source": [
    "df.loc[((df[\"Ranking\"]> 35) & (df[\"Ranking\"] < 40))]"
   ]
  },
  {
   "cell_type": "markdown",
   "metadata": {
    "id": "tlCWnY2YbqAu"
   },
   "source": [
    "**Question 5:** Print the dataframe with restaurants ranking 20-30 (inclusive of 20 and 30) in UK, USA and Spain."
   ]
  },
  {
   "cell_type": "code",
   "execution_count": 45,
   "metadata": {
    "id": "k6_axaY1bqAv"
   },
   "outputs": [
    {
     "data": {
      "text/html": [
       "<div>\n",
       "<style scoped>\n",
       "    .dataframe tbody tr th:only-of-type {\n",
       "        vertical-align: middle;\n",
       "    }\n",
       "\n",
       "    .dataframe tbody tr th {\n",
       "        vertical-align: top;\n",
       "    }\n",
       "\n",
       "    .dataframe thead th {\n",
       "        text-align: right;\n",
       "    }\n",
       "</style>\n",
       "<table border=\"1\" class=\"dataframe\">\n",
       "  <thead>\n",
       "    <tr style=\"text-align: right;\">\n",
       "      <th></th>\n",
       "      <th>Year</th>\n",
       "      <th>Ranking</th>\n",
       "      <th>Name</th>\n",
       "      <th>City</th>\n",
       "      <th>Country</th>\n",
       "      <th>Latitude</th>\n",
       "      <th>Longitude</th>\n",
       "    </tr>\n",
       "  </thead>\n",
       "  <tbody>\n",
       "    <tr>\n",
       "      <th>24</th>\n",
       "      <td>2018</td>\n",
       "      <td>25</td>\n",
       "      <td>Cosme</td>\n",
       "      <td>New York</td>\n",
       "      <td>USA</td>\n",
       "      <td>40.7146</td>\n",
       "      <td>-74.0071</td>\n",
       "    </tr>\n",
       "    <tr>\n",
       "      <th>25</th>\n",
       "      <td>2018</td>\n",
       "      <td>26</td>\n",
       "      <td>Le Bernardin</td>\n",
       "      <td>New York</td>\n",
       "      <td>USA</td>\n",
       "      <td>40.7146</td>\n",
       "      <td>-74.0071</td>\n",
       "    </tr>\n",
       "  </tbody>\n",
       "</table>\n",
       "</div>"
      ],
      "text/plain": [
       "    Year  Ranking          Name      City Country  Latitude  Longitude\n",
       "24  2018       25         Cosme  New York     USA   40.7146   -74.0071\n",
       "25  2018       26  Le Bernardin  New York     USA   40.7146   -74.0071"
      ]
     },
     "execution_count": 45,
     "metadata": {},
     "output_type": "execute_result"
    }
   ],
   "source": [
    "import pandas as pd\n",
    "df=pd.read_csv(\"top_50_restaurants.csv\")\n",
    "df.loc[((df['Country'] == 'UK') |(df['Country'] == 'USA')| (df['Country'] == 'Spain')) & ((df['Ranking'] >= 20) & (df['Ranking']<=30)),   'Year':] "
   ]
  },
  {
   "cell_type": "markdown",
   "metadata": {
    "id": "VyXQCsgfbqAw"
   },
   "source": [
    "**Question 6 Part A:** Does Peru have more restaurants on the list compared to Japan? Code to demonstrate this in the following cell."
   ]
  },
  {
   "cell_type": "code",
   "execution_count": 124,
   "metadata": {
    "id": "qZp_s9O1bqAx"
   },
   "outputs": [
    {
     "data": {
      "text/html": [
       "<div>\n",
       "<style scoped>\n",
       "    .dataframe tbody tr th:only-of-type {\n",
       "        vertical-align: middle;\n",
       "    }\n",
       "\n",
       "    .dataframe tbody tr th {\n",
       "        vertical-align: top;\n",
       "    }\n",
       "\n",
       "    .dataframe thead th {\n",
       "        text-align: right;\n",
       "    }\n",
       "</style>\n",
       "<table border=\"1\" class=\"dataframe\">\n",
       "  <thead>\n",
       "    <tr style=\"text-align: right;\">\n",
       "      <th></th>\n",
       "      <th>Year</th>\n",
       "      <th>Ranking</th>\n",
       "      <th>Name</th>\n",
       "      <th>City</th>\n",
       "      <th>Country</th>\n",
       "      <th>Latitude</th>\n",
       "      <th>Longitude</th>\n",
       "    </tr>\n",
       "  </thead>\n",
       "  <tbody>\n",
       "    <tr>\n",
       "      <th>16</th>\n",
       "      <td>2018</td>\n",
       "      <td>17</td>\n",
       "      <td>Den</td>\n",
       "      <td>Tokyo</td>\n",
       "      <td>Japan</td>\n",
       "      <td>35.6249</td>\n",
       "      <td>139.5856</td>\n",
       "    </tr>\n",
       "    <tr>\n",
       "      <th>21</th>\n",
       "      <td>2018</td>\n",
       "      <td>22</td>\n",
       "      <td>Narisawa</td>\n",
       "      <td>Tokyo</td>\n",
       "      <td>Japan</td>\n",
       "      <td>35.6249</td>\n",
       "      <td>139.5856</td>\n",
       "    </tr>\n",
       "    <tr>\n",
       "      <th>40</th>\n",
       "      <td>2018</td>\n",
       "      <td>41</td>\n",
       "      <td>Nihonryori RyuGin</td>\n",
       "      <td>Tokyo</td>\n",
       "      <td>Japan</td>\n",
       "      <td>35.6249</td>\n",
       "      <td>139.5856</td>\n",
       "    </tr>\n",
       "  </tbody>\n",
       "</table>\n",
       "</div>"
      ],
      "text/plain": [
       "    Year  Ranking               Name   City Country  Latitude  Longitude\n",
       "16  2018       17                Den  Tokyo   Japan   35.6249   139.5856\n",
       "21  2018       22           Narisawa  Tokyo   Japan   35.6249   139.5856\n",
       "40  2018       41  Nihonryori RyuGin  Tokyo   Japan   35.6249   139.5856"
      ]
     },
     "metadata": {},
     "output_type": "display_data"
    },
    {
     "data": {
      "text/html": [
       "<div>\n",
       "<style scoped>\n",
       "    .dataframe tbody tr th:only-of-type {\n",
       "        vertical-align: middle;\n",
       "    }\n",
       "\n",
       "    .dataframe tbody tr th {\n",
       "        vertical-align: top;\n",
       "    }\n",
       "\n",
       "    .dataframe thead th {\n",
       "        text-align: right;\n",
       "    }\n",
       "</style>\n",
       "<table border=\"1\" class=\"dataframe\">\n",
       "  <thead>\n",
       "    <tr style=\"text-align: right;\">\n",
       "      <th></th>\n",
       "      <th>Year</th>\n",
       "      <th>Ranking</th>\n",
       "      <th>Name</th>\n",
       "      <th>City</th>\n",
       "      <th>Country</th>\n",
       "      <th>Latitude</th>\n",
       "      <th>Longitude</th>\n",
       "    </tr>\n",
       "  </thead>\n",
       "  <tbody>\n",
       "    <tr>\n",
       "      <th>5</th>\n",
       "      <td>2018</td>\n",
       "      <td>6</td>\n",
       "      <td>Central</td>\n",
       "      <td>Lima</td>\n",
       "      <td>Peru</td>\n",
       "      <td>-12.043</td>\n",
       "      <td>-77.028</td>\n",
       "    </tr>\n",
       "    <tr>\n",
       "      <th>6</th>\n",
       "      <td>2018</td>\n",
       "      <td>7</td>\n",
       "      <td>Maido</td>\n",
       "      <td>Lima</td>\n",
       "      <td>Peru</td>\n",
       "      <td>-12.043</td>\n",
       "      <td>-77.028</td>\n",
       "    </tr>\n",
       "    <tr>\n",
       "      <th>38</th>\n",
       "      <td>2018</td>\n",
       "      <td>39</td>\n",
       "      <td>Astrid y Gastón</td>\n",
       "      <td>Lima</td>\n",
       "      <td>Peru</td>\n",
       "      <td>-12.043</td>\n",
       "      <td>-77.028</td>\n",
       "    </tr>\n",
       "  </tbody>\n",
       "</table>\n",
       "</div>"
      ],
      "text/plain": [
       "    Year  Ranking             Name  City Country  Latitude  Longitude\n",
       "5   2018        6          Central  Lima    Peru   -12.043    -77.028\n",
       "6   2018        7            Maido  Lima    Peru   -12.043    -77.028\n",
       "38  2018       39  Astrid y Gastón  Lima    Peru   -12.043    -77.028"
      ]
     },
     "metadata": {},
     "output_type": "display_data"
    }
   ],
   "source": [
    "from IPython.display import display\n",
    "peru=df[df[\"Country\"]=='Peru']\n",
    "japan=df[df[\"Country\"]=='Japan']\n",
    "display(japan)\n",
    "display(peru)\n",
    "\n"
   ]
  },
  {
   "cell_type": "markdown",
   "metadata": {},
   "source": [
    "**Question 6 Part B:** Give your answer as 'Yes' or 'No' according to Part A"
   ]
  },
  {
   "cell_type": "code",
   "execution_count": 89,
   "metadata": {},
   "outputs": [],
   "source": [
    "final_answer = No"
   ]
  },
  {
   "cell_type": "markdown",
   "metadata": {
    "id": "fRzdMy9NbqAy"
   },
   "source": [
    "**Well done! :) Pat yourself on the back for completing the first part**"
   ]
  },
  {
   "cell_type": "code",
   "execution_count": 125,
   "metadata": {
    "id": "a59SjmL5bqAz"
   },
   "outputs": [
    {
     "name": "stdout",
     "output_type": "stream",
     "text": [
      "Pat\n"
     ]
    }
   ],
   "source": [
    "print(\"Pat\")"
   ]
  },
  {
   "cell_type": "code",
   "execution_count": null,
   "metadata": {},
   "outputs": [],
   "source": []
  }
 ],
 "metadata": {
  "colab": {
   "collapsed_sections": [],
   "name": "A1_1.ipynb",
   "provenance": []
  },
  "kernelspec": {
   "display_name": "Python 3",
   "language": "python",
   "name": "python3"
  },
  "language_info": {
   "codemirror_mode": {
    "name": "ipython",
    "version": 3
   },
   "file_extension": ".py",
   "mimetype": "text/x-python",
   "name": "python",
   "nbconvert_exporter": "python",
   "pygments_lexer": "ipython3",
   "version": "3.8.5"
  }
 },
 "nbformat": 4,
 "nbformat_minor": 1
}
