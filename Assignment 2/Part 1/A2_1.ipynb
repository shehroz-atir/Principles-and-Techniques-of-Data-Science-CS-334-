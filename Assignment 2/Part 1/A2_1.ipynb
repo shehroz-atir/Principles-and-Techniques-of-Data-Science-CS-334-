{
 "cells": [
  {
   "cell_type": "markdown",
   "metadata": {
    "id": "4cp-Ud9VeL-A"
   },
   "source": [
    "# **Assignment 2-Part 1**"
   ]
  },
  {
   "cell_type": "markdown",
   "metadata": {
    "id": "7RjsHNvG_DzP"
   },
   "source": [
    "Expected Time to complete: 5-6 hours"
   ]
  },
  {
   "cell_type": "markdown",
   "metadata": {
    "id": "6Fg5_hmHnD5d"
   },
   "source": [
    "# **Importing Relevant Libraries**"
   ]
  },
  {
   "cell_type": "code",
   "execution_count": 769,
   "metadata": {
    "id": "WsSJZt1hm7ss"
   },
   "outputs": [],
   "source": [
    "import pandas as pd\n",
    "import numpy as np\n",
    "import matplotlib.pyplot as plt\n",
    "from matplotlib import pyplot\n",
    "import seaborn as sns"
   ]
  },
  {
   "cell_type": "markdown",
   "metadata": {
    "id": "nry-LLRQnSyy"
   },
   "source": [
    "# **Instructions**"
   ]
  },
  {
   "cell_type": "markdown",
   "metadata": {
    "id": "7TCZ2oK2nVTR"
   },
   "source": [
    "How to run this on google colab: Uncomment the below code and replace wherever necessary to run this assignment on google colab (only if you want to - jupyter notebooks work just fine)"
   ]
  },
  {
   "cell_type": "code",
   "execution_count": 770,
   "metadata": {
    "colab": {
     "base_uri": "https://localhost:8080/",
     "height": 35
    },
    "id": "BjU6rUgqnLCc",
    "outputId": "56d77ab1-b2f2-43cb-9e45-e2eacaf1de6b"
   },
   "outputs": [
    {
     "data": {
      "text/plain": [
       "'\\nLinking google colab to your drive folder\\n'"
      ]
     },
     "execution_count": 770,
     "metadata": {},
     "output_type": "execute_result"
    }
   ],
   "source": [
    "'''\n",
    "Linking google colab to your drive folder\n",
    "'''\n",
    "# from google.colab import drive\n",
    "# drive.mount('/content/gdrive', force_remount=True)"
   ]
  },
  {
   "cell_type": "code",
   "execution_count": 771,
   "metadata": {
    "colab": {
     "base_uri": "https://localhost:8080/",
     "height": 35
    },
    "id": "SZJIHtCTnnVs",
    "outputId": "282793bf-de8a-4d9e-a44b-f443b49cae2f"
   },
   "outputs": [
    {
     "data": {
      "text/plain": [
       "'\\nPlace the csv files inside your drive\\n'"
      ]
     },
     "execution_count": 771,
     "metadata": {},
     "output_type": "execute_result"
    }
   ],
   "source": [
    "'''\n",
    "Place the csv files inside your drive\n",
    "'''\n",
    "#%cd /content/gdrive/My\\ Drive/"
   ]
  },
  {
   "cell_type": "markdown",
   "metadata": {
    "id": "vRtQum90o1pB"
   },
   "source": [
    "## **Submission Instructions**"
   ]
  },
  {
   "cell_type": "markdown",
   "metadata": {
    "id": "areVb-9Tp7Se"
   },
   "source": [
    "* You should name the notebook as **YourRollNumber_PartNumber.ipynb**. (e.g. this part should be named as *`2XXXXXXX_1.ipynb`*)\n",
    "* You must submit a zip file containg just the notebook and it must not have any folder or any other file. \n",
    "* The name of the zip file must be your `Roll Number`"
   ]
  },
  {
   "cell_type": "markdown",
   "metadata": {
    "id": "5b1kWtMhmaqS"
   },
   "source": [
    "## **Plotting Instructions**"
   ]
  },
  {
   "cell_type": "markdown",
   "metadata": {
    "id": "Tc3ws6KWmglO"
   },
   "source": [
    "All plot must have a reasonable title that describes the graph, x an y axis labels, and a legend (if required) <br>\n",
    "Hint: Plots should be such that they are self-explanatory even if the background knowledge is not known. "
   ]
  },
  {
   "cell_type": "markdown",
   "metadata": {
    "id": "N_-1bPyhryfC"
   },
   "source": [
    "# **OSMI Mental Health in Tech Survey**"
   ]
  },
  {
   "cell_type": "markdown",
   "metadata": {
    "id": "mGmCC1Zwr9zk"
   },
   "source": [
    "The tech industry has observed a tremendous rise over the past decade whereby its growing advancements have made it a dream workplace for people around the globe. Consequently, a large influx of employees is observed in the tech-industry every year. However, the competitive and fast-paced environment does offer its own consequences. We will analyze the prevalence of mental health issues faced by employees in tech companies and the response from the perspective of both the employees and the companies in terms of the facilities provided to counter it.\n",
    "\n",
    "The dataset is the first of its kind. It is obtained from Open Sourcing Mental Illness, LTD, and based on a single CSV file where each row represents an individual (tech company employee) who was surveyed in 2014 about his/her mental health and its correlation with various attributes."
   ]
  },
  {
   "cell_type": "markdown",
   "metadata": {
    "id": "cqw8TqgMsnsc"
   },
   "source": [
    "## **Getting Familiar with the Data**"
   ]
  },
  {
   "cell_type": "markdown",
   "metadata": {
    "id": "8Gn3iAE3tPSC"
   },
   "source": [
    "Q1a. Load the column data from 'Cols.csv' in a dataframe to get familiar with all the columns. Display the columns (2)"
   ]
  },
  {
   "cell_type": "code",
   "execution_count": 772,
   "metadata": {
    "id": "6b99rrq1pzrj"
   },
   "outputs": [
    {
     "data": {
      "text/html": [
       "<div>\n",
       "<style scoped>\n",
       "    .dataframe tbody tr th:only-of-type {\n",
       "        vertical-align: middle;\n",
       "    }\n",
       "\n",
       "    .dataframe tbody tr th {\n",
       "        vertical-align: top;\n",
       "    }\n",
       "\n",
       "    .dataframe thead th {\n",
       "        text-align: right;\n",
       "    }\n",
       "</style>\n",
       "<table border=\"1\" class=\"dataframe\">\n",
       "  <thead>\n",
       "    <tr style=\"text-align: right;\">\n",
       "      <th></th>\n",
       "      <th>Column</th>\n",
       "      <th>Description</th>\n",
       "    </tr>\n",
       "  </thead>\n",
       "  <tbody>\n",
       "    <tr>\n",
       "      <th>0</th>\n",
       "      <td>Timestamp</td>\n",
       "      <td>Time</td>\n",
       "    </tr>\n",
       "    <tr>\n",
       "      <th>1</th>\n",
       "      <td>Age</td>\n",
       "      <td>Age</td>\n",
       "    </tr>\n",
       "    <tr>\n",
       "      <th>2</th>\n",
       "      <td>Gender</td>\n",
       "      <td>Gender</td>\n",
       "    </tr>\n",
       "    <tr>\n",
       "      <th>3</th>\n",
       "      <td>Country</td>\n",
       "      <td>Country</td>\n",
       "    </tr>\n",
       "    <tr>\n",
       "      <th>4</th>\n",
       "      <td>state</td>\n",
       "      <td>If you live in the United States, which state ...</td>\n",
       "    </tr>\n",
       "  </tbody>\n",
       "</table>\n",
       "</div>"
      ],
      "text/plain": [
       "      Column                                        Description\n",
       "0  Timestamp                                               Time\n",
       "1        Age                                                Age\n",
       "2     Gender                                             Gender\n",
       "3    Country                                            Country\n",
       "4      state  If you live in the United States, which state ..."
      ]
     },
     "execution_count": 772,
     "metadata": {},
     "output_type": "execute_result"
    }
   ],
   "source": [
    "# Enter Code here\n",
    "df = pd.read_csv('Cols.csv')\n",
    "df.head()"
   ]
  },
  {
   "cell_type": "markdown",
   "metadata": {
    "id": "dW-gI39Etaqk"
   },
   "source": [
    "Q1b. Load the actual data from 'Tech.csv' in a dataframe to get familiar with the dataset. Display the data (2)"
   ]
  },
  {
   "cell_type": "code",
   "execution_count": 773,
   "metadata": {
    "id": "dyw0WMXbtlxj"
   },
   "outputs": [
    {
     "data": {
      "text/html": [
       "<div>\n",
       "<style scoped>\n",
       "    .dataframe tbody tr th:only-of-type {\n",
       "        vertical-align: middle;\n",
       "    }\n",
       "\n",
       "    .dataframe tbody tr th {\n",
       "        vertical-align: top;\n",
       "    }\n",
       "\n",
       "    .dataframe thead th {\n",
       "        text-align: right;\n",
       "    }\n",
       "</style>\n",
       "<table border=\"1\" class=\"dataframe\">\n",
       "  <thead>\n",
       "    <tr style=\"text-align: right;\">\n",
       "      <th></th>\n",
       "      <th>Timestamp</th>\n",
       "      <th>Age</th>\n",
       "      <th>Gender</th>\n",
       "      <th>Country</th>\n",
       "      <th>state</th>\n",
       "      <th>self_employed</th>\n",
       "      <th>family_history</th>\n",
       "      <th>treatment</th>\n",
       "      <th>work_interfere</th>\n",
       "      <th>no_employees</th>\n",
       "      <th>...</th>\n",
       "      <th>leave</th>\n",
       "      <th>mental_health_consequence</th>\n",
       "      <th>phys_health_consequence</th>\n",
       "      <th>coworkers</th>\n",
       "      <th>supervisor</th>\n",
       "      <th>mental_health_interview</th>\n",
       "      <th>phys_health_interview</th>\n",
       "      <th>mental_vs_physical</th>\n",
       "      <th>obs_consequence</th>\n",
       "      <th>comments</th>\n",
       "    </tr>\n",
       "  </thead>\n",
       "  <tbody>\n",
       "    <tr>\n",
       "      <th>0</th>\n",
       "      <td>2014-08-27 11:29:31</td>\n",
       "      <td>37</td>\n",
       "      <td>Female</td>\n",
       "      <td>United States</td>\n",
       "      <td>IL</td>\n",
       "      <td>NaN</td>\n",
       "      <td>No</td>\n",
       "      <td>Yes</td>\n",
       "      <td>Often</td>\n",
       "      <td>6-25</td>\n",
       "      <td>...</td>\n",
       "      <td>Somewhat easy</td>\n",
       "      <td>No</td>\n",
       "      <td>No</td>\n",
       "      <td>Some of them</td>\n",
       "      <td>Yes</td>\n",
       "      <td>No</td>\n",
       "      <td>Maybe</td>\n",
       "      <td>Yes</td>\n",
       "      <td>No</td>\n",
       "      <td>NaN</td>\n",
       "    </tr>\n",
       "    <tr>\n",
       "      <th>1</th>\n",
       "      <td>2014-08-27 11:29:37</td>\n",
       "      <td>44</td>\n",
       "      <td>M</td>\n",
       "      <td>United States</td>\n",
       "      <td>IN</td>\n",
       "      <td>NaN</td>\n",
       "      <td>No</td>\n",
       "      <td>No</td>\n",
       "      <td>Rarely</td>\n",
       "      <td>More than 1000</td>\n",
       "      <td>...</td>\n",
       "      <td>Don't know</td>\n",
       "      <td>Maybe</td>\n",
       "      <td>No</td>\n",
       "      <td>No</td>\n",
       "      <td>No</td>\n",
       "      <td>No</td>\n",
       "      <td>No</td>\n",
       "      <td>Don't know</td>\n",
       "      <td>No</td>\n",
       "      <td>NaN</td>\n",
       "    </tr>\n",
       "    <tr>\n",
       "      <th>2</th>\n",
       "      <td>2014-08-27 11:29:44</td>\n",
       "      <td>32</td>\n",
       "      <td>Male</td>\n",
       "      <td>Canada</td>\n",
       "      <td>NaN</td>\n",
       "      <td>NaN</td>\n",
       "      <td>No</td>\n",
       "      <td>No</td>\n",
       "      <td>Rarely</td>\n",
       "      <td>6-25</td>\n",
       "      <td>...</td>\n",
       "      <td>Somewhat difficult</td>\n",
       "      <td>No</td>\n",
       "      <td>No</td>\n",
       "      <td>Yes</td>\n",
       "      <td>Yes</td>\n",
       "      <td>Yes</td>\n",
       "      <td>Yes</td>\n",
       "      <td>No</td>\n",
       "      <td>No</td>\n",
       "      <td>NaN</td>\n",
       "    </tr>\n",
       "    <tr>\n",
       "      <th>3</th>\n",
       "      <td>2014-08-27 11:29:46</td>\n",
       "      <td>31</td>\n",
       "      <td>Male</td>\n",
       "      <td>United Kingdom</td>\n",
       "      <td>NaN</td>\n",
       "      <td>NaN</td>\n",
       "      <td>Yes</td>\n",
       "      <td>Yes</td>\n",
       "      <td>Often</td>\n",
       "      <td>26-100</td>\n",
       "      <td>...</td>\n",
       "      <td>Somewhat difficult</td>\n",
       "      <td>Yes</td>\n",
       "      <td>Yes</td>\n",
       "      <td>Some of them</td>\n",
       "      <td>No</td>\n",
       "      <td>Maybe</td>\n",
       "      <td>Maybe</td>\n",
       "      <td>No</td>\n",
       "      <td>Yes</td>\n",
       "      <td>NaN</td>\n",
       "    </tr>\n",
       "    <tr>\n",
       "      <th>4</th>\n",
       "      <td>2014-08-27 11:30:22</td>\n",
       "      <td>31</td>\n",
       "      <td>Male</td>\n",
       "      <td>United States</td>\n",
       "      <td>TX</td>\n",
       "      <td>NaN</td>\n",
       "      <td>No</td>\n",
       "      <td>No</td>\n",
       "      <td>Never</td>\n",
       "      <td>100-500</td>\n",
       "      <td>...</td>\n",
       "      <td>Don't know</td>\n",
       "      <td>No</td>\n",
       "      <td>No</td>\n",
       "      <td>Some of them</td>\n",
       "      <td>Yes</td>\n",
       "      <td>Yes</td>\n",
       "      <td>Yes</td>\n",
       "      <td>Don't know</td>\n",
       "      <td>No</td>\n",
       "      <td>NaN</td>\n",
       "    </tr>\n",
       "  </tbody>\n",
       "</table>\n",
       "<p>5 rows × 27 columns</p>\n",
       "</div>"
      ],
      "text/plain": [
       "             Timestamp  Age  Gender         Country state self_employed  \\\n",
       "0  2014-08-27 11:29:31   37  Female   United States    IL           NaN   \n",
       "1  2014-08-27 11:29:37   44       M   United States    IN           NaN   \n",
       "2  2014-08-27 11:29:44   32    Male          Canada   NaN           NaN   \n",
       "3  2014-08-27 11:29:46   31    Male  United Kingdom   NaN           NaN   \n",
       "4  2014-08-27 11:30:22   31    Male   United States    TX           NaN   \n",
       "\n",
       "  family_history treatment work_interfere    no_employees  ...  \\\n",
       "0             No       Yes          Often            6-25  ...   \n",
       "1             No        No         Rarely  More than 1000  ...   \n",
       "2             No        No         Rarely            6-25  ...   \n",
       "3            Yes       Yes          Often          26-100  ...   \n",
       "4             No        No          Never         100-500  ...   \n",
       "\n",
       "                leave mental_health_consequence phys_health_consequence  \\\n",
       "0       Somewhat easy                        No                      No   \n",
       "1          Don't know                     Maybe                      No   \n",
       "2  Somewhat difficult                        No                      No   \n",
       "3  Somewhat difficult                       Yes                     Yes   \n",
       "4          Don't know                        No                      No   \n",
       "\n",
       "      coworkers supervisor mental_health_interview phys_health_interview  \\\n",
       "0  Some of them        Yes                      No                 Maybe   \n",
       "1            No         No                      No                    No   \n",
       "2           Yes        Yes                     Yes                   Yes   \n",
       "3  Some of them         No                   Maybe                 Maybe   \n",
       "4  Some of them        Yes                     Yes                   Yes   \n",
       "\n",
       "  mental_vs_physical obs_consequence comments  \n",
       "0                Yes              No      NaN  \n",
       "1         Don't know              No      NaN  \n",
       "2                 No              No      NaN  \n",
       "3                 No             Yes      NaN  \n",
       "4         Don't know              No      NaN  \n",
       "\n",
       "[5 rows x 27 columns]"
      ]
     },
     "execution_count": 773,
     "metadata": {},
     "output_type": "execute_result"
    }
   ],
   "source": [
    "# Enter Code here\n",
    "df_t = pd.read_csv('Tech.csv')\n",
    "df_t.head()"
   ]
  },
  {
   "cell_type": "markdown",
   "metadata": {
    "id": "j0lrDbB9t4KT"
   },
   "source": [
    "Q2. What is the shape of the dataset? Print the shape, and clearly specify the number of rows and columns (3)"
   ]
  },
  {
   "cell_type": "code",
   "execution_count": 774,
   "metadata": {
    "id": "RmZ7HV7cuDOK"
   },
   "outputs": [
    {
     "name": "stdout",
     "output_type": "stream",
     "text": [
      "rows: 1259\n",
      "Columns: 27\n"
     ]
    }
   ],
   "source": [
    "# Enter Code here\n",
    "print(\"rows:\" ,df_t.shape[0])\n",
    "print(\"Columns:\", df_t.shape[1])\n",
    "#df_t.shape[0]"
   ]
  },
  {
   "cell_type": "markdown",
   "metadata": {
    "id": "Z_Ilv9MYupWZ"
   },
   "source": [
    "Q3. Take a random sample of 10 rows from the dataset and analyze it. What weaknesses do you see in the dataset? Write down the weaknesses (atleast 4) you observe as comments (You can repeat the process of sampling to get a better idea of the issues in the dataset) (1+4)"
   ]
  },
  {
   "cell_type": "code",
   "execution_count": 775,
   "metadata": {
    "id": "VpvwIgFHvQvX"
   },
   "outputs": [
    {
     "data": {
      "text/html": [
       "<div>\n",
       "<style scoped>\n",
       "    .dataframe tbody tr th:only-of-type {\n",
       "        vertical-align: middle;\n",
       "    }\n",
       "\n",
       "    .dataframe tbody tr th {\n",
       "        vertical-align: top;\n",
       "    }\n",
       "\n",
       "    .dataframe thead th {\n",
       "        text-align: right;\n",
       "    }\n",
       "</style>\n",
       "<table border=\"1\" class=\"dataframe\">\n",
       "  <thead>\n",
       "    <tr style=\"text-align: right;\">\n",
       "      <th></th>\n",
       "      <th>Timestamp</th>\n",
       "      <th>Age</th>\n",
       "      <th>Gender</th>\n",
       "      <th>Country</th>\n",
       "      <th>state</th>\n",
       "      <th>self_employed</th>\n",
       "      <th>family_history</th>\n",
       "      <th>treatment</th>\n",
       "      <th>work_interfere</th>\n",
       "      <th>no_employees</th>\n",
       "      <th>...</th>\n",
       "      <th>leave</th>\n",
       "      <th>mental_health_consequence</th>\n",
       "      <th>phys_health_consequence</th>\n",
       "      <th>coworkers</th>\n",
       "      <th>supervisor</th>\n",
       "      <th>mental_health_interview</th>\n",
       "      <th>phys_health_interview</th>\n",
       "      <th>mental_vs_physical</th>\n",
       "      <th>obs_consequence</th>\n",
       "      <th>comments</th>\n",
       "    </tr>\n",
       "  </thead>\n",
       "  <tbody>\n",
       "    <tr>\n",
       "      <th>1155</th>\n",
       "      <td>2014-09-02 13:18:35</td>\n",
       "      <td>32</td>\n",
       "      <td>male</td>\n",
       "      <td>Canada</td>\n",
       "      <td>NaN</td>\n",
       "      <td>Yes</td>\n",
       "      <td>No</td>\n",
       "      <td>No</td>\n",
       "      <td>Never</td>\n",
       "      <td>6-25</td>\n",
       "      <td>...</td>\n",
       "      <td>Very easy</td>\n",
       "      <td>No</td>\n",
       "      <td>No</td>\n",
       "      <td>Yes</td>\n",
       "      <td>Yes</td>\n",
       "      <td>Maybe</td>\n",
       "      <td>Maybe</td>\n",
       "      <td>Yes</td>\n",
       "      <td>No</td>\n",
       "      <td>NaN</td>\n",
       "    </tr>\n",
       "    <tr>\n",
       "      <th>111</th>\n",
       "      <td>2014-08-27 12:31:02</td>\n",
       "      <td>28</td>\n",
       "      <td>Male</td>\n",
       "      <td>United States</td>\n",
       "      <td>CA</td>\n",
       "      <td>No</td>\n",
       "      <td>No</td>\n",
       "      <td>Yes</td>\n",
       "      <td>Sometimes</td>\n",
       "      <td>26-100</td>\n",
       "      <td>...</td>\n",
       "      <td>Somewhat easy</td>\n",
       "      <td>No</td>\n",
       "      <td>No</td>\n",
       "      <td>Some of them</td>\n",
       "      <td>Some of them</td>\n",
       "      <td>No</td>\n",
       "      <td>Maybe</td>\n",
       "      <td>Yes</td>\n",
       "      <td>No</td>\n",
       "      <td>NaN</td>\n",
       "    </tr>\n",
       "    <tr>\n",
       "      <th>564</th>\n",
       "      <td>2014-08-27 19:34:26</td>\n",
       "      <td>40</td>\n",
       "      <td>Male</td>\n",
       "      <td>Canada</td>\n",
       "      <td>NaN</td>\n",
       "      <td>No</td>\n",
       "      <td>No</td>\n",
       "      <td>No</td>\n",
       "      <td>Never</td>\n",
       "      <td>26-100</td>\n",
       "      <td>...</td>\n",
       "      <td>Somewhat difficult</td>\n",
       "      <td>No</td>\n",
       "      <td>No</td>\n",
       "      <td>Some of them</td>\n",
       "      <td>Some of them</td>\n",
       "      <td>No</td>\n",
       "      <td>No</td>\n",
       "      <td>No</td>\n",
       "      <td>No</td>\n",
       "      <td>NaN</td>\n",
       "    </tr>\n",
       "    <tr>\n",
       "      <th>547</th>\n",
       "      <td>2014-08-27 18:18:18</td>\n",
       "      <td>36</td>\n",
       "      <td>Male</td>\n",
       "      <td>United States</td>\n",
       "      <td>CA</td>\n",
       "      <td>No</td>\n",
       "      <td>Yes</td>\n",
       "      <td>Yes</td>\n",
       "      <td>Sometimes</td>\n",
       "      <td>More than 1000</td>\n",
       "      <td>...</td>\n",
       "      <td>Somewhat difficult</td>\n",
       "      <td>Yes</td>\n",
       "      <td>No</td>\n",
       "      <td>Some of them</td>\n",
       "      <td>Yes</td>\n",
       "      <td>No</td>\n",
       "      <td>Yes</td>\n",
       "      <td>No</td>\n",
       "      <td>No</td>\n",
       "      <td>NaN</td>\n",
       "    </tr>\n",
       "    <tr>\n",
       "      <th>201</th>\n",
       "      <td>2014-08-27 12:57:52</td>\n",
       "      <td>34</td>\n",
       "      <td>female</td>\n",
       "      <td>United States</td>\n",
       "      <td>MN</td>\n",
       "      <td>No</td>\n",
       "      <td>No</td>\n",
       "      <td>Yes</td>\n",
       "      <td>Sometimes</td>\n",
       "      <td>500-1000</td>\n",
       "      <td>...</td>\n",
       "      <td>Somewhat easy</td>\n",
       "      <td>Maybe</td>\n",
       "      <td>No</td>\n",
       "      <td>Some of them</td>\n",
       "      <td>Yes</td>\n",
       "      <td>No</td>\n",
       "      <td>No</td>\n",
       "      <td>Yes</td>\n",
       "      <td>No</td>\n",
       "      <td>NaN</td>\n",
       "    </tr>\n",
       "    <tr>\n",
       "      <th>1128</th>\n",
       "      <td>2014-08-31 04:31:11</td>\n",
       "      <td>37</td>\n",
       "      <td>Male</td>\n",
       "      <td>Netherlands</td>\n",
       "      <td>NaN</td>\n",
       "      <td>No</td>\n",
       "      <td>Yes</td>\n",
       "      <td>No</td>\n",
       "      <td>Sometimes</td>\n",
       "      <td>6-25</td>\n",
       "      <td>...</td>\n",
       "      <td>Somewhat easy</td>\n",
       "      <td>Maybe</td>\n",
       "      <td>No</td>\n",
       "      <td>Some of them</td>\n",
       "      <td>Yes</td>\n",
       "      <td>No</td>\n",
       "      <td>Maybe</td>\n",
       "      <td>Yes</td>\n",
       "      <td>No</td>\n",
       "      <td>NaN</td>\n",
       "    </tr>\n",
       "    <tr>\n",
       "      <th>714</th>\n",
       "      <td>2014-08-28 10:07:37</td>\n",
       "      <td>32</td>\n",
       "      <td>Male</td>\n",
       "      <td>United States</td>\n",
       "      <td>PA</td>\n",
       "      <td>Yes</td>\n",
       "      <td>Yes</td>\n",
       "      <td>Yes</td>\n",
       "      <td>Sometimes</td>\n",
       "      <td>1-5</td>\n",
       "      <td>...</td>\n",
       "      <td>Very difficult</td>\n",
       "      <td>Yes</td>\n",
       "      <td>Maybe</td>\n",
       "      <td>Some of them</td>\n",
       "      <td>No</td>\n",
       "      <td>No</td>\n",
       "      <td>No</td>\n",
       "      <td>No</td>\n",
       "      <td>No</td>\n",
       "      <td>NaN</td>\n",
       "    </tr>\n",
       "    <tr>\n",
       "      <th>689</th>\n",
       "      <td>2014-08-28 09:54:21</td>\n",
       "      <td>27</td>\n",
       "      <td>f</td>\n",
       "      <td>United Kingdom</td>\n",
       "      <td>NaN</td>\n",
       "      <td>No</td>\n",
       "      <td>No</td>\n",
       "      <td>Yes</td>\n",
       "      <td>Sometimes</td>\n",
       "      <td>6-25</td>\n",
       "      <td>...</td>\n",
       "      <td>Very easy</td>\n",
       "      <td>No</td>\n",
       "      <td>No</td>\n",
       "      <td>Yes</td>\n",
       "      <td>Yes</td>\n",
       "      <td>Maybe</td>\n",
       "      <td>Maybe</td>\n",
       "      <td>Yes</td>\n",
       "      <td>No</td>\n",
       "      <td>NaN</td>\n",
       "    </tr>\n",
       "    <tr>\n",
       "      <th>964</th>\n",
       "      <td>2014-08-29 05:47:19</td>\n",
       "      <td>55</td>\n",
       "      <td>male</td>\n",
       "      <td>United Kingdom</td>\n",
       "      <td>NaN</td>\n",
       "      <td>No</td>\n",
       "      <td>No</td>\n",
       "      <td>Yes</td>\n",
       "      <td>Often</td>\n",
       "      <td>More than 1000</td>\n",
       "      <td>...</td>\n",
       "      <td>Somewhat easy</td>\n",
       "      <td>Yes</td>\n",
       "      <td>Maybe</td>\n",
       "      <td>No</td>\n",
       "      <td>Some of them</td>\n",
       "      <td>No</td>\n",
       "      <td>Maybe</td>\n",
       "      <td>No</td>\n",
       "      <td>Yes</td>\n",
       "      <td>NaN</td>\n",
       "    </tr>\n",
       "    <tr>\n",
       "      <th>341</th>\n",
       "      <td>2014-08-27 14:39:07</td>\n",
       "      <td>33</td>\n",
       "      <td>f</td>\n",
       "      <td>United States</td>\n",
       "      <td>WA</td>\n",
       "      <td>No</td>\n",
       "      <td>Yes</td>\n",
       "      <td>No</td>\n",
       "      <td>Sometimes</td>\n",
       "      <td>26-100</td>\n",
       "      <td>...</td>\n",
       "      <td>Very difficult</td>\n",
       "      <td>Yes</td>\n",
       "      <td>Maybe</td>\n",
       "      <td>Some of them</td>\n",
       "      <td>Some of them</td>\n",
       "      <td>No</td>\n",
       "      <td>Maybe</td>\n",
       "      <td>No</td>\n",
       "      <td>No</td>\n",
       "      <td>NaN</td>\n",
       "    </tr>\n",
       "  </tbody>\n",
       "</table>\n",
       "<p>10 rows × 27 columns</p>\n",
       "</div>"
      ],
      "text/plain": [
       "                Timestamp  Age  Gender         Country state self_employed  \\\n",
       "1155  2014-09-02 13:18:35   32    male          Canada   NaN           Yes   \n",
       "111   2014-08-27 12:31:02   28    Male   United States    CA            No   \n",
       "564   2014-08-27 19:34:26   40    Male          Canada   NaN            No   \n",
       "547   2014-08-27 18:18:18   36    Male   United States    CA            No   \n",
       "201   2014-08-27 12:57:52   34  female   United States    MN            No   \n",
       "1128  2014-08-31 04:31:11   37    Male     Netherlands   NaN            No   \n",
       "714   2014-08-28 10:07:37   32    Male   United States    PA           Yes   \n",
       "689   2014-08-28 09:54:21   27       f  United Kingdom   NaN            No   \n",
       "964   2014-08-29 05:47:19   55    male  United Kingdom   NaN            No   \n",
       "341   2014-08-27 14:39:07   33       f   United States    WA            No   \n",
       "\n",
       "     family_history treatment work_interfere    no_employees  ...  \\\n",
       "1155             No        No          Never            6-25  ...   \n",
       "111              No       Yes      Sometimes          26-100  ...   \n",
       "564              No        No          Never          26-100  ...   \n",
       "547             Yes       Yes      Sometimes  More than 1000  ...   \n",
       "201              No       Yes      Sometimes        500-1000  ...   \n",
       "1128            Yes        No      Sometimes            6-25  ...   \n",
       "714             Yes       Yes      Sometimes             1-5  ...   \n",
       "689              No       Yes      Sometimes            6-25  ...   \n",
       "964              No       Yes          Often  More than 1000  ...   \n",
       "341             Yes        No      Sometimes          26-100  ...   \n",
       "\n",
       "                   leave mental_health_consequence phys_health_consequence  \\\n",
       "1155           Very easy                        No                      No   \n",
       "111        Somewhat easy                        No                      No   \n",
       "564   Somewhat difficult                        No                      No   \n",
       "547   Somewhat difficult                       Yes                      No   \n",
       "201        Somewhat easy                     Maybe                      No   \n",
       "1128       Somewhat easy                     Maybe                      No   \n",
       "714       Very difficult                       Yes                   Maybe   \n",
       "689            Very easy                        No                      No   \n",
       "964        Somewhat easy                       Yes                   Maybe   \n",
       "341       Very difficult                       Yes                   Maybe   \n",
       "\n",
       "         coworkers    supervisor mental_health_interview  \\\n",
       "1155           Yes           Yes                   Maybe   \n",
       "111   Some of them  Some of them                      No   \n",
       "564   Some of them  Some of them                      No   \n",
       "547   Some of them           Yes                      No   \n",
       "201   Some of them           Yes                      No   \n",
       "1128  Some of them           Yes                      No   \n",
       "714   Some of them            No                      No   \n",
       "689            Yes           Yes                   Maybe   \n",
       "964             No  Some of them                      No   \n",
       "341   Some of them  Some of them                      No   \n",
       "\n",
       "     phys_health_interview mental_vs_physical obs_consequence comments  \n",
       "1155                 Maybe                Yes              No      NaN  \n",
       "111                  Maybe                Yes              No      NaN  \n",
       "564                     No                 No              No      NaN  \n",
       "547                    Yes                 No              No      NaN  \n",
       "201                     No                Yes              No      NaN  \n",
       "1128                 Maybe                Yes              No      NaN  \n",
       "714                     No                 No              No      NaN  \n",
       "689                  Maybe                Yes              No      NaN  \n",
       "964                  Maybe                 No             Yes      NaN  \n",
       "341                  Maybe                 No              No      NaN  \n",
       "\n",
       "[10 rows x 27 columns]"
      ]
     },
     "execution_count": 775,
     "metadata": {},
     "output_type": "execute_result"
    }
   ],
   "source": [
    "# Enter Code here\n",
    "sam=df_t.sample(n=10)\n",
    "sam\n",
    "\n",
    "#1) inconsistent entry of Gender.\n",
    "#2) State column is only applicable for the United States.\n",
    "#3) The comments would make handling the data difficult\n",
    "#4) The timestamp has no use \n",
    "#5) "
   ]
  },
  {
   "cell_type": "markdown",
   "metadata": {
    "id": "zp8UqDjDxGZq"
   },
   "source": [
    "Q4. For each column in the dataset, find its data type and the number of null/non-null values in it. (2)"
   ]
  },
  {
   "cell_type": "code",
   "execution_count": 776,
   "metadata": {
    "id": "F-5-4HuwxWPL"
   },
   "outputs": [
    {
     "name": "stdout",
     "output_type": "stream",
     "text": [
      "<class 'pandas.core.frame.DataFrame'>\n",
      "RangeIndex: 1259 entries, 0 to 1258\n",
      "Data columns (total 27 columns):\n",
      " #   Column                     Non-Null Count  Dtype \n",
      "---  ------                     --------------  ----- \n",
      " 0   Timestamp                  1259 non-null   object\n",
      " 1   Age                        1259 non-null   int64 \n",
      " 2   Gender                     1259 non-null   object\n",
      " 3   Country                    1259 non-null   object\n",
      " 4   state                      744 non-null    object\n",
      " 5   self_employed              1241 non-null   object\n",
      " 6   family_history             1259 non-null   object\n",
      " 7   treatment                  1259 non-null   object\n",
      " 8   work_interfere             995 non-null    object\n",
      " 9   no_employees               1259 non-null   object\n",
      " 10  remote_work                1259 non-null   object\n",
      " 11  tech_company               1259 non-null   object\n",
      " 12  benefits                   1259 non-null   object\n",
      " 13  care_options               1259 non-null   object\n",
      " 14  wellness_program           1259 non-null   object\n",
      " 15  seek_help                  1259 non-null   object\n",
      " 16  anonymity                  1259 non-null   object\n",
      " 17  leave                      1259 non-null   object\n",
      " 18  mental_health_consequence  1259 non-null   object\n",
      " 19  phys_health_consequence    1259 non-null   object\n",
      " 20  coworkers                  1259 non-null   object\n",
      " 21  supervisor                 1259 non-null   object\n",
      " 22  mental_health_interview    1259 non-null   object\n",
      " 23  phys_health_interview      1259 non-null   object\n",
      " 24  mental_vs_physical         1259 non-null   object\n",
      " 25  obs_consequence            1259 non-null   object\n",
      " 26  comments                   164 non-null    object\n",
      "dtypes: int64(1), object(26)\n",
      "memory usage: 265.7+ KB\n"
     ]
    },
    {
     "data": {
      "text/plain": [
       "Timestamp                       0\n",
       "Age                             0\n",
       "Gender                          0\n",
       "Country                         0\n",
       "state                         515\n",
       "self_employed                  18\n",
       "family_history                  0\n",
       "treatment                       0\n",
       "work_interfere                264\n",
       "no_employees                    0\n",
       "remote_work                     0\n",
       "tech_company                    0\n",
       "benefits                        0\n",
       "care_options                    0\n",
       "wellness_program                0\n",
       "seek_help                       0\n",
       "anonymity                       0\n",
       "leave                           0\n",
       "mental_health_consequence       0\n",
       "phys_health_consequence         0\n",
       "coworkers                       0\n",
       "supervisor                      0\n",
       "mental_health_interview         0\n",
       "phys_health_interview           0\n",
       "mental_vs_physical              0\n",
       "obs_consequence                 0\n",
       "comments                     1095\n",
       "dtype: int64"
      ]
     },
     "execution_count": 776,
     "metadata": {},
     "output_type": "execute_result"
    }
   ],
   "source": [
    "#print(df_t.dtypes, df_t.isnull().sum(), df_t.notnull().sum())\n",
    "df_t.info()\n",
    "c=df_t.isnull().sum(axis = 0)\n",
    "c\n"
   ]
  },
  {
   "cell_type": "markdown",
   "metadata": {
    "id": "rVaPGNYin0uX"
   },
   "source": [
    "Q5. What are the different countries being represented in the dataset. Print the list of countries represented. Also plot a bar graph to show the number of employees in each country. Adjust plot size such that the graph is clear. <br>\n",
    "Comment on the representation of the data. (5 + 2)"
   ]
  },
  {
   "cell_type": "code",
   "execution_count": 777,
   "metadata": {
    "id": "bK__ClK9s2EI"
   },
   "outputs": [
    {
     "data": {
      "text/plain": [
       "array(['United States', 'Canada', 'United Kingdom', 'Bulgaria', 'France',\n",
       "       'Portugal', 'Netherlands', 'Switzerland', 'Poland', 'Australia',\n",
       "       'Germany', 'Russia', 'Mexico', 'Brazil', 'Slovenia', 'Costa Rica',\n",
       "       'Austria', 'Ireland', 'India', 'South Africa', 'Italy', 'Sweden',\n",
       "       'Colombia', 'Latvia', 'Romania', 'Belgium', 'New Zealand',\n",
       "       'Zimbabwe', 'Spain', 'Finland', 'Uruguay', 'Israel',\n",
       "       'Bosnia and Herzegovina', 'Hungary', 'Singapore', 'Japan',\n",
       "       'Nigeria', 'Croatia', 'Norway', 'Thailand', 'Denmark',\n",
       "       'Bahamas, The', 'Greece', 'Moldova', 'Georgia', 'China',\n",
       "       'Czech Republic', 'Philippines'], dtype=object)"
      ]
     },
     "metadata": {},
     "output_type": "display_data"
    },
    {
     "data": {
      "image/png": "[encoded data removed]",
      "text/plain": [
       "<Figure size 864x864 with 1 Axes>"
      ]
     },
     "metadata": {
      "needs_background": "light"
     },
     "output_type": "display_data"
    }
   ],
   "source": [
    "count=df_t[\"Country\"].unique()\n",
    "display(count)\n",
    "count_c=df_t[\"Country\"].value_counts().plot.bar(figsize=(12,12))\n",
    "\n",
    "\n"
   ]
  },
  {
   "cell_type": "markdown",
   "metadata": {
    "id": "Naiwl4-ooPYC"
   },
   "source": [
    "#**Data Cleaning**"
   ]
  },
  {
   "cell_type": "markdown",
   "metadata": {
    "id": "6u4c7GR-x6u3"
   },
   "source": [
    " **Now that we have a better idea of the dataset, let's start cleaning and removing the anomalies that we observe** "
   ]
  },
  {
   "cell_type": "markdown",
   "metadata": {
    "id": "JzhfwMdYtGqq"
   },
   "source": [
    "In out dataset, we have employees from both tech and non-tech companies. We are particularly interested in understanding mental health issues for employees in the tech industry. \n"
   ]
  },
  {
   "cell_type": "markdown",
   "metadata": {
    "id": "5ikPvZavvyfp"
   },
   "source": [
    "###**Separating Data**"
   ]
  },
  {
   "cell_type": "markdown",
   "metadata": {
    "id": "-wKwqkZwtWtH"
   },
   "source": [
    "Q6. Draw a suitable plot to show the proportion of employees in the tech and non-tech industry. Hint: Show relevant percentages as well. (3)"
   ]
  },
  {
   "cell_type": "code",
   "execution_count": 778,
   "metadata": {
    "id": "mT5tz4WXyCWO"
   },
   "outputs": [
    {
     "data": {
      "image/png": "[encoded data removed]",
      "text/plain": [
       "<Figure size 432x288 with 1 Axes>"
      ]
     },
     "metadata": {
      "needs_background": "light"
     },
     "output_type": "display_data"
    }
   ],
   "source": [
    "# Enter Code here\n",
    "ax = sns.countplot(y=\"tech_company\", data=df_t)\n",
    "plt.title('Percentage of employees in tech and non-tech industry')\n",
    "total = len(df_t['tech_company'])\n",
    "for p in ax.patches:\n",
    "        percentage = '{:.1f}%'.format(100 * p.get_width()/total)\n",
    "        x = p.get_x() + p.get_width() + 0.02\n",
    "        y = p.get_y() + p.get_height()/2\n",
    "        ax.annotate(percentage, (x, y))\n",
    "\n",
    "plt.show()"
   ]
  },
  {
   "cell_type": "markdown",
   "metadata": {
    "id": "2gyFRMFTtxNC"
   },
   "source": [
    "Q7. Separate data of tech employees and non-tech employees. Store tech employees data in the dataframe named 'tech_data'. Store non-tech employees data in the dataframe named 'non_tech_data'. (3)\n"
   ]
  },
  {
   "cell_type": "code",
   "execution_count": 779,
   "metadata": {
    "id": "R2CK2XitueM3"
   },
   "outputs": [],
   "source": [
    "# Enter Code here\n",
    "tech_data= df_t[df_t['tech_company']=='Yes']\n",
    "non_tech_data=df_t[df_t['tech_company']=='No']\n"
   ]
  },
  {
   "cell_type": "markdown",
   "metadata": {
    "id": "8x63hFJPtAdl"
   },
   "source": [
    "**From here onwards, we will only deal with the data for tech employees only**"
   ]
  },
  {
   "cell_type": "markdown",
   "metadata": {
    "id": "o40UUTApur0m"
   },
   "source": [
    "Q8. Print the new shape of your 'tech_data' dataframe so that we can have a look at the number of records left over. (1)"
   ]
  },
  {
   "cell_type": "code",
   "execution_count": 780,
   "metadata": {
    "id": "Wh22a9Vqubd0"
   },
   "outputs": [
    {
     "name": "stdout",
     "output_type": "stream",
     "text": [
      "rows: 1031\n",
      "Columns: 27\n"
     ]
    }
   ],
   "source": [
    "# Enter Code here\n",
    "\n",
    "print(\"rows:\" ,tech_data.shape[0])\n",
    "print(\"Columns:\", tech_data.shape[1])"
   ]
  },
  {
   "cell_type": "markdown",
   "metadata": {
    "id": "GBBEoKxsv4ny"
   },
   "source": [
    "###**Dropping Columns**"
   ]
  },
  {
   "cell_type": "markdown",
   "metadata": {
    "id": "8433xT6zwHaB"
   },
   "source": [
    "Q9. We do not need the information about time, states, and comments. Drop these columns from the dataset. (2)\n",
    " "
   ]
  },
  {
   "cell_type": "code",
   "execution_count": 781,
   "metadata": {
    "id": "C6vvrt54u7W_"
   },
   "outputs": [],
   "source": [
    "# Enter Code here\n",
    "\n",
    "tech_data=tech_data.drop(['Timestamp', 'state','comments'],axis=1)"
   ]
  },
  {
   "cell_type": "markdown",
   "metadata": {
    "id": "d-YdX2ZB12qE"
   },
   "source": [
    "Q10. Earlier, we also observed there were some null values in 'self_employed' column. Find the number of null values. Then remove them from the dataset. (1+2)"
   ]
  },
  {
   "cell_type": "code",
   "execution_count": 782,
   "metadata": {
    "id": "ZehDDYlL2rFd"
   },
   "outputs": [
    {
     "name": "stdout",
     "output_type": "stream",
     "text": [
      "16\n",
      "0\n"
     ]
    }
   ],
   "source": [
    "# Enter Code here\n",
    "print(tech_data[\"self_employed\"].isna().sum())\n",
    "tech_data=tech_data.dropna(axis=0,subset=['self_employed'])\n",
    "print(tech_data[\"self_employed\"].isna().sum())\n",
    "#tech_data.head(30)"
   ]
  },
  {
   "cell_type": "markdown",
   "metadata": {
    "id": "w13swttH204n"
   },
   "source": [
    "###**Dealing with Outliers in Age**"
   ]
  },
  {
   "cell_type": "markdown",
   "metadata": {
    "id": "AKR7RvKH3h_W"
   },
   "source": [
    "Q11. Draw a suitable plot to get an idea whether there are potential outliers in the 'Age' column. Comment on the plot obtained <br> Also, print the max and min value for age in the dataset. (5+2+1)"
   ]
  },
  {
   "cell_type": "code",
   "execution_count": 783,
   "metadata": {
    "id": "AbIOJF483qQn"
   },
   "outputs": [
    {
     "data": {
      "text/plain": [
       "<AxesSubplot:xlabel='Age'>"
      ]
     },
     "execution_count": 783,
     "metadata": {},
     "output_type": "execute_result"
    },
    {
     "data": {
      "image/png": "[encoded data removed]",
      "text/plain": [
       "<Figure size 432x288 with 1 Axes>"
      ]
     },
     "metadata": {
      "needs_background": "light"
     },
     "output_type": "display_data"
    }
   ],
   "source": [
    "# Enter Code here\n",
    "sns.boxplot(x=tech_data['Age'])\n",
    "#display(tech_data['Age'].max())\n",
    "#display(tech_data['Age'].min())\n"
   ]
  },
  {
   "cell_type": "markdown",
   "metadata": {
    "id": "oQWa4vy_4X6V"
   },
   "source": [
    "Q12. Clean the 'Age' column such that values lie in between a **reasonable range** (up to you). Fill values outside this range with an NaN. <br>Print the number of NaN values you obtain in the 'Age' column. (2+1)"
   ]
  },
  {
   "cell_type": "code",
   "execution_count": 784,
   "metadata": {
    "id": "4EAD7cf46m_U"
   },
   "outputs": [
    {
     "name": "stdout",
     "output_type": "stream",
     "text": [
      "Number of NaN values in Age: 6\n"
     ]
    }
   ],
   "source": [
    "# Enter Code here\n",
    "\n",
    "\n",
    "tech_data['Age']=tech_data['Age'].where((tech_data['Age'] >=18) & (tech_data['Age'] <=65), inplace=False)\n",
    "#tech_data['Age'].astype(int)\n",
    "#display(tech_data['Age'].nlargest(10))\n",
    "print('Number of NaN values in Age:',tech_data['Age'].isnull().sum())"
   ]
  },
  {
   "cell_type": "markdown",
   "metadata": {
    "id": "OlGz410-9003"
   },
   "source": [
    "Q13. For the NaN values introduced in the dataset, fill them using the mean of the values in the 'Age' column.<br>\n",
    "Once this is done, your dataset should have no invalid value in the 'Age' column. (2)"
   ]
  },
  {
   "cell_type": "code",
   "execution_count": 785,
   "metadata": {
    "id": "Zal5yTA89-s6"
   },
   "outputs": [
    {
     "name": "stdout",
     "output_type": "stream",
     "text": [
      "Number of NaN values in Age: 0\n"
     ]
    }
   ],
   "source": [
    "mean_val=tech_data['Age'].mean()\n",
    "tech_data['Age'] = tech_data['Age'].fillna(mean_val)\n",
    "print('Number of NaN values in Age:',tech_data['Age'].isnull().sum())"
   ]
  },
  {
   "cell_type": "markdown",
   "metadata": {
    "id": "szrAPjS--A-M"
   },
   "source": [
    "Q14 a. Draw the plot (in Q11) again to see the scatter of the cleaned values in 'Age'. (3) <br>\n",
    "Q14 b. Plot another graph which is most suitable (decide yourself) for showing the distribution curve of the age values. Comment on the curve you obtain. What is the most common age of employees? (5+2) \n"
   ]
  },
  {
   "cell_type": "code",
   "execution_count": 786,
   "metadata": {
    "id": "_AM2icFKB33y"
   },
   "outputs": [
    {
     "data": {
      "text/plain": [
       "<AxesSubplot:xlabel='Age'>"
      ]
     },
     "execution_count": 786,
     "metadata": {},
     "output_type": "execute_result"
    },
    {
     "data": {
      "image/png": "[encoded data removed]",
      "text/plain": [
       "<Figure size 432x288 with 1 Axes>"
      ]
     },
     "metadata": {
      "needs_background": "light"
     },
     "output_type": "display_data"
    }
   ],
   "source": [
    "# Enter Code here\n",
    "#a\n",
    "sns.boxplot(x=tech_data['Age'])\n"
   ]
  },
  {
   "cell_type": "code",
   "execution_count": 787,
   "metadata": {},
   "outputs": [
    {
     "name": "stderr",
     "output_type": "stream",
     "text": [
      "/Users/shehrozatir/opt/anaconda3/lib/python3.8/site-packages/seaborn/distributions.py:2551: FutureWarning: `distplot` is a deprecated function and will be removed in a future version. Please adapt your code to use either `displot` (a figure-level function with similar flexibility) or `histplot` (an axes-level function for histograms).\n",
      "  warnings.warn(msg, FutureWarning)\n"
     ]
    },
    {
     "data": {
      "text/plain": [
       "<AxesSubplot:xlabel='Age', ylabel='Density'>"
      ]
     },
     "execution_count": 787,
     "metadata": {},
     "output_type": "execute_result"
    },
    {
     "data": {
      "image/png": "[encoded data removed]",
      "text/plain": [
       "<Figure size 432x288 with 1 Axes>"
      ]
     },
     "metadata": {
      "needs_background": "light"
     },
     "output_type": "display_data"
    }
   ],
   "source": [
    "#b\n",
    "sns.distplot(tech_data['Age'], hist=True, kde=True)\n",
    "#The curve shows that the average age is around 25-35\n",
    "#the most common age is 31"
   ]
  },
  {
   "cell_type": "markdown",
   "metadata": {
    "id": "nKiw4P-ETKy8"
   },
   "source": [
    "**Perfect! So far, so good. But there's still work to be done :(** <br>\n",
    "**Let's keep going!**"
   ]
  },
  {
   "cell_type": "markdown",
   "metadata": {
    "id": "3z55_-LbThSx"
   },
   "source": [
    "###**Issues with the Gender Column**"
   ]
  },
  {
   "cell_type": "markdown",
   "metadata": {
    "id": "GWuGlhrYT-fx"
   },
   "source": [
    "Q15. Visualize the values in the gender column. Show how many unique values are present in it. (2)"
   ]
  },
  {
   "cell_type": "code",
   "execution_count": 788,
   "metadata": {
    "id": "0JUpunZ5TfE9"
   },
   "outputs": [
    {
     "name": "stdout",
     "output_type": "stream",
     "text": [
      "Number of values: 42\n"
     ]
    },
    {
     "data": {
      "image/png": "[encoded data removed]",
      "text/plain": [
       "<Figure size 864x864 with 1 Axes>"
      ]
     },
     "metadata": {
      "needs_background": "light"
     },
     "output_type": "display_data"
    }
   ],
   "source": [
    "#sns.boxplot(x=len(tech_data[\"Gender\"].unique()))\n",
    "#tech_data[\"Gender\"].unique()\n",
    "tech_data[\"Gender\"].value_counts().plot.bar(figsize=(12,12))\n",
    "#sns.boxplot(y=tech_data[\"Gender\"])\n",
    "print(\"Number of values:\",len(tech_data[\"Gender\"].unique()))\n",
    "#tech_data[\"Gender\"].unique().sum()"
   ]
  },
  {
   "cell_type": "markdown",
   "metadata": {
    "id": "u8TXcmtNUMP8"
   },
   "source": [
    "Q16. We need to categorize all these different values into three broader categories; 'male', 'female', and 'others' <br>\n",
    "Using the results of the previous part, convert each response into its suitable category. <br>\n",
    "**Do not miss out any type of response. The final column you obtain should have just three broad categories named above** <br>\n",
    "After doing so, print out the count of employees in each category. <br>\n",
    "(5+2) "
   ]
  },
  {
   "cell_type": "code",
   "execution_count": 789,
   "metadata": {
    "id": "l2KtE8x1VYNr"
   },
   "outputs": [
    {
     "name": "stdout",
     "output_type": "stream",
     "text": [
      "Gender\n",
      "female    184\n",
      "male      816\n",
      "other      15\n",
      "dtype: int64\n"
     ]
    }
   ],
   "source": [
    "tech_data['Gender']=tech_data['Gender'].str.lower()\n",
    "tech_data['Gender']=tech_data['Gender'].replace(['male ','M','m','make','man','cis male','msle','something kinda male?','mail','malr','maile','male-ish','mal','cis man','male (cis)','cis male'],'male')\n",
    "\n",
    "tech_data['Gender']=tech_data['Gender'].replace(['f','female ',' female','woman','female (cis)','femake','cis female'],'female')\n",
    "tech_data['Gender']=tech_data['Gender'].replace(['fluid','non-binary','queer','trans-female','p','enby','genderqueer','queer/she/they','all','female (trans)','nah','agender','androgyne','a little about you','male leaning androgynous'],'other')  \n",
    "tech_data.sample(10)\n",
    "print(tech_data.groupby(['Gender']).size())\n",
    "#display(tech_gen)\n",
    "\n",
    "\n",
    "#tech_data[\"Gender\"].value_counts().plot.bar(figsize=(12,12))\n",
    "#print(\"Number of values:\",len(tech_data[\"Gender\"].unique()))\n"
   ]
  },
  {
   "cell_type": "markdown",
   "metadata": {
    "id": "xUVN4eXhWFTu"
   },
   "source": [
    "Q17. Plot a suitable plot to represent the counts of employees in each category above. (3)"
   ]
  },
  {
   "cell_type": "code",
   "execution_count": 790,
   "metadata": {
    "id": "V1ZL-U0RWOoy"
   },
   "outputs": [
    {
     "data": {
      "text/plain": [
       "<AxesSubplot:>"
      ]
     },
     "execution_count": 790,
     "metadata": {},
     "output_type": "execute_result"
    },
    {
     "data": {
      "image/png": "[encoded data removed]",
      "text/plain": [
       "<Figure size 864x864 with 1 Axes>"
      ]
     },
     "metadata": {
      "needs_background": "light"
     },
     "output_type": "display_data"
    }
   ],
   "source": [
    "# Enter Code here\n",
    "tech_data[\"Gender\"].value_counts().plot.bar(figsize=(12,12))"
   ]
  },
  {
   "cell_type": "markdown",
   "metadata": {
    "id": "4r0L98xcatyd"
   },
   "source": [
    "**Looks cleaner now! And we're almost done**"
   ]
  },
  {
   "cell_type": "markdown",
   "metadata": {
    "id": "w2w7cts-bMYE"
   },
   "source": [
    "Q18. Finally, convert all column headings to lowercase. (2)"
   ]
  },
  {
   "cell_type": "code",
   "execution_count": 791,
   "metadata": {
    "id": "M3oy7PfrayC3"
   },
   "outputs": [],
   "source": [
    "tech_data.columns = map(str.lower, tech_data.columns)"
   ]
  },
  {
   "cell_type": "markdown",
   "metadata": {
    "id": "tUox13Z6bjHz"
   },
   "source": [
    "Run the following cell to re-organize the columns a bit. This would only work if you have not introduced any new column in any of the previous cells.In case you did introduce some, rename it to the original respective column. <br>\n",
    "You should have 24 columns in total."
   ]
  },
  {
   "cell_type": "code",
   "execution_count": 792,
   "metadata": {
    "id": "_QHIn0ntcUpk"
   },
   "outputs": [],
   "source": [
    "tech_data = tech_data[['age','gender', 'country', 'self_employed', 'family_history', 'treatment',\n",
    "       'work_interfere', 'no_employees', 'remote_work', 'tech_company',\n",
    "       'benefits', 'care_options', 'wellness_program', 'seek_help',\n",
    "       'anonymity', 'leave', 'mental_health_consequence',\n",
    "       'phys_health_consequence', 'coworkers', 'supervisor',\n",
    "       'mental_health_interview', 'phys_health_interview',\n",
    "       'mental_vs_physical', 'obs_consequence']]\n",
    "tech_data = tech_data.reset_index().drop(columns=['index'])"
   ]
  },
  {
   "cell_type": "markdown",
   "metadata": {
    "id": "cdXSw7QHzvtr"
   },
   "source": [
    "Our data is almost clean now. There is one column 'work_interfere' that still has NA values. But we intepret it as a signal! People who did not have any response to the question whether mental health issues interfere in their work might never have experienced it in the first place! Therefore, we can create a new column named 'issues' that is 'yes' if the question is answered and 'no' if the question has an NA value (or an explicit 'Never').\n"
   ]
  },
  {
   "cell_type": "markdown",
   "metadata": {
    "id": "MbvhYzA_0klP"
   },
   "source": [
    "Q19. Add another column 'issue' in the dataframe. It has a value of 'yes' if the the corresponding 'work_interfere' values is one of the following: ['Sometimes', 'Often', 'Rarely']. <br>\n",
    "On the other hand, if the value of 'work_interfere' is 'Never' or NA, issue should be set to 'no'.\n",
    "Hint: First look at the different values in 'work_interfere' and then group accordingly. (5) "
   ]
  },
  {
   "cell_type": "code",
   "execution_count": 793,
   "metadata": {
    "id": "BCYZdgW90jlu"
   },
   "outputs": [],
   "source": [
    "# Enter Code here\n",
    "#count=df_t[\"work_interfere\"].unique()\n",
    "#count\n",
    "\n",
    "tech_data['issue']=tech_data['work_interfere']\n",
    "tech_data['issue']=tech_data['issue'].replace(['Sometimes', 'Often', 'Rarely'],'yes')\n",
    "tech_data['issue']=tech_data['issue'].replace(['Never','NA'],'no')\n",
    "tech_data['issue'] = tech_data['issue'].fillna('no')\n",
    "\n",
    "#print(\"Number of values:\",len(tech_data[\"issue\"].unique()))\n"
   ]
  },
  {
   "cell_type": "markdown",
   "metadata": {
    "id": "bMM7lrbs5WVc"
   },
   "source": [
    "That's it. We're done with the cleaning part. Have a look at the resulting dataframe now."
   ]
  },
  {
   "cell_type": "code",
   "execution_count": 794,
   "metadata": {
    "id": "C9VdgbMt5fep"
   },
   "outputs": [
    {
     "data": {
      "text/html": [
       "<div>\n",
       "<style scoped>\n",
       "    .dataframe tbody tr th:only-of-type {\n",
       "        vertical-align: middle;\n",
       "    }\n",
       "\n",
       "    .dataframe tbody tr th {\n",
       "        vertical-align: top;\n",
       "    }\n",
       "\n",
       "    .dataframe thead th {\n",
       "        text-align: right;\n",
       "    }\n",
       "</style>\n",
       "<table border=\"1\" class=\"dataframe\">\n",
       "  <thead>\n",
       "    <tr style=\"text-align: right;\">\n",
       "      <th></th>\n",
       "      <th>age</th>\n",
       "      <th>gender</th>\n",
       "      <th>country</th>\n",
       "      <th>self_employed</th>\n",
       "      <th>family_history</th>\n",
       "      <th>treatment</th>\n",
       "      <th>work_interfere</th>\n",
       "      <th>no_employees</th>\n",
       "      <th>remote_work</th>\n",
       "      <th>tech_company</th>\n",
       "      <th>...</th>\n",
       "      <th>leave</th>\n",
       "      <th>mental_health_consequence</th>\n",
       "      <th>phys_health_consequence</th>\n",
       "      <th>coworkers</th>\n",
       "      <th>supervisor</th>\n",
       "      <th>mental_health_interview</th>\n",
       "      <th>phys_health_interview</th>\n",
       "      <th>mental_vs_physical</th>\n",
       "      <th>obs_consequence</th>\n",
       "      <th>issue</th>\n",
       "    </tr>\n",
       "  </thead>\n",
       "  <tbody>\n",
       "    <tr>\n",
       "      <th>341</th>\n",
       "      <td>34.0</td>\n",
       "      <td>male</td>\n",
       "      <td>Finland</td>\n",
       "      <td>No</td>\n",
       "      <td>No</td>\n",
       "      <td>No</td>\n",
       "      <td>Never</td>\n",
       "      <td>6-25</td>\n",
       "      <td>No</td>\n",
       "      <td>Yes</td>\n",
       "      <td>...</td>\n",
       "      <td>Somewhat easy</td>\n",
       "      <td>No</td>\n",
       "      <td>No</td>\n",
       "      <td>Yes</td>\n",
       "      <td>Yes</td>\n",
       "      <td>No</td>\n",
       "      <td>Maybe</td>\n",
       "      <td>Don't know</td>\n",
       "      <td>No</td>\n",
       "      <td>no</td>\n",
       "    </tr>\n",
       "    <tr>\n",
       "      <th>736</th>\n",
       "      <td>49.0</td>\n",
       "      <td>male</td>\n",
       "      <td>United States</td>\n",
       "      <td>No</td>\n",
       "      <td>Yes</td>\n",
       "      <td>Yes</td>\n",
       "      <td>Sometimes</td>\n",
       "      <td>More than 1000</td>\n",
       "      <td>No</td>\n",
       "      <td>Yes</td>\n",
       "      <td>...</td>\n",
       "      <td>Somewhat difficult</td>\n",
       "      <td>Yes</td>\n",
       "      <td>Maybe</td>\n",
       "      <td>No</td>\n",
       "      <td>No</td>\n",
       "      <td>No</td>\n",
       "      <td>Maybe</td>\n",
       "      <td>No</td>\n",
       "      <td>Yes</td>\n",
       "      <td>yes</td>\n",
       "    </tr>\n",
       "    <tr>\n",
       "      <th>988</th>\n",
       "      <td>23.0</td>\n",
       "      <td>male</td>\n",
       "      <td>United Kingdom</td>\n",
       "      <td>No</td>\n",
       "      <td>No</td>\n",
       "      <td>No</td>\n",
       "      <td>Never</td>\n",
       "      <td>26-100</td>\n",
       "      <td>No</td>\n",
       "      <td>Yes</td>\n",
       "      <td>...</td>\n",
       "      <td>Somewhat easy</td>\n",
       "      <td>Maybe</td>\n",
       "      <td>No</td>\n",
       "      <td>Some of them</td>\n",
       "      <td>Some of them</td>\n",
       "      <td>No</td>\n",
       "      <td>Maybe</td>\n",
       "      <td>Yes</td>\n",
       "      <td>Yes</td>\n",
       "      <td>no</td>\n",
       "    </tr>\n",
       "    <tr>\n",
       "      <th>780</th>\n",
       "      <td>26.0</td>\n",
       "      <td>male</td>\n",
       "      <td>United States</td>\n",
       "      <td>No</td>\n",
       "      <td>No</td>\n",
       "      <td>Yes</td>\n",
       "      <td>Rarely</td>\n",
       "      <td>More than 1000</td>\n",
       "      <td>No</td>\n",
       "      <td>Yes</td>\n",
       "      <td>...</td>\n",
       "      <td>Don't know</td>\n",
       "      <td>No</td>\n",
       "      <td>No</td>\n",
       "      <td>Some of them</td>\n",
       "      <td>Some of them</td>\n",
       "      <td>No</td>\n",
       "      <td>Maybe</td>\n",
       "      <td>No</td>\n",
       "      <td>No</td>\n",
       "      <td>yes</td>\n",
       "    </tr>\n",
       "    <tr>\n",
       "      <th>52</th>\n",
       "      <td>19.0</td>\n",
       "      <td>male</td>\n",
       "      <td>United Kingdom</td>\n",
       "      <td>No</td>\n",
       "      <td>No</td>\n",
       "      <td>No</td>\n",
       "      <td>NaN</td>\n",
       "      <td>1-5</td>\n",
       "      <td>No</td>\n",
       "      <td>Yes</td>\n",
       "      <td>...</td>\n",
       "      <td>Somewhat difficult</td>\n",
       "      <td>Yes</td>\n",
       "      <td>No</td>\n",
       "      <td>No</td>\n",
       "      <td>No</td>\n",
       "      <td>No</td>\n",
       "      <td>Maybe</td>\n",
       "      <td>No</td>\n",
       "      <td>No</td>\n",
       "      <td>no</td>\n",
       "    </tr>\n",
       "    <tr>\n",
       "      <th>245</th>\n",
       "      <td>26.0</td>\n",
       "      <td>male</td>\n",
       "      <td>United States</td>\n",
       "      <td>No</td>\n",
       "      <td>No</td>\n",
       "      <td>No</td>\n",
       "      <td>Rarely</td>\n",
       "      <td>100-500</td>\n",
       "      <td>No</td>\n",
       "      <td>Yes</td>\n",
       "      <td>...</td>\n",
       "      <td>Don't know</td>\n",
       "      <td>No</td>\n",
       "      <td>No</td>\n",
       "      <td>Some of them</td>\n",
       "      <td>Yes</td>\n",
       "      <td>No</td>\n",
       "      <td>Maybe</td>\n",
       "      <td>Don't know</td>\n",
       "      <td>No</td>\n",
       "      <td>yes</td>\n",
       "    </tr>\n",
       "    <tr>\n",
       "      <th>909</th>\n",
       "      <td>32.0</td>\n",
       "      <td>male</td>\n",
       "      <td>United Kingdom</td>\n",
       "      <td>Yes</td>\n",
       "      <td>No</td>\n",
       "      <td>Yes</td>\n",
       "      <td>Rarely</td>\n",
       "      <td>1-5</td>\n",
       "      <td>No</td>\n",
       "      <td>Yes</td>\n",
       "      <td>...</td>\n",
       "      <td>Very easy</td>\n",
       "      <td>No</td>\n",
       "      <td>No</td>\n",
       "      <td>Some of them</td>\n",
       "      <td>Yes</td>\n",
       "      <td>No</td>\n",
       "      <td>Yes</td>\n",
       "      <td>No</td>\n",
       "      <td>Yes</td>\n",
       "      <td>yes</td>\n",
       "    </tr>\n",
       "    <tr>\n",
       "      <th>509</th>\n",
       "      <td>30.0</td>\n",
       "      <td>male</td>\n",
       "      <td>United States</td>\n",
       "      <td>Yes</td>\n",
       "      <td>No</td>\n",
       "      <td>Yes</td>\n",
       "      <td>Often</td>\n",
       "      <td>6-25</td>\n",
       "      <td>Yes</td>\n",
       "      <td>Yes</td>\n",
       "      <td>...</td>\n",
       "      <td>Somewhat difficult</td>\n",
       "      <td>No</td>\n",
       "      <td>No</td>\n",
       "      <td>Yes</td>\n",
       "      <td>Yes</td>\n",
       "      <td>No</td>\n",
       "      <td>Maybe</td>\n",
       "      <td>Yes</td>\n",
       "      <td>No</td>\n",
       "      <td>yes</td>\n",
       "    </tr>\n",
       "    <tr>\n",
       "      <th>688</th>\n",
       "      <td>31.0</td>\n",
       "      <td>female</td>\n",
       "      <td>United States</td>\n",
       "      <td>No</td>\n",
       "      <td>Yes</td>\n",
       "      <td>Yes</td>\n",
       "      <td>Sometimes</td>\n",
       "      <td>100-500</td>\n",
       "      <td>No</td>\n",
       "      <td>Yes</td>\n",
       "      <td>...</td>\n",
       "      <td>Somewhat difficult</td>\n",
       "      <td>No</td>\n",
       "      <td>No</td>\n",
       "      <td>Yes</td>\n",
       "      <td>Yes</td>\n",
       "      <td>Maybe</td>\n",
       "      <td>Maybe</td>\n",
       "      <td>Don't know</td>\n",
       "      <td>No</td>\n",
       "      <td>yes</td>\n",
       "    </tr>\n",
       "    <tr>\n",
       "      <th>611</th>\n",
       "      <td>36.0</td>\n",
       "      <td>male</td>\n",
       "      <td>United States</td>\n",
       "      <td>No</td>\n",
       "      <td>No</td>\n",
       "      <td>Yes</td>\n",
       "      <td>Sometimes</td>\n",
       "      <td>100-500</td>\n",
       "      <td>Yes</td>\n",
       "      <td>Yes</td>\n",
       "      <td>...</td>\n",
       "      <td>Very difficult</td>\n",
       "      <td>Maybe</td>\n",
       "      <td>Maybe</td>\n",
       "      <td>Some of them</td>\n",
       "      <td>Some of them</td>\n",
       "      <td>Maybe</td>\n",
       "      <td>Maybe</td>\n",
       "      <td>Don't know</td>\n",
       "      <td>No</td>\n",
       "      <td>yes</td>\n",
       "    </tr>\n",
       "  </tbody>\n",
       "</table>\n",
       "<p>10 rows × 25 columns</p>\n",
       "</div>"
      ],
      "text/plain": [
       "      age  gender         country self_employed family_history treatment  \\\n",
       "341  34.0    male         Finland            No             No        No   \n",
       "736  49.0    male   United States            No            Yes       Yes   \n",
       "988  23.0    male  United Kingdom            No             No        No   \n",
       "780  26.0    male   United States            No             No       Yes   \n",
       "52   19.0    male  United Kingdom            No             No        No   \n",
       "245  26.0    male   United States            No             No        No   \n",
       "909  32.0    male  United Kingdom           Yes             No       Yes   \n",
       "509  30.0    male   United States           Yes             No       Yes   \n",
       "688  31.0  female   United States            No            Yes       Yes   \n",
       "611  36.0    male   United States            No             No       Yes   \n",
       "\n",
       "    work_interfere    no_employees remote_work tech_company  ...  \\\n",
       "341          Never            6-25          No          Yes  ...   \n",
       "736      Sometimes  More than 1000          No          Yes  ...   \n",
       "988          Never          26-100          No          Yes  ...   \n",
       "780         Rarely  More than 1000          No          Yes  ...   \n",
       "52             NaN             1-5          No          Yes  ...   \n",
       "245         Rarely         100-500          No          Yes  ...   \n",
       "909         Rarely             1-5          No          Yes  ...   \n",
       "509          Often            6-25         Yes          Yes  ...   \n",
       "688      Sometimes         100-500          No          Yes  ...   \n",
       "611      Sometimes         100-500         Yes          Yes  ...   \n",
       "\n",
       "                  leave mental_health_consequence phys_health_consequence  \\\n",
       "341       Somewhat easy                        No                      No   \n",
       "736  Somewhat difficult                       Yes                   Maybe   \n",
       "988       Somewhat easy                     Maybe                      No   \n",
       "780          Don't know                        No                      No   \n",
       "52   Somewhat difficult                       Yes                      No   \n",
       "245          Don't know                        No                      No   \n",
       "909           Very easy                        No                      No   \n",
       "509  Somewhat difficult                        No                      No   \n",
       "688  Somewhat difficult                        No                      No   \n",
       "611      Very difficult                     Maybe                   Maybe   \n",
       "\n",
       "        coworkers    supervisor mental_health_interview phys_health_interview  \\\n",
       "341           Yes           Yes                      No                 Maybe   \n",
       "736            No            No                      No                 Maybe   \n",
       "988  Some of them  Some of them                      No                 Maybe   \n",
       "780  Some of them  Some of them                      No                 Maybe   \n",
       "52             No            No                      No                 Maybe   \n",
       "245  Some of them           Yes                      No                 Maybe   \n",
       "909  Some of them           Yes                      No                   Yes   \n",
       "509           Yes           Yes                      No                 Maybe   \n",
       "688           Yes           Yes                   Maybe                 Maybe   \n",
       "611  Some of them  Some of them                   Maybe                 Maybe   \n",
       "\n",
       "    mental_vs_physical obs_consequence issue  \n",
       "341         Don't know              No    no  \n",
       "736                 No             Yes   yes  \n",
       "988                Yes             Yes    no  \n",
       "780                 No              No   yes  \n",
       "52                  No              No    no  \n",
       "245         Don't know              No   yes  \n",
       "909                 No             Yes   yes  \n",
       "509                Yes              No   yes  \n",
       "688         Don't know              No   yes  \n",
       "611         Don't know              No   yes  \n",
       "\n",
       "[10 rows x 25 columns]"
      ]
     },
     "execution_count": 794,
     "metadata": {},
     "output_type": "execute_result"
    }
   ],
   "source": [
    "tech_data.sample(10)"
   ]
  },
  {
   "cell_type": "markdown",
   "metadata": {
    "id": "rQdlwR2x57dk"
   },
   "source": [
    "The EDA for this dataset is extensive and beyond the scope of the assignment. Different variables are analyzed in detail, and their effect on other attributes is determined by fixing some of the variables. Some questions posed by the analysis include:\n",
    "* Does the nature of work affect the way people face and deal with their mental health?\n",
    "* Do companies and employees differentiate between the way they deal with mental and physical health?\n",
    "* Do mental health issues affect productivity?\n",
    "* How open are tech employees about their mental health?\n",
    "\n",
    "Finally, a conclusion is drawn by figuring which attributes when present in a tech workplace significantly impact mental health issues faced by employees. \n"
   ]
  },
  {
   "cell_type": "markdown",
   "metadata": {
    "id": "pDYp-UtN8R1p"
   },
   "source": [
    "We hope that this part of the assignment would provide a hands-on experience of cleaning and standardizing the data. <br> <br>\n",
    "In the next part, we will work on a different dataset (cleaned) and try different visualizations to derive meaningful information from it. <br><br>\n",
    "Take a break before you begin with Part 2 :)"
   ]
  }
 ],
 "metadata": {
  "colab": {
   "collapsed_sections": [
    "4cp-Ud9VeL-A",
    "6Fg5_hmHnD5d",
    "nry-LLRQnSyy",
    "vRtQum90o1pB",
    "5b1kWtMhmaqS",
    "N_-1bPyhryfC",
    "cqw8TqgMsnsc",
    "5ikPvZavvyfp",
    "GBBEoKxsv4ny",
    "w13swttH204n"
   ],
   "name": "A2_1.ipynb",
   "provenance": []
  },
  "kernelspec": {
   "display_name": "Python 3",
   "language": "python",
   "name": "python3"
  },
  "language_info": {
   "codemirror_mode": {
    "name": "ipython",
    "version": 3
   },
   "file_extension": ".py",
   "mimetype": "text/x-python",
   "name": "python",
   "nbconvert_exporter": "python",
   "pygments_lexer": "ipython3",
   "version": "3.8.5"
  }
 },
 "nbformat": 4,
 "nbformat_minor": 1
}
