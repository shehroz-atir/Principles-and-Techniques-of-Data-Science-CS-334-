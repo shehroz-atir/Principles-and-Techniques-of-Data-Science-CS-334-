{
 "cells": [
  {
   "cell_type": "markdown",
   "metadata": {
    "id": "MvS895Mmqy61"
   },
   "source": [
    "# **Assignment 2 Part 2**"
   ]
  },
  {
   "cell_type": "markdown",
   "metadata": {
    "id": "3FV88Qe8Aj_u"
   },
   "source": [
    "Expected Time to complete: 4-5 hours"
   ]
  },
  {
   "cell_type": "markdown",
   "metadata": {
    "id": "EfTUGhI0YQha"
   },
   "source": [
    "# **Submission Intructions**"
   ]
  },
  {
   "cell_type": "markdown",
   "metadata": {
    "id": "5Q2qlI48Yeka"
   },
   "source": [
    "There are two parts of this assignment. You should name both notebooks as YourRollNumber_PartNumber.ipynb. (e.g. this part should be named as 2XXXXXXX_2.ipynb)\n",
    "You must submit a zip file containg just two notebooks and it must not has any folder or any other file.\n",
    "The name of the zip file must be your Roll Number\n"
   ]
  },
  {
   "cell_type": "markdown",
   "metadata": {
    "id": "QA6vQo_aAE2y"
   },
   "source": [
    "The following part is regarding QS University rankings over the past three years. Data has been scraped from https://www.topuniversities.com/university-rankings/world-university-rankings/2021 and converted into a .csv file. "
   ]
  },
  {
   "cell_type": "markdown",
   "metadata": {
    "id": "HnmtC9pgAFMA"
   },
   "source": [
    "* **Note that for ALL plotting questions from here on out, we will expect appropriate titles, axis labels, legends, etc. The following question serves as a good guideline on what is 'enough' -> If I directly downloaded the plot and viewed it, would I be able to tell what was being visualized without knowing the question?**\n"
   ]
  },
  {
   "cell_type": "markdown",
   "metadata": {
    "id": "hwSsBgZoAeXf"
   },
   "source": [
    "# **Load Relevant Libraries**"
   ]
  },
  {
   "cell_type": "code",
   "execution_count": 247,
   "metadata": {
    "id": "bMSrIYtXeHEV"
   },
   "outputs": [],
   "source": [
    "import pandas as pd\n",
    "import numpy as np\n",
    "import matplotlib.pyplot as plt\n",
    "from matplotlib import pyplot\n",
    "import seaborn as sns\n",
    "from statsmodels.graphics.gofplots import qqplot"
   ]
  },
  {
   "cell_type": "code",
   "execution_count": 248,
   "metadata": {
    "id": "fXq31mqYefUc"
   },
   "outputs": [
    {
     "ename": "FileNotFoundError",
     "evalue": "[Errno 2] No such file or directory: 'i980-='",
     "output_type": "error",
     "traceback": [
      "\u001b[0;31m---------------------------------------------------------------------------\u001b[0m",
      "\u001b[0;31mFileNotFoundError\u001b[0m                         Traceback (most recent call last)",
      "\u001b[0;32m<ipython-input-248-8afdcae51853>\u001b[0m in \u001b[0;36m<module>\u001b[0;34m\u001b[0m\n\u001b[1;32m      2\u001b[0m \u001b[0;34m\u001b[0m\u001b[0m\n\u001b[1;32m      3\u001b[0m \u001b[0mdf_2019\u001b[0m \u001b[0;34m=\u001b[0m \u001b[0mpd\u001b[0m\u001b[0;34m.\u001b[0m\u001b[0mread_csv\u001b[0m\u001b[0;34m(\u001b[0m\u001b[0;34m'2019.csv'\u001b[0m\u001b[0;34m,\u001b[0m \u001b[0mencoding\u001b[0m\u001b[0;34m=\u001b[0m\u001b[0;34m'latin-1'\u001b[0m\u001b[0;34m)\u001b[0m\u001b[0;34m\u001b[0m\u001b[0;34m\u001b[0m\u001b[0m\n\u001b[0;32m----> 4\u001b[0;31m \u001b[0mdf_2020\u001b[0m \u001b[0;34m=\u001b[0m \u001b[0mpd\u001b[0m\u001b[0;34m.\u001b[0m\u001b[0mread_csv\u001b[0m\u001b[0;34m(\u001b[0m\u001b[0;34m'i980-='\u001b[0m\u001b[0;34m,\u001b[0m \u001b[0mencoding\u001b[0m\u001b[0;34m=\u001b[0m\u001b[0;34m'latin-1'\u001b[0m\u001b[0;34m)\u001b[0m\u001b[0;34m\u001b[0m\u001b[0;34m\u001b[0m\u001b[0m\n\u001b[0m\u001b[1;32m      5\u001b[0m \u001b[0mdf_2021\u001b[0m \u001b[0;34m=\u001b[0m \u001b[0mpd\u001b[0m\u001b[0;34m.\u001b[0m\u001b[0mread_csv\u001b[0m\u001b[0;34m(\u001b[0m\u001b[0;34m'2021.csv'\u001b[0m\u001b[0;34m,\u001b[0m \u001b[0mencoding\u001b[0m\u001b[0;34m=\u001b[0m\u001b[0;34m'latin-1'\u001b[0m\u001b[0;34m)\u001b[0m\u001b[0;34m\u001b[0m\u001b[0;34m\u001b[0m\u001b[0m\n",
      "\u001b[0;32m~/opt/anaconda3/lib/python3.8/site-packages/pandas/io/parsers.py\u001b[0m in \u001b[0;36mread_csv\u001b[0;34m(filepath_or_buffer, sep, delimiter, header, names, index_col, usecols, squeeze, prefix, mangle_dupe_cols, dtype, engine, converters, true_values, false_values, skipinitialspace, skiprows, skipfooter, nrows, na_values, keep_default_na, na_filter, verbose, skip_blank_lines, parse_dates, infer_datetime_format, keep_date_col, date_parser, dayfirst, cache_dates, iterator, chunksize, compression, thousands, decimal, lineterminator, quotechar, quoting, doublequote, escapechar, comment, encoding, dialect, error_bad_lines, warn_bad_lines, delim_whitespace, low_memory, memory_map, float_precision)\u001b[0m\n\u001b[1;32m    684\u001b[0m     )\n\u001b[1;32m    685\u001b[0m \u001b[0;34m\u001b[0m\u001b[0m\n\u001b[0;32m--> 686\u001b[0;31m     \u001b[0;32mreturn\u001b[0m \u001b[0m_read\u001b[0m\u001b[0;34m(\u001b[0m\u001b[0mfilepath_or_buffer\u001b[0m\u001b[0;34m,\u001b[0m \u001b[0mkwds\u001b[0m\u001b[0;34m)\u001b[0m\u001b[0;34m\u001b[0m\u001b[0;34m\u001b[0m\u001b[0m\n\u001b[0m\u001b[1;32m    687\u001b[0m \u001b[0;34m\u001b[0m\u001b[0m\n\u001b[1;32m    688\u001b[0m \u001b[0;34m\u001b[0m\u001b[0m\n",
      "\u001b[0;32m~/opt/anaconda3/lib/python3.8/site-packages/pandas/io/parsers.py\u001b[0m in \u001b[0;36m_read\u001b[0;34m(filepath_or_buffer, kwds)\u001b[0m\n\u001b[1;32m    450\u001b[0m \u001b[0;34m\u001b[0m\u001b[0m\n\u001b[1;32m    451\u001b[0m     \u001b[0;31m# Create the parser.\u001b[0m\u001b[0;34m\u001b[0m\u001b[0;34m\u001b[0m\u001b[0;34m\u001b[0m\u001b[0m\n\u001b[0;32m--> 452\u001b[0;31m     \u001b[0mparser\u001b[0m \u001b[0;34m=\u001b[0m \u001b[0mTextFileReader\u001b[0m\u001b[0;34m(\u001b[0m\u001b[0mfp_or_buf\u001b[0m\u001b[0;34m,\u001b[0m \u001b[0;34m**\u001b[0m\u001b[0mkwds\u001b[0m\u001b[0;34m)\u001b[0m\u001b[0;34m\u001b[0m\u001b[0;34m\u001b[0m\u001b[0m\n\u001b[0m\u001b[1;32m    453\u001b[0m \u001b[0;34m\u001b[0m\u001b[0m\n\u001b[1;32m    454\u001b[0m     \u001b[0;32mif\u001b[0m \u001b[0mchunksize\u001b[0m \u001b[0;32mor\u001b[0m \u001b[0miterator\u001b[0m\u001b[0;34m:\u001b[0m\u001b[0;34m\u001b[0m\u001b[0;34m\u001b[0m\u001b[0m\n",
      "\u001b[0;32m~/opt/anaconda3/lib/python3.8/site-packages/pandas/io/parsers.py\u001b[0m in \u001b[0;36m__init__\u001b[0;34m(self, f, engine, **kwds)\u001b[0m\n\u001b[1;32m    944\u001b[0m             \u001b[0mself\u001b[0m\u001b[0;34m.\u001b[0m\u001b[0moptions\u001b[0m\u001b[0;34m[\u001b[0m\u001b[0;34m\"has_index_names\"\u001b[0m\u001b[0;34m]\u001b[0m \u001b[0;34m=\u001b[0m \u001b[0mkwds\u001b[0m\u001b[0;34m[\u001b[0m\u001b[0;34m\"has_index_names\"\u001b[0m\u001b[0;34m]\u001b[0m\u001b[0;34m\u001b[0m\u001b[0;34m\u001b[0m\u001b[0m\n\u001b[1;32m    945\u001b[0m \u001b[0;34m\u001b[0m\u001b[0m\n\u001b[0;32m--> 946\u001b[0;31m         \u001b[0mself\u001b[0m\u001b[0;34m.\u001b[0m\u001b[0m_make_engine\u001b[0m\u001b[0;34m(\u001b[0m\u001b[0mself\u001b[0m\u001b[0;34m.\u001b[0m\u001b[0mengine\u001b[0m\u001b[0;34m)\u001b[0m\u001b[0;34m\u001b[0m\u001b[0;34m\u001b[0m\u001b[0m\n\u001b[0m\u001b[1;32m    947\u001b[0m \u001b[0;34m\u001b[0m\u001b[0m\n\u001b[1;32m    948\u001b[0m     \u001b[0;32mdef\u001b[0m \u001b[0mclose\u001b[0m\u001b[0;34m(\u001b[0m\u001b[0mself\u001b[0m\u001b[0;34m)\u001b[0m\u001b[0;34m:\u001b[0m\u001b[0;34m\u001b[0m\u001b[0;34m\u001b[0m\u001b[0m\n",
      "\u001b[0;32m~/opt/anaconda3/lib/python3.8/site-packages/pandas/io/parsers.py\u001b[0m in \u001b[0;36m_make_engine\u001b[0;34m(self, engine)\u001b[0m\n\u001b[1;32m   1176\u001b[0m     \u001b[0;32mdef\u001b[0m \u001b[0m_make_engine\u001b[0m\u001b[0;34m(\u001b[0m\u001b[0mself\u001b[0m\u001b[0;34m,\u001b[0m \u001b[0mengine\u001b[0m\u001b[0;34m=\u001b[0m\u001b[0;34m\"c\"\u001b[0m\u001b[0;34m)\u001b[0m\u001b[0;34m:\u001b[0m\u001b[0;34m\u001b[0m\u001b[0;34m\u001b[0m\u001b[0m\n\u001b[1;32m   1177\u001b[0m         \u001b[0;32mif\u001b[0m \u001b[0mengine\u001b[0m \u001b[0;34m==\u001b[0m \u001b[0;34m\"c\"\u001b[0m\u001b[0;34m:\u001b[0m\u001b[0;34m\u001b[0m\u001b[0;34m\u001b[0m\u001b[0m\n\u001b[0;32m-> 1178\u001b[0;31m             \u001b[0mself\u001b[0m\u001b[0;34m.\u001b[0m\u001b[0m_engine\u001b[0m \u001b[0;34m=\u001b[0m \u001b[0mCParserWrapper\u001b[0m\u001b[0;34m(\u001b[0m\u001b[0mself\u001b[0m\u001b[0;34m.\u001b[0m\u001b[0mf\u001b[0m\u001b[0;34m,\u001b[0m \u001b[0;34m**\u001b[0m\u001b[0mself\u001b[0m\u001b[0;34m.\u001b[0m\u001b[0moptions\u001b[0m\u001b[0;34m)\u001b[0m\u001b[0;34m\u001b[0m\u001b[0;34m\u001b[0m\u001b[0m\n\u001b[0m\u001b[1;32m   1179\u001b[0m         \u001b[0;32melse\u001b[0m\u001b[0;34m:\u001b[0m\u001b[0;34m\u001b[0m\u001b[0;34m\u001b[0m\u001b[0m\n\u001b[1;32m   1180\u001b[0m             \u001b[0;32mif\u001b[0m \u001b[0mengine\u001b[0m \u001b[0;34m==\u001b[0m \u001b[0;34m\"python\"\u001b[0m\u001b[0;34m:\u001b[0m\u001b[0;34m\u001b[0m\u001b[0;34m\u001b[0m\u001b[0m\n",
      "\u001b[0;32m~/opt/anaconda3/lib/python3.8/site-packages/pandas/io/parsers.py\u001b[0m in \u001b[0;36m__init__\u001b[0;34m(self, src, **kwds)\u001b[0m\n\u001b[1;32m   1989\u001b[0m         \u001b[0;32mif\u001b[0m \u001b[0mkwds\u001b[0m\u001b[0;34m.\u001b[0m\u001b[0mget\u001b[0m\u001b[0;34m(\u001b[0m\u001b[0;34m\"compression\"\u001b[0m\u001b[0;34m)\u001b[0m \u001b[0;32mis\u001b[0m \u001b[0;32mNone\u001b[0m \u001b[0;32mand\u001b[0m \u001b[0mencoding\u001b[0m\u001b[0;34m:\u001b[0m\u001b[0;34m\u001b[0m\u001b[0;34m\u001b[0m\u001b[0m\n\u001b[1;32m   1990\u001b[0m             \u001b[0;32mif\u001b[0m \u001b[0misinstance\u001b[0m\u001b[0;34m(\u001b[0m\u001b[0msrc\u001b[0m\u001b[0;34m,\u001b[0m \u001b[0mstr\u001b[0m\u001b[0;34m)\u001b[0m\u001b[0;34m:\u001b[0m\u001b[0;34m\u001b[0m\u001b[0;34m\u001b[0m\u001b[0m\n\u001b[0;32m-> 1991\u001b[0;31m                 \u001b[0msrc\u001b[0m \u001b[0;34m=\u001b[0m \u001b[0mopen\u001b[0m\u001b[0;34m(\u001b[0m\u001b[0msrc\u001b[0m\u001b[0;34m,\u001b[0m \u001b[0;34m\"rb\"\u001b[0m\u001b[0;34m)\u001b[0m\u001b[0;34m\u001b[0m\u001b[0;34m\u001b[0m\u001b[0m\n\u001b[0m\u001b[1;32m   1992\u001b[0m                 \u001b[0mself\u001b[0m\u001b[0;34m.\u001b[0m\u001b[0mhandles\u001b[0m\u001b[0;34m.\u001b[0m\u001b[0mappend\u001b[0m\u001b[0;34m(\u001b[0m\u001b[0msrc\u001b[0m\u001b[0;34m)\u001b[0m\u001b[0;34m\u001b[0m\u001b[0;34m\u001b[0m\u001b[0m\n\u001b[1;32m   1993\u001b[0m \u001b[0;34m\u001b[0m\u001b[0m\n",
      "\u001b[0;31mFileNotFoundError\u001b[0m: [Errno 2] No such file or directory: 'i980-='"
     ]
    }
   ],
   "source": [
    "# Do not change this cell\n",
    "\n",
    "df_2019 = pd.read_csv('2019.csv', encoding='latin-1')\n",
    "df_2020 = pd.read_csv('i980-=', encoding='latin-1')\n",
    "df_2021 = pd.read_csv('2021.csv', encoding='latin-1')"
   ]
  },
  {
   "cell_type": "code",
   "execution_count": 249,
   "metadata": {
    "id": "w7pCCL8zYruv"
   },
   "outputs": [
    {
     "ename": "ValueError",
     "evalue": "Length mismatch: Expected axis has 11 elements, new values have 10 elements",
     "output_type": "error",
     "traceback": [
      "\u001b[0;31m---------------------------------------------------------------------------\u001b[0m",
      "\u001b[0;31mValueError\u001b[0m                                Traceback (most recent call last)",
      "\u001b[0;32m<ipython-input-249-1724062fbcce>\u001b[0m in \u001b[0;36m<module>\u001b[0;34m\u001b[0m\n\u001b[1;32m      1\u001b[0m \u001b[0;31m# Standardizing the column names\u001b[0m\u001b[0;34m\u001b[0m\u001b[0;34m\u001b[0m\u001b[0;34m\u001b[0m\u001b[0m\n\u001b[1;32m      2\u001b[0m \u001b[0mdf_2019\u001b[0m\u001b[0;34m.\u001b[0m\u001b[0mcolumns\u001b[0m \u001b[0;34m=\u001b[0m \u001b[0mdf_2019\u001b[0m\u001b[0;34m.\u001b[0m\u001b[0mcolumns\u001b[0m\u001b[0;34m.\u001b[0m\u001b[0mstr\u001b[0m\u001b[0;34m.\u001b[0m\u001b[0mlower\u001b[0m\u001b[0;34m(\u001b[0m\u001b[0;34m)\u001b[0m\u001b[0;34m\u001b[0m\u001b[0;34m\u001b[0m\u001b[0m\n\u001b[0;32m----> 3\u001b[0;31m \u001b[0mdf_2020\u001b[0m\u001b[0;34m.\u001b[0m\u001b[0mcolumns\u001b[0m \u001b[0;34m=\u001b[0m \u001b[0mdf_2019\u001b[0m\u001b[0;34m.\u001b[0m\u001b[0mcolumns\u001b[0m\u001b[0;34m.\u001b[0m\u001b[0mstr\u001b[0m\u001b[0;34m.\u001b[0m\u001b[0mlower\u001b[0m\u001b[0;34m(\u001b[0m\u001b[0;34m)\u001b[0m\u001b[0;34m\u001b[0m\u001b[0;34m\u001b[0m\u001b[0m\n\u001b[0m\u001b[1;32m      4\u001b[0m \u001b[0mdf_2021\u001b[0m\u001b[0;34m.\u001b[0m\u001b[0mcolumns\u001b[0m \u001b[0;34m=\u001b[0m \u001b[0mdf_2019\u001b[0m\u001b[0;34m.\u001b[0m\u001b[0mcolumns\u001b[0m\u001b[0;34m.\u001b[0m\u001b[0mstr\u001b[0m\u001b[0;34m.\u001b[0m\u001b[0mlower\u001b[0m\u001b[0;34m(\u001b[0m\u001b[0;34m)\u001b[0m\u001b[0;34m\u001b[0m\u001b[0;34m\u001b[0m\u001b[0m\n\u001b[1;32m      5\u001b[0m \u001b[0;34m\u001b[0m\u001b[0m\n",
      "\u001b[0;32m~/opt/anaconda3/lib/python3.8/site-packages/pandas/core/generic.py\u001b[0m in \u001b[0;36m__setattr__\u001b[0;34m(self, name, value)\u001b[0m\n\u001b[1;32m   5150\u001b[0m         \u001b[0;32mtry\u001b[0m\u001b[0;34m:\u001b[0m\u001b[0;34m\u001b[0m\u001b[0;34m\u001b[0m\u001b[0m\n\u001b[1;32m   5151\u001b[0m             \u001b[0mobject\u001b[0m\u001b[0;34m.\u001b[0m\u001b[0m__getattribute__\u001b[0m\u001b[0;34m(\u001b[0m\u001b[0mself\u001b[0m\u001b[0;34m,\u001b[0m \u001b[0mname\u001b[0m\u001b[0;34m)\u001b[0m\u001b[0;34m\u001b[0m\u001b[0;34m\u001b[0m\u001b[0m\n\u001b[0;32m-> 5152\u001b[0;31m             \u001b[0;32mreturn\u001b[0m \u001b[0mobject\u001b[0m\u001b[0;34m.\u001b[0m\u001b[0m__setattr__\u001b[0m\u001b[0;34m(\u001b[0m\u001b[0mself\u001b[0m\u001b[0;34m,\u001b[0m \u001b[0mname\u001b[0m\u001b[0;34m,\u001b[0m \u001b[0mvalue\u001b[0m\u001b[0;34m)\u001b[0m\u001b[0;34m\u001b[0m\u001b[0;34m\u001b[0m\u001b[0m\n\u001b[0m\u001b[1;32m   5153\u001b[0m         \u001b[0;32mexcept\u001b[0m \u001b[0mAttributeError\u001b[0m\u001b[0;34m:\u001b[0m\u001b[0;34m\u001b[0m\u001b[0;34m\u001b[0m\u001b[0m\n\u001b[1;32m   5154\u001b[0m             \u001b[0;32mpass\u001b[0m\u001b[0;34m\u001b[0m\u001b[0;34m\u001b[0m\u001b[0m\n",
      "\u001b[0;32mpandas/_libs/properties.pyx\u001b[0m in \u001b[0;36mpandas._libs.properties.AxisProperty.__set__\u001b[0;34m()\u001b[0m\n",
      "\u001b[0;32m~/opt/anaconda3/lib/python3.8/site-packages/pandas/core/generic.py\u001b[0m in \u001b[0;36m_set_axis\u001b[0;34m(self, axis, labels)\u001b[0m\n\u001b[1;32m    562\u001b[0m     \u001b[0;32mdef\u001b[0m \u001b[0m_set_axis\u001b[0m\u001b[0;34m(\u001b[0m\u001b[0mself\u001b[0m\u001b[0;34m,\u001b[0m \u001b[0maxis\u001b[0m\u001b[0;34m:\u001b[0m \u001b[0mint\u001b[0m\u001b[0;34m,\u001b[0m \u001b[0mlabels\u001b[0m\u001b[0;34m:\u001b[0m \u001b[0mIndex\u001b[0m\u001b[0;34m)\u001b[0m \u001b[0;34m->\u001b[0m \u001b[0;32mNone\u001b[0m\u001b[0;34m:\u001b[0m\u001b[0;34m\u001b[0m\u001b[0;34m\u001b[0m\u001b[0m\n\u001b[1;32m    563\u001b[0m         \u001b[0mlabels\u001b[0m \u001b[0;34m=\u001b[0m \u001b[0mensure_index\u001b[0m\u001b[0;34m(\u001b[0m\u001b[0mlabels\u001b[0m\u001b[0;34m)\u001b[0m\u001b[0;34m\u001b[0m\u001b[0;34m\u001b[0m\u001b[0m\n\u001b[0;32m--> 564\u001b[0;31m         \u001b[0mself\u001b[0m\u001b[0;34m.\u001b[0m\u001b[0m_mgr\u001b[0m\u001b[0;34m.\u001b[0m\u001b[0mset_axis\u001b[0m\u001b[0;34m(\u001b[0m\u001b[0maxis\u001b[0m\u001b[0;34m,\u001b[0m \u001b[0mlabels\u001b[0m\u001b[0;34m)\u001b[0m\u001b[0;34m\u001b[0m\u001b[0;34m\u001b[0m\u001b[0m\n\u001b[0m\u001b[1;32m    565\u001b[0m         \u001b[0mself\u001b[0m\u001b[0;34m.\u001b[0m\u001b[0m_clear_item_cache\u001b[0m\u001b[0;34m(\u001b[0m\u001b[0;34m)\u001b[0m\u001b[0;34m\u001b[0m\u001b[0;34m\u001b[0m\u001b[0m\n\u001b[1;32m    566\u001b[0m \u001b[0;34m\u001b[0m\u001b[0m\n",
      "\u001b[0;32m~/opt/anaconda3/lib/python3.8/site-packages/pandas/core/internals/managers.py\u001b[0m in \u001b[0;36mset_axis\u001b[0;34m(self, axis, new_labels)\u001b[0m\n\u001b[1;32m    224\u001b[0m \u001b[0;34m\u001b[0m\u001b[0m\n\u001b[1;32m    225\u001b[0m         \u001b[0;32mif\u001b[0m \u001b[0mnew_len\u001b[0m \u001b[0;34m!=\u001b[0m \u001b[0mold_len\u001b[0m\u001b[0;34m:\u001b[0m\u001b[0;34m\u001b[0m\u001b[0;34m\u001b[0m\u001b[0m\n\u001b[0;32m--> 226\u001b[0;31m             raise ValueError(\n\u001b[0m\u001b[1;32m    227\u001b[0m                 \u001b[0;34mf\"Length mismatch: Expected axis has {old_len} elements, new \"\u001b[0m\u001b[0;34m\u001b[0m\u001b[0;34m\u001b[0m\u001b[0m\n\u001b[1;32m    228\u001b[0m                 \u001b[0;34mf\"values have {new_len} elements\"\u001b[0m\u001b[0;34m\u001b[0m\u001b[0;34m\u001b[0m\u001b[0m\n",
      "\u001b[0;31mValueError\u001b[0m: Length mismatch: Expected axis has 11 elements, new values have 10 elements"
     ]
    }
   ],
   "source": [
    "# Standardizing the column names\n",
    "df_2019.columns = df_2019.columns.str.lower()\n",
    "df_2020.columns = df_2019.columns.str.lower()\n",
    "df_2021.columns = df_2019.columns.str.lower()\n",
    "\n",
    "# Restructuring the column indexes\n",
    "df_2019 = df_2019[['rank', 'university', 'region', 'academic reputation', 'employer reputation', 'faculty student', 'international faculty','international students', 'citations per faculty', 'overall score'] ]\n",
    "df_2020 = df_2020[['rank', 'university', 'region', 'academic reputation', 'employer reputation', 'faculty student', 'international faculty','international students', 'citations per faculty', 'overall score'] ]\n",
    "df_2021 = df_2021[['rank', 'university', 'region', 'academic reputation', 'employer reputation', 'faculty student', 'international faculty','international students', 'citations per faculty', 'overall score'] ]\n"
   ]
  },
  {
   "cell_type": "markdown",
   "metadata": {
    "id": "qfK7Ki5CrhY9"
   },
   "source": [
    "Let's check a few rows from each dataframe"
   ]
  },
  {
   "cell_type": "code",
   "execution_count": 250,
   "metadata": {
    "colab": {
     "base_uri": "https://localhost:8080/",
     "height": 231
    },
    "id": "PFsayuqqVI5_",
    "outputId": "d5dd794b-5df3-4c9d-c88c-52d46ff5566b"
   },
   "outputs": [
    {
     "data": {
      "text/html": [
       "<div>\n",
       "<style scoped>\n",
       "    .dataframe tbody tr th:only-of-type {\n",
       "        vertical-align: middle;\n",
       "    }\n",
       "\n",
       "    .dataframe tbody tr th {\n",
       "        vertical-align: top;\n",
       "    }\n",
       "\n",
       "    .dataframe thead th {\n",
       "        text-align: right;\n",
       "    }\n",
       "</style>\n",
       "<table border=\"1\" class=\"dataframe\">\n",
       "  <thead>\n",
       "    <tr style=\"text-align: right;\">\n",
       "      <th></th>\n",
       "      <th>rank</th>\n",
       "      <th>university</th>\n",
       "      <th>overall score</th>\n",
       "      <th>academic reputation</th>\n",
       "      <th>employer reputation</th>\n",
       "      <th>faculty student</th>\n",
       "      <th>international faculty</th>\n",
       "      <th>international students</th>\n",
       "      <th>citations per faculty</th>\n",
       "      <th>region</th>\n",
       "    </tr>\n",
       "  </thead>\n",
       "  <tbody>\n",
       "    <tr>\n",
       "      <th>0</th>\n",
       "      <td>1</td>\n",
       "      <td>Massachusetts Institute of Technology (MIT)</td>\n",
       "      <td>100.0</td>\n",
       "      <td>100.0</td>\n",
       "      <td>100.0</td>\n",
       "      <td>100.0</td>\n",
       "      <td>100.0</td>\n",
       "      <td>95.5</td>\n",
       "      <td>99.8</td>\n",
       "      <td>USA</td>\n",
       "    </tr>\n",
       "    <tr>\n",
       "      <th>1</th>\n",
       "      <td>2</td>\n",
       "      <td>Stanford University</td>\n",
       "      <td>98.6</td>\n",
       "      <td>100.0</td>\n",
       "      <td>100.0</td>\n",
       "      <td>100.0</td>\n",
       "      <td>99.8</td>\n",
       "      <td>70.5</td>\n",
       "      <td>99.0</td>\n",
       "      <td>USA</td>\n",
       "    </tr>\n",
       "    <tr>\n",
       "      <th>2</th>\n",
       "      <td>3</td>\n",
       "      <td>Harvard University</td>\n",
       "      <td>98.5</td>\n",
       "      <td>100.0</td>\n",
       "      <td>100.0</td>\n",
       "      <td>99.3</td>\n",
       "      <td>92.1</td>\n",
       "      <td>75.7</td>\n",
       "      <td>99.8</td>\n",
       "      <td>USA</td>\n",
       "    </tr>\n",
       "    <tr>\n",
       "      <th>3</th>\n",
       "      <td>4</td>\n",
       "      <td>California Institute of Technology (Caltech)</td>\n",
       "      <td>97.2</td>\n",
       "      <td>98.7</td>\n",
       "      <td>81.2</td>\n",
       "      <td>100.0</td>\n",
       "      <td>96.8</td>\n",
       "      <td>90.3</td>\n",
       "      <td>100.0</td>\n",
       "      <td>USA</td>\n",
       "    </tr>\n",
       "    <tr>\n",
       "      <th>4</th>\n",
       "      <td>5</td>\n",
       "      <td>University of Oxford</td>\n",
       "      <td>96.8</td>\n",
       "      <td>100.0</td>\n",
       "      <td>100.0</td>\n",
       "      <td>100.0</td>\n",
       "      <td>99.6</td>\n",
       "      <td>98.8</td>\n",
       "      <td>83.0</td>\n",
       "      <td>UK</td>\n",
       "    </tr>\n",
       "    <tr>\n",
       "      <th>5</th>\n",
       "      <td>6</td>\n",
       "      <td>University of Cambridge</td>\n",
       "      <td>95.6</td>\n",
       "      <td>100.0</td>\n",
       "      <td>100.0</td>\n",
       "      <td>100.0</td>\n",
       "      <td>99.4</td>\n",
       "      <td>97.9</td>\n",
       "      <td>77.2</td>\n",
       "      <td>UK</td>\n",
       "    </tr>\n",
       "    <tr>\n",
       "      <th>6</th>\n",
       "      <td>7</td>\n",
       "      <td>ETH Zurich - Swiss Federal Institute of Techno...</td>\n",
       "      <td>95.3</td>\n",
       "      <td>98.2</td>\n",
       "      <td>96.2</td>\n",
       "      <td>82.4</td>\n",
       "      <td>100.0</td>\n",
       "      <td>98.6</td>\n",
       "      <td>98.7</td>\n",
       "      <td>Switzerand</td>\n",
       "    </tr>\n",
       "    <tr>\n",
       "      <th>7</th>\n",
       "      <td>8</td>\n",
       "      <td>Imperial College London</td>\n",
       "      <td>93.3</td>\n",
       "      <td>98.7</td>\n",
       "      <td>99.9</td>\n",
       "      <td>99.9</td>\n",
       "      <td>100.0</td>\n",
       "      <td>100.0</td>\n",
       "      <td>67.8</td>\n",
       "      <td>UK</td>\n",
       "    </tr>\n",
       "    <tr>\n",
       "      <th>8</th>\n",
       "      <td>9</td>\n",
       "      <td>University of Chicago</td>\n",
       "      <td>93.2</td>\n",
       "      <td>99.6</td>\n",
       "      <td>90.7</td>\n",
       "      <td>97.4</td>\n",
       "      <td>74.2</td>\n",
       "      <td>82.5</td>\n",
       "      <td>83.6</td>\n",
       "      <td>USA</td>\n",
       "    </tr>\n",
       "    <tr>\n",
       "      <th>9</th>\n",
       "      <td>10</td>\n",
       "      <td>UCL</td>\n",
       "      <td>92.9</td>\n",
       "      <td>99.3</td>\n",
       "      <td>99.2</td>\n",
       "      <td>99.2</td>\n",
       "      <td>98.7</td>\n",
       "      <td>100.0</td>\n",
       "      <td>66.2</td>\n",
       "      <td>UK</td>\n",
       "    </tr>\n",
       "  </tbody>\n",
       "</table>\n",
       "</div>"
      ],
      "text/plain": [
       "   rank                                         university  overall score  \\\n",
       "0     1        Massachusetts Institute of Technology (MIT)          100.0   \n",
       "1     2                                Stanford University           98.6   \n",
       "2     3                                 Harvard University           98.5   \n",
       "3     4       California Institute of Technology (Caltech)           97.2   \n",
       "4     5                               University of Oxford           96.8   \n",
       "5     6                            University of Cambridge           95.6   \n",
       "6     7  ETH Zurich - Swiss Federal Institute of Techno...           95.3   \n",
       "7     8                            Imperial College London           93.3   \n",
       "8     9                              University of Chicago           93.2   \n",
       "9    10                                                UCL           92.9   \n",
       "\n",
       "   academic reputation  employer reputation  faculty student  \\\n",
       "0                100.0                100.0            100.0   \n",
       "1                100.0                100.0            100.0   \n",
       "2                100.0                100.0             99.3   \n",
       "3                 98.7                 81.2            100.0   \n",
       "4                100.0                100.0            100.0   \n",
       "5                100.0                100.0            100.0   \n",
       "6                 98.2                 96.2             82.4   \n",
       "7                 98.7                 99.9             99.9   \n",
       "8                 99.6                 90.7             97.4   \n",
       "9                 99.3                 99.2             99.2   \n",
       "\n",
       "   international faculty  international students  citations per faculty  \\\n",
       "0                  100.0                    95.5                   99.8   \n",
       "1                   99.8                    70.5                   99.0   \n",
       "2                   92.1                    75.7                   99.8   \n",
       "3                   96.8                    90.3                  100.0   \n",
       "4                   99.6                    98.8                   83.0   \n",
       "5                   99.4                    97.9                   77.2   \n",
       "6                  100.0                    98.6                   98.7   \n",
       "7                  100.0                   100.0                   67.8   \n",
       "8                   74.2                    82.5                   83.6   \n",
       "9                   98.7                   100.0                   66.2   \n",
       "\n",
       "       region  \n",
       "0         USA  \n",
       "1         USA  \n",
       "2         USA  \n",
       "3         USA  \n",
       "4          UK  \n",
       "5          UK  \n",
       "6  Switzerand  \n",
       "7          UK  \n",
       "8         USA  \n",
       "9          UK  "
      ]
     },
     "execution_count": 250,
     "metadata": {},
     "output_type": "execute_result"
    }
   ],
   "source": [
    "df_2019.head(10)"
   ]
  },
  {
   "cell_type": "code",
   "execution_count": 251,
   "metadata": {
    "colab": {
     "base_uri": "https://localhost:8080/",
     "height": 247
    },
    "id": "j8FqriChVI77",
    "outputId": "f894d068-3392-42d1-dda7-8400b16b6ac1"
   },
   "outputs": [
    {
     "data": {
      "text/html": [
       "<div>\n",
       "<style scoped>\n",
       "    .dataframe tbody tr th:only-of-type {\n",
       "        vertical-align: middle;\n",
       "    }\n",
       "\n",
       "    .dataframe tbody tr th {\n",
       "        vertical-align: top;\n",
       "    }\n",
       "\n",
       "    .dataframe thead th {\n",
       "        text-align: right;\n",
       "    }\n",
       "</style>\n",
       "<table border=\"1\" class=\"dataframe\">\n",
       "  <thead>\n",
       "    <tr style=\"text-align: right;\">\n",
       "      <th></th>\n",
       "      <th>rank</th>\n",
       "      <th>university</th>\n",
       "      <th>region</th>\n",
       "      <th>academic reputation</th>\n",
       "      <th>employer reputation</th>\n",
       "      <th>faculty student</th>\n",
       "      <th>international faculty</th>\n",
       "      <th>international students</th>\n",
       "      <th>citations per faculty</th>\n",
       "      <th>overall score</th>\n",
       "      <th>year</th>\n",
       "    </tr>\n",
       "  </thead>\n",
       "  <tbody>\n",
       "    <tr>\n",
       "      <th>0</th>\n",
       "      <td>1</td>\n",
       "      <td>Massachusetts Institute of Technology (MIT)</td>\n",
       "      <td>USA</td>\n",
       "      <td>99.8</td>\n",
       "      <td>94.1</td>\n",
       "      <td>100.0</td>\n",
       "      <td>100.0</td>\n",
       "      <td>100.0</td>\n",
       "      <td>100.0</td>\n",
       "      <td>100.0</td>\n",
       "      <td>2020</td>\n",
       "    </tr>\n",
       "    <tr>\n",
       "      <th>1</th>\n",
       "      <td>2</td>\n",
       "      <td>Stanford University</td>\n",
       "      <td>USA</td>\n",
       "      <td>98.6</td>\n",
       "      <td>67.7</td>\n",
       "      <td>99.8</td>\n",
       "      <td>100.0</td>\n",
       "      <td>100.0</td>\n",
       "      <td>100.0</td>\n",
       "      <td>98.4</td>\n",
       "      <td>2020</td>\n",
       "    </tr>\n",
       "    <tr>\n",
       "      <th>2</th>\n",
       "      <td>3</td>\n",
       "      <td>Harvard University</td>\n",
       "      <td>USA</td>\n",
       "      <td>99.6</td>\n",
       "      <td>62.2</td>\n",
       "      <td>86.3</td>\n",
       "      <td>98.7</td>\n",
       "      <td>100.0</td>\n",
       "      <td>100.0</td>\n",
       "      <td>97.4</td>\n",
       "      <td>2020</td>\n",
       "    </tr>\n",
       "    <tr>\n",
       "      <th>3</th>\n",
       "      <td>4</td>\n",
       "      <td>University of Oxford</td>\n",
       "      <td>UK</td>\n",
       "      <td>84.7</td>\n",
       "      <td>98.5</td>\n",
       "      <td>99.7</td>\n",
       "      <td>100.0</td>\n",
       "      <td>100.0</td>\n",
       "      <td>100.0</td>\n",
       "      <td>97.2</td>\n",
       "      <td>2020</td>\n",
       "    </tr>\n",
       "    <tr>\n",
       "      <th>4</th>\n",
       "      <td>5</td>\n",
       "      <td>California Institute of Technology (Caltech)</td>\n",
       "      <td>USA</td>\n",
       "      <td>100.0</td>\n",
       "      <td>87.3</td>\n",
       "      <td>99.4</td>\n",
       "      <td>100.0</td>\n",
       "      <td>81.2</td>\n",
       "      <td>97.8</td>\n",
       "      <td>96.9</td>\n",
       "      <td>2020</td>\n",
       "    </tr>\n",
       "    <tr>\n",
       "      <th>5</th>\n",
       "      <td>6</td>\n",
       "      <td>ETH Zurich - Swiss Federal Institute of Techno...</td>\n",
       "      <td>Switzerland</td>\n",
       "      <td>98.4</td>\n",
       "      <td>98.0</td>\n",
       "      <td>100.0</td>\n",
       "      <td>85.0</td>\n",
       "      <td>96.7</td>\n",
       "      <td>98.4</td>\n",
       "      <td>95.9</td>\n",
       "      <td>2020</td>\n",
       "    </tr>\n",
       "    <tr>\n",
       "      <th>6</th>\n",
       "      <td>7</td>\n",
       "      <td>University of Cambridge</td>\n",
       "      <td>UK</td>\n",
       "      <td>74.2</td>\n",
       "      <td>97.6</td>\n",
       "      <td>100.0</td>\n",
       "      <td>100.0</td>\n",
       "      <td>100.0</td>\n",
       "      <td>100.0</td>\n",
       "      <td>95.0</td>\n",
       "      <td>2020</td>\n",
       "    </tr>\n",
       "    <tr>\n",
       "      <th>7</th>\n",
       "      <td>8</td>\n",
       "      <td>UCL</td>\n",
       "      <td>UK</td>\n",
       "      <td>76.7</td>\n",
       "      <td>100.0</td>\n",
       "      <td>99.1</td>\n",
       "      <td>98.1</td>\n",
       "      <td>98.7</td>\n",
       "      <td>99.3</td>\n",
       "      <td>94.8</td>\n",
       "      <td>2020</td>\n",
       "    </tr>\n",
       "    <tr>\n",
       "      <th>8</th>\n",
       "      <td>9</td>\n",
       "      <td>Imperial College London</td>\n",
       "      <td>UK</td>\n",
       "      <td>72.1</td>\n",
       "      <td>100.0</td>\n",
       "      <td>100.0</td>\n",
       "      <td>99.8</td>\n",
       "      <td>99.9</td>\n",
       "      <td>98.6</td>\n",
       "      <td>94.1</td>\n",
       "      <td>2020</td>\n",
       "    </tr>\n",
       "    <tr>\n",
       "      <th>9</th>\n",
       "      <td>10</td>\n",
       "      <td>University of Chicago</td>\n",
       "      <td>USA</td>\n",
       "      <td>78.5</td>\n",
       "      <td>81.0</td>\n",
       "      <td>70.2</td>\n",
       "      <td>96.5</td>\n",
       "      <td>93.7</td>\n",
       "      <td>99.5</td>\n",
       "      <td>92.0</td>\n",
       "      <td>2020</td>\n",
       "    </tr>\n",
       "  </tbody>\n",
       "</table>\n",
       "</div>"
      ],
      "text/plain": [
       "   rank                                         university       region  \\\n",
       "0     1        Massachusetts Institute of Technology (MIT)          USA   \n",
       "1     2                                Stanford University          USA   \n",
       "2     3                                 Harvard University          USA   \n",
       "3     4                               University of Oxford           UK   \n",
       "4     5       California Institute of Technology (Caltech)          USA   \n",
       "5     6  ETH Zurich - Swiss Federal Institute of Techno...  Switzerland   \n",
       "6     7                            University of Cambridge           UK   \n",
       "7     8                                                UCL           UK   \n",
       "8     9                            Imperial College London           UK   \n",
       "9    10                              University of Chicago          USA   \n",
       "\n",
       "   academic reputation  employer reputation  faculty student  \\\n",
       "0                 99.8                 94.1            100.0   \n",
       "1                 98.6                 67.7             99.8   \n",
       "2                 99.6                 62.2             86.3   \n",
       "3                 84.7                 98.5             99.7   \n",
       "4                100.0                 87.3             99.4   \n",
       "5                 98.4                 98.0            100.0   \n",
       "6                 74.2                 97.6            100.0   \n",
       "7                 76.7                100.0             99.1   \n",
       "8                 72.1                100.0            100.0   \n",
       "9                 78.5                 81.0             70.2   \n",
       "\n",
       "   international faculty  international students  citations per faculty  \\\n",
       "0                  100.0                   100.0                  100.0   \n",
       "1                  100.0                   100.0                  100.0   \n",
       "2                   98.7                   100.0                  100.0   \n",
       "3                  100.0                   100.0                  100.0   \n",
       "4                  100.0                    81.2                   97.8   \n",
       "5                   85.0                    96.7                   98.4   \n",
       "6                  100.0                   100.0                  100.0   \n",
       "7                   98.1                    98.7                   99.3   \n",
       "8                   99.8                    99.9                   98.6   \n",
       "9                   96.5                    93.7                   99.5   \n",
       "\n",
       "   overall score  year  \n",
       "0          100.0  2020  \n",
       "1           98.4  2020  \n",
       "2           97.4  2020  \n",
       "3           97.2  2020  \n",
       "4           96.9  2020  \n",
       "5           95.9  2020  \n",
       "6           95.0  2020  \n",
       "7           94.8  2020  \n",
       "8           94.1  2020  \n",
       "9           92.0  2020  "
      ]
     },
     "execution_count": 251,
     "metadata": {},
     "output_type": "execute_result"
    }
   ],
   "source": [
    "df_2020.head(10)"
   ]
  },
  {
   "cell_type": "code",
   "execution_count": 252,
   "metadata": {
    "colab": {
     "base_uri": "https://localhost:8080/",
     "height": 247
    },
    "id": "KoXs1u0SVI_d",
    "outputId": "8448a03f-9f80-4209-b9ae-73004f128f8d"
   },
   "outputs": [
    {
     "data": {
      "text/html": [
       "<div>\n",
       "<style scoped>\n",
       "    .dataframe tbody tr th:only-of-type {\n",
       "        vertical-align: middle;\n",
       "    }\n",
       "\n",
       "    .dataframe tbody tr th {\n",
       "        vertical-align: top;\n",
       "    }\n",
       "\n",
       "    .dataframe thead th {\n",
       "        text-align: right;\n",
       "    }\n",
       "</style>\n",
       "<table border=\"1\" class=\"dataframe\">\n",
       "  <thead>\n",
       "    <tr style=\"text-align: right;\">\n",
       "      <th></th>\n",
       "      <th>rank</th>\n",
       "      <th>university</th>\n",
       "      <th>region</th>\n",
       "      <th>academic reputation</th>\n",
       "      <th>employer reputation</th>\n",
       "      <th>faculty student</th>\n",
       "      <th>international faculty</th>\n",
       "      <th>international students</th>\n",
       "      <th>citations per faculty</th>\n",
       "      <th>overall score</th>\n",
       "      <th>year</th>\n",
       "    </tr>\n",
       "  </thead>\n",
       "  <tbody>\n",
       "    <tr>\n",
       "      <th>0</th>\n",
       "      <td>1</td>\n",
       "      <td>Massachusetts Institute of Technology (MIT)</td>\n",
       "      <td>USA</td>\n",
       "      <td>99.8</td>\n",
       "      <td>94.1</td>\n",
       "      <td>100.0</td>\n",
       "      <td>100.0</td>\n",
       "      <td>100.0</td>\n",
       "      <td>100.0</td>\n",
       "      <td>100.0</td>\n",
       "      <td>2021</td>\n",
       "    </tr>\n",
       "    <tr>\n",
       "      <th>1</th>\n",
       "      <td>2</td>\n",
       "      <td>Stanford University</td>\n",
       "      <td>USA</td>\n",
       "      <td>98.6</td>\n",
       "      <td>67.7</td>\n",
       "      <td>99.8</td>\n",
       "      <td>100.0</td>\n",
       "      <td>100.0</td>\n",
       "      <td>100.0</td>\n",
       "      <td>98.4</td>\n",
       "      <td>2021</td>\n",
       "    </tr>\n",
       "    <tr>\n",
       "      <th>2</th>\n",
       "      <td>3</td>\n",
       "      <td>Harvard University</td>\n",
       "      <td>USA</td>\n",
       "      <td>99.6</td>\n",
       "      <td>62.2</td>\n",
       "      <td>86.3</td>\n",
       "      <td>98.7</td>\n",
       "      <td>100.0</td>\n",
       "      <td>100.0</td>\n",
       "      <td>97.4</td>\n",
       "      <td>2021</td>\n",
       "    </tr>\n",
       "    <tr>\n",
       "      <th>3</th>\n",
       "      <td>4</td>\n",
       "      <td>University of Oxford</td>\n",
       "      <td>UK</td>\n",
       "      <td>84.7</td>\n",
       "      <td>98.5</td>\n",
       "      <td>99.7</td>\n",
       "      <td>100.0</td>\n",
       "      <td>100.0</td>\n",
       "      <td>100.0</td>\n",
       "      <td>97.2</td>\n",
       "      <td>2021</td>\n",
       "    </tr>\n",
       "    <tr>\n",
       "      <th>4</th>\n",
       "      <td>5</td>\n",
       "      <td>California Institute of Technology (Caltech)</td>\n",
       "      <td>USA</td>\n",
       "      <td>100.0</td>\n",
       "      <td>87.3</td>\n",
       "      <td>99.4</td>\n",
       "      <td>100.0</td>\n",
       "      <td>81.2</td>\n",
       "      <td>97.8</td>\n",
       "      <td>96.9</td>\n",
       "      <td>2021</td>\n",
       "    </tr>\n",
       "    <tr>\n",
       "      <th>5</th>\n",
       "      <td>6</td>\n",
       "      <td>ETH Zurich - Swiss Federal Institute of Techno...</td>\n",
       "      <td>Switzerland</td>\n",
       "      <td>98.4</td>\n",
       "      <td>98.0</td>\n",
       "      <td>100.0</td>\n",
       "      <td>85.0</td>\n",
       "      <td>96.7</td>\n",
       "      <td>98.4</td>\n",
       "      <td>95.9</td>\n",
       "      <td>2021</td>\n",
       "    </tr>\n",
       "    <tr>\n",
       "      <th>6</th>\n",
       "      <td>7</td>\n",
       "      <td>University of Cambridge</td>\n",
       "      <td>UK</td>\n",
       "      <td>74.2</td>\n",
       "      <td>97.6</td>\n",
       "      <td>100.0</td>\n",
       "      <td>100.0</td>\n",
       "      <td>100.0</td>\n",
       "      <td>100.0</td>\n",
       "      <td>95.0</td>\n",
       "      <td>2021</td>\n",
       "    </tr>\n",
       "    <tr>\n",
       "      <th>7</th>\n",
       "      <td>8</td>\n",
       "      <td>UCL</td>\n",
       "      <td>UK</td>\n",
       "      <td>76.7</td>\n",
       "      <td>100.0</td>\n",
       "      <td>99.1</td>\n",
       "      <td>98.1</td>\n",
       "      <td>98.7</td>\n",
       "      <td>99.3</td>\n",
       "      <td>94.8</td>\n",
       "      <td>2021</td>\n",
       "    </tr>\n",
       "    <tr>\n",
       "      <th>8</th>\n",
       "      <td>9</td>\n",
       "      <td>Imperial College London</td>\n",
       "      <td>UK</td>\n",
       "      <td>72.1</td>\n",
       "      <td>100.0</td>\n",
       "      <td>100.0</td>\n",
       "      <td>99.8</td>\n",
       "      <td>99.9</td>\n",
       "      <td>98.6</td>\n",
       "      <td>94.1</td>\n",
       "      <td>2021</td>\n",
       "    </tr>\n",
       "    <tr>\n",
       "      <th>9</th>\n",
       "      <td>10</td>\n",
       "      <td>University of Chicago</td>\n",
       "      <td>USA</td>\n",
       "      <td>78.5</td>\n",
       "      <td>81.0</td>\n",
       "      <td>70.2</td>\n",
       "      <td>96.5</td>\n",
       "      <td>93.7</td>\n",
       "      <td>99.5</td>\n",
       "      <td>92.0</td>\n",
       "      <td>2021</td>\n",
       "    </tr>\n",
       "  </tbody>\n",
       "</table>\n",
       "</div>"
      ],
      "text/plain": [
       "   rank                                         university       region  \\\n",
       "0     1        Massachusetts Institute of Technology (MIT)          USA   \n",
       "1     2                                Stanford University          USA   \n",
       "2     3                                 Harvard University          USA   \n",
       "3     4                               University of Oxford           UK   \n",
       "4     5       California Institute of Technology (Caltech)          USA   \n",
       "5     6  ETH Zurich - Swiss Federal Institute of Techno...  Switzerland   \n",
       "6     7                            University of Cambridge           UK   \n",
       "7     8                                                UCL           UK   \n",
       "8     9                            Imperial College London           UK   \n",
       "9    10                              University of Chicago          USA   \n",
       "\n",
       "   academic reputation  employer reputation  faculty student  \\\n",
       "0                 99.8                 94.1            100.0   \n",
       "1                 98.6                 67.7             99.8   \n",
       "2                 99.6                 62.2             86.3   \n",
       "3                 84.7                 98.5             99.7   \n",
       "4                100.0                 87.3             99.4   \n",
       "5                 98.4                 98.0            100.0   \n",
       "6                 74.2                 97.6            100.0   \n",
       "7                 76.7                100.0             99.1   \n",
       "8                 72.1                100.0            100.0   \n",
       "9                 78.5                 81.0             70.2   \n",
       "\n",
       "   international faculty  international students  citations per faculty  \\\n",
       "0                  100.0                   100.0                  100.0   \n",
       "1                  100.0                   100.0                  100.0   \n",
       "2                   98.7                   100.0                  100.0   \n",
       "3                  100.0                   100.0                  100.0   \n",
       "4                  100.0                    81.2                   97.8   \n",
       "5                   85.0                    96.7                   98.4   \n",
       "6                  100.0                   100.0                  100.0   \n",
       "7                   98.1                    98.7                   99.3   \n",
       "8                   99.8                    99.9                   98.6   \n",
       "9                   96.5                    93.7                   99.5   \n",
       "\n",
       "   overall score  year  \n",
       "0          100.0  2021  \n",
       "1           98.4  2021  \n",
       "2           97.4  2021  \n",
       "3           97.2  2021  \n",
       "4           96.9  2021  \n",
       "5           95.9  2021  \n",
       "6           95.0  2021  \n",
       "7           94.8  2021  \n",
       "8           94.1  2021  \n",
       "9           92.0  2021  "
      ]
     },
     "execution_count": 252,
     "metadata": {},
     "output_type": "execute_result"
    }
   ],
   "source": [
    "df_2021.head(10)"
   ]
  },
  {
   "cell_type": "markdown",
   "metadata": {
    "id": "OmbsyG40rok7"
   },
   "source": [
    "Let's also see where we stand in terms of Null values and data types"
   ]
  },
  {
   "cell_type": "code",
   "execution_count": 255,
   "metadata": {
    "colab": {
     "base_uri": "https://localhost:8080/"
    },
    "id": "tPdtE1NyemnH",
    "outputId": "570d2c4c-5e88-4010-a9c3-2ee72cb445ef"
   },
   "outputs": [
    {
     "name": "stdout",
     "output_type": "stream",
     "text": [
      "<class 'pandas.core.frame.DataFrame'>\n",
      "RangeIndex: 100 entries, 0 to 99\n",
      "Data columns (total 10 columns):\n",
      " #   Column                  Non-Null Count  Dtype  \n",
      "---  ------                  --------------  -----  \n",
      " 0   rank                    100 non-null    int64  \n",
      " 1   university              100 non-null    object \n",
      " 2   overall score           100 non-null    float64\n",
      " 3   academic reputation     100 non-null    float64\n",
      " 4   employer reputation     100 non-null    float64\n",
      " 5   faculty student         100 non-null    float64\n",
      " 6   international faculty   100 non-null    float64\n",
      " 7   international students  100 non-null    float64\n",
      " 8   citations per faculty   100 non-null    float64\n",
      " 9   region                  100 non-null    object \n",
      "dtypes: float64(7), int64(1), object(2)\n",
      "memory usage: 7.9+ KB\n",
      "<class 'pandas.core.frame.DataFrame'>\n",
      "RangeIndex: 100 entries, 0 to 99\n",
      "Data columns (total 11 columns):\n",
      " #   Column                  Non-Null Count  Dtype  \n",
      "---  ------                  --------------  -----  \n",
      " 0   rank                    100 non-null    int64  \n",
      " 1   university              100 non-null    object \n",
      " 2   region                  100 non-null    object \n",
      " 3   academic reputation     100 non-null    float64\n",
      " 4   employer reputation     100 non-null    float64\n",
      " 5   faculty student         100 non-null    float64\n",
      " 6   international faculty   100 non-null    float64\n",
      " 7   international students  100 non-null    float64\n",
      " 8   citations per faculty   100 non-null    float64\n",
      " 9   overall score           100 non-null    float64\n",
      " 10  year                    100 non-null    int64  \n",
      "dtypes: float64(7), int64(2), object(2)\n",
      "memory usage: 8.7+ KB\n",
      "<class 'pandas.core.frame.DataFrame'>\n",
      "RangeIndex: 100 entries, 0 to 99\n",
      "Data columns (total 11 columns):\n",
      " #   Column                  Non-Null Count  Dtype  \n",
      "---  ------                  --------------  -----  \n",
      " 0   rank                    100 non-null    int64  \n",
      " 1   university              100 non-null    object \n",
      " 2   region                  100 non-null    object \n",
      " 3   academic reputation     100 non-null    float64\n",
      " 4   employer reputation     100 non-null    float64\n",
      " 5   faculty student         100 non-null    float64\n",
      " 6   international faculty   100 non-null    float64\n",
      " 7   international students  100 non-null    float64\n",
      " 8   citations per faculty   100 non-null    float64\n",
      " 9   overall score           100 non-null    float64\n",
      " 10  year                    100 non-null    int64  \n",
      "dtypes: float64(7), int64(2), object(2)\n",
      "memory usage: 8.7+ KB\n"
     ]
    }
   ],
   "source": [
    "df_2019.info()\n",
    "df_2020.info()\n",
    "df_2021.info()\n"
   ]
  },
  {
   "cell_type": "markdown",
   "metadata": {
    "id": "qEN0bpewruOB"
   },
   "source": [
    "So, all good!"
   ]
  },
  {
   "cell_type": "markdown",
   "metadata": {
    "id": "6fzYHqLtv8mz"
   },
   "source": [
    "Notice that there is no 'year' column in any of the dataframe. As your first task, append an appropriate 'year' column in each dataframe."
   ]
  },
  {
   "cell_type": "markdown",
   "metadata": {
    "id": "z29LkspewNRn"
   },
   "source": [
    "**Q1.** Append a column 'year' in each dataframe. It must correspond to the year for which the data is represented. (3)"
   ]
  },
  {
   "cell_type": "code",
   "execution_count": 256,
   "metadata": {
    "id": "Saef0Mu5i5XZ"
   },
   "outputs": [],
   "source": [
    "# Enter Code here\n",
    "df_2019[\"year\"]=2019\n",
    "df_2020[\"year\"]=2020\n",
    "df_2021[\"year\"]=2021\n",
    "\n"
   ]
  },
  {
   "cell_type": "markdown",
   "metadata": {
    "id": "lGMmDh941L-y"
   },
   "source": [
    "**Q2.** Next, find the count of universities in each region that made it to the Top 100 each year. Print all of them in the same cell. (3)\n",
    "<br> Do you notice some trend? Comment on what you observe and why might that be consistent throughout the years. (1)"
   ]
  },
  {
   "cell_type": "code",
   "execution_count": 257,
   "metadata": {
    "id": "VgN0f8IdxwoS"
   },
   "outputs": [
    {
     "name": "stdout",
     "output_type": "stream",
     "text": [
      "             2019  2020  2021\n",
      "Argentina     1.0   1.0   1.0\n",
      "Australia     6.0   7.0   7.0\n",
      "Belgium       1.0   1.0   1.0\n",
      "Canada        2.0   2.0   2.0\n",
      "China        11.0  11.0  11.0\n",
      "Denmark       1.0   1.0   1.0\n",
      "France        3.0   2.0   2.0\n",
      "Germany       3.0   3.0   4.0\n",
      "Japan         5.0   5.0   5.0\n",
      "Malaysia      1.0   1.0   1.0\n",
      "Netherlands   4.0   2.0   2.0\n",
      "New Zealand   1.0   1.0   1.0\n",
      "Russia        1.0   1.0   1.0\n",
      "Scotland      1.0   NaN   NaN\n",
      "Singapore     2.0   2.0   2.0\n",
      "South Korea   4.0   5.0   5.0\n",
      "Sweden        1.0   2.0   2.0\n",
      "Switzerand    3.0   NaN   NaN\n",
      "Switzerland   NaN   4.0   4.0\n",
      "Taiwan        1.0   1.0   1.0\n",
      "UK           18.0  19.0  18.0\n",
      "USA          30.0  29.0  29.0\n"
     ]
    }
   ],
   "source": [
    "# Enter Code here\n",
    "reg_2019 =  df_2019.groupby('region')['region'].count()\n",
    "reg_2020 =  df_2020.groupby('region')['region'].count()\n",
    "reg_2021 =  df_2021.groupby('region')['region'].count()\n",
    "all_reg={'2019': reg_2019, '2020': reg_2020,'2021':reg_2021}\n",
    "df = pd.DataFrame(data=all_reg)\n",
    "print(df)\n",
    "#print(reg_2019)\n"
   ]
  },
  {
   "cell_type": "markdown",
   "metadata": {
    "id": "IbC-ODBeVgD7"
   },
   "source": [
    "**Q3.** From the data of 2021, find the average score of all attributes for all universities. (2)"
   ]
  },
  {
   "cell_type": "code",
   "execution_count": 258,
   "metadata": {
    "id": "pD6NJOPeVrrN"
   },
   "outputs": [
    {
     "data": {
      "text/plain": [
       "rank                        50.420\n",
       "academic reputation         67.041\n",
       "employer reputation         67.680\n",
       "faculty student             73.539\n",
       "international faculty       70.088\n",
       "international students      79.092\n",
       "citations per faculty       82.147\n",
       "overall score               75.504\n",
       "year                      2021.000\n",
       "dtype: float64"
      ]
     },
     "execution_count": 258,
     "metadata": {},
     "output_type": "execute_result"
    }
   ],
   "source": [
    "df_2021.mean()\n"
   ]
  },
  {
   "cell_type": "markdown",
   "metadata": {
    "id": "MRdFZO1QWgQh"
   },
   "source": [
    "**Q4.** From the same data of 2021, now find the average of *each* region for **all** attributes **excluding** 'rank' and 'year'. Store the results in a temporary variable named **average_2021**. (3)"
   ]
  },
  {
   "cell_type": "code",
   "execution_count": 259,
   "metadata": {
    "id": "LXo_2nuoW7oo"
   },
   "outputs": [
    {
     "name": "stderr",
     "output_type": "stream",
     "text": [
      "<ipython-input-259-eaae120b606d>:2: FutureWarning: Indexing with multiple keys (implicitly converted to a tuple of keys) will be deprecated, use a list instead.\n",
      "  average_2021=df_2021.groupby('region')['academic reputation', 'employer reputation','faculty student','international faculty','international students','citations per faculty','overall score'].mean()\n"
     ]
    },
    {
     "data": {
      "text/html": [
       "<div>\n",
       "<style scoped>\n",
       "    .dataframe tbody tr th:only-of-type {\n",
       "        vertical-align: middle;\n",
       "    }\n",
       "\n",
       "    .dataframe tbody tr th {\n",
       "        vertical-align: top;\n",
       "    }\n",
       "\n",
       "    .dataframe thead th {\n",
       "        text-align: right;\n",
       "    }\n",
       "</style>\n",
       "<table border=\"1\" class=\"dataframe\">\n",
       "  <thead>\n",
       "    <tr style=\"text-align: right;\">\n",
       "      <th></th>\n",
       "      <th>academic reputation</th>\n",
       "      <th>employer reputation</th>\n",
       "      <th>faculty student</th>\n",
       "      <th>international faculty</th>\n",
       "      <th>international students</th>\n",
       "      <th>citations per faculty</th>\n",
       "      <th>overall score</th>\n",
       "    </tr>\n",
       "    <tr>\n",
       "      <th>region</th>\n",
       "      <th></th>\n",
       "      <th></th>\n",
       "      <th></th>\n",
       "      <th></th>\n",
       "      <th></th>\n",
       "      <th></th>\n",
       "      <th></th>\n",
       "    </tr>\n",
       "  </thead>\n",
       "  <tbody>\n",
       "    <tr>\n",
       "      <th>Argentina</th>\n",
       "      <td>2.400000</td>\n",
       "      <td>64.700000</td>\n",
       "      <td>50.700000</td>\n",
       "      <td>77.400000</td>\n",
       "      <td>91.300000</td>\n",
       "      <td>87.200000</td>\n",
       "      <td>66.000000</td>\n",
       "    </tr>\n",
       "    <tr>\n",
       "      <th>Australia</th>\n",
       "      <td>78.871429</td>\n",
       "      <td>99.485714</td>\n",
       "      <td>99.657143</td>\n",
       "      <td>24.371429</td>\n",
       "      <td>86.485714</td>\n",
       "      <td>89.100000</td>\n",
       "      <td>75.142857</td>\n",
       "    </tr>\n",
       "    <tr>\n",
       "      <th>Belgium</th>\n",
       "      <td>85.300000</td>\n",
       "      <td>37.500000</td>\n",
       "      <td>90.000000</td>\n",
       "      <td>11.800000</td>\n",
       "      <td>64.300000</td>\n",
       "      <td>79.100000</td>\n",
       "      <td>64.100000</td>\n",
       "    </tr>\n",
       "    <tr>\n",
       "      <th>Canada</th>\n",
       "      <td>51.150000</td>\n",
       "      <td>94.600000</td>\n",
       "      <td>95.700000</td>\n",
       "      <td>67.400000</td>\n",
       "      <td>95.050000</td>\n",
       "      <td>95.550000</td>\n",
       "      <td>81.250000</td>\n",
       "    </tr>\n",
       "    <tr>\n",
       "      <th>China</th>\n",
       "      <td>69.545455</td>\n",
       "      <td>58.818182</td>\n",
       "      <td>84.345455</td>\n",
       "      <td>76.618182</td>\n",
       "      <td>72.645455</td>\n",
       "      <td>79.445455</td>\n",
       "      <td>75.681818</td>\n",
       "    </tr>\n",
       "    <tr>\n",
       "      <th>Denmark</th>\n",
       "      <td>25.500000</td>\n",
       "      <td>29.400000</td>\n",
       "      <td>92.600000</td>\n",
       "      <td>100.000000</td>\n",
       "      <td>43.900000</td>\n",
       "      <td>70.100000</td>\n",
       "      <td>63.800000</td>\n",
       "    </tr>\n",
       "    <tr>\n",
       "      <th>France</th>\n",
       "      <td>31.200000</td>\n",
       "      <td>64.300000</td>\n",
       "      <td>57.450000</td>\n",
       "      <td>79.850000</td>\n",
       "      <td>72.250000</td>\n",
       "      <td>83.450000</td>\n",
       "      <td>69.150000</td>\n",
       "    </tr>\n",
       "    <tr>\n",
       "      <th>Germany</th>\n",
       "      <td>39.350000</td>\n",
       "      <td>47.400000</td>\n",
       "      <td>58.025000</td>\n",
       "      <td>80.975000</td>\n",
       "      <td>70.625000</td>\n",
       "      <td>84.775000</td>\n",
       "      <td>70.525000</td>\n",
       "    </tr>\n",
       "    <tr>\n",
       "      <th>Japan</th>\n",
       "      <td>54.340000</td>\n",
       "      <td>21.380000</td>\n",
       "      <td>18.600000</td>\n",
       "      <td>90.860000</td>\n",
       "      <td>80.180000</td>\n",
       "      <td>84.700000</td>\n",
       "      <td>73.180000</td>\n",
       "    </tr>\n",
       "    <tr>\n",
       "      <th>Malaysia</th>\n",
       "      <td>41.500000</td>\n",
       "      <td>57.200000</td>\n",
       "      <td>62.800000</td>\n",
       "      <td>90.700000</td>\n",
       "      <td>72.000000</td>\n",
       "      <td>68.200000</td>\n",
       "      <td>67.100000</td>\n",
       "    </tr>\n",
       "    <tr>\n",
       "      <th>Netherlands</th>\n",
       "      <td>82.950000</td>\n",
       "      <td>70.150000</td>\n",
       "      <td>89.400000</td>\n",
       "      <td>45.600000</td>\n",
       "      <td>72.100000</td>\n",
       "      <td>76.150000</td>\n",
       "      <td>71.600000</td>\n",
       "    </tr>\n",
       "    <tr>\n",
       "      <th>New Zealand</th>\n",
       "      <td>44.800000</td>\n",
       "      <td>91.800000</td>\n",
       "      <td>94.400000</td>\n",
       "      <td>25.000000</td>\n",
       "      <td>62.800000</td>\n",
       "      <td>84.200000</td>\n",
       "      <td>63.400000</td>\n",
       "    </tr>\n",
       "    <tr>\n",
       "      <th>Russia</th>\n",
       "      <td>7.200000</td>\n",
       "      <td>56.100000</td>\n",
       "      <td>18.000000</td>\n",
       "      <td>99.700000</td>\n",
       "      <td>84.900000</td>\n",
       "      <td>73.600000</td>\n",
       "      <td>63.200000</td>\n",
       "    </tr>\n",
       "    <tr>\n",
       "      <th>Singapore</th>\n",
       "      <td>82.250000</td>\n",
       "      <td>75.300000</td>\n",
       "      <td>100.000000</td>\n",
       "      <td>91.100000</td>\n",
       "      <td>96.500000</td>\n",
       "      <td>95.950000</td>\n",
       "      <td>91.800000</td>\n",
       "    </tr>\n",
       "    <tr>\n",
       "      <th>South Korea</th>\n",
       "      <td>68.740000</td>\n",
       "      <td>21.680000</td>\n",
       "      <td>23.360000</td>\n",
       "      <td>86.120000</td>\n",
       "      <td>73.200000</td>\n",
       "      <td>70.320000</td>\n",
       "      <td>68.900000</td>\n",
       "    </tr>\n",
       "    <tr>\n",
       "      <th>Sweden</th>\n",
       "      <td>62.350000</td>\n",
       "      <td>59.400000</td>\n",
       "      <td>93.100000</td>\n",
       "      <td>56.550000</td>\n",
       "      <td>61.350000</td>\n",
       "      <td>58.550000</td>\n",
       "      <td>61.150000</td>\n",
       "    </tr>\n",
       "    <tr>\n",
       "      <th>Switzerland</th>\n",
       "      <td>75.575000</td>\n",
       "      <td>88.825000</td>\n",
       "      <td>98.800000</td>\n",
       "      <td>95.225000</td>\n",
       "      <td>84.525000</td>\n",
       "      <td>69.100000</td>\n",
       "      <td>79.900000</td>\n",
       "    </tr>\n",
       "    <tr>\n",
       "      <th>Taiwan</th>\n",
       "      <td>59.700000</td>\n",
       "      <td>30.400000</td>\n",
       "      <td>20.800000</td>\n",
       "      <td>41.900000</td>\n",
       "      <td>82.400000</td>\n",
       "      <td>89.800000</td>\n",
       "      <td>67.300000</td>\n",
       "    </tr>\n",
       "    <tr>\n",
       "      <th>UK</th>\n",
       "      <td>63.927778</td>\n",
       "      <td>91.516667</td>\n",
       "      <td>90.577778</td>\n",
       "      <td>70.805556</td>\n",
       "      <td>84.838889</td>\n",
       "      <td>79.688889</td>\n",
       "      <td>76.661111</td>\n",
       "    </tr>\n",
       "    <tr>\n",
       "      <th>USA</th>\n",
       "      <td>78.448276</td>\n",
       "      <td>66.293103</td>\n",
       "      <td>67.600000</td>\n",
       "      <td>69.093103</td>\n",
       "      <td>79.103448</td>\n",
       "      <td>86.917241</td>\n",
       "      <td>79.141379</td>\n",
       "    </tr>\n",
       "  </tbody>\n",
       "</table>\n",
       "</div>"
      ],
      "text/plain": [
       "             academic reputation  employer reputation  faculty student  \\\n",
       "region                                                                   \n",
       "Argentina               2.400000            64.700000        50.700000   \n",
       "Australia              78.871429            99.485714        99.657143   \n",
       "Belgium                85.300000            37.500000        90.000000   \n",
       "Canada                 51.150000            94.600000        95.700000   \n",
       "China                  69.545455            58.818182        84.345455   \n",
       "Denmark                25.500000            29.400000        92.600000   \n",
       "France                 31.200000            64.300000        57.450000   \n",
       "Germany                39.350000            47.400000        58.025000   \n",
       "Japan                  54.340000            21.380000        18.600000   \n",
       "Malaysia               41.500000            57.200000        62.800000   \n",
       "Netherlands            82.950000            70.150000        89.400000   \n",
       "New Zealand            44.800000            91.800000        94.400000   \n",
       "Russia                  7.200000            56.100000        18.000000   \n",
       "Singapore              82.250000            75.300000       100.000000   \n",
       "South Korea            68.740000            21.680000        23.360000   \n",
       "Sweden                 62.350000            59.400000        93.100000   \n",
       "Switzerland            75.575000            88.825000        98.800000   \n",
       "Taiwan                 59.700000            30.400000        20.800000   \n",
       "UK                     63.927778            91.516667        90.577778   \n",
       "USA                    78.448276            66.293103        67.600000   \n",
       "\n",
       "             international faculty  international students  \\\n",
       "region                                                       \n",
       "Argentina                77.400000               91.300000   \n",
       "Australia                24.371429               86.485714   \n",
       "Belgium                  11.800000               64.300000   \n",
       "Canada                   67.400000               95.050000   \n",
       "China                    76.618182               72.645455   \n",
       "Denmark                 100.000000               43.900000   \n",
       "France                   79.850000               72.250000   \n",
       "Germany                  80.975000               70.625000   \n",
       "Japan                    90.860000               80.180000   \n",
       "Malaysia                 90.700000               72.000000   \n",
       "Netherlands              45.600000               72.100000   \n",
       "New Zealand              25.000000               62.800000   \n",
       "Russia                   99.700000               84.900000   \n",
       "Singapore                91.100000               96.500000   \n",
       "South Korea              86.120000               73.200000   \n",
       "Sweden                   56.550000               61.350000   \n",
       "Switzerland              95.225000               84.525000   \n",
       "Taiwan                   41.900000               82.400000   \n",
       "UK                       70.805556               84.838889   \n",
       "USA                      69.093103               79.103448   \n",
       "\n",
       "             citations per faculty  overall score  \n",
       "region                                             \n",
       "Argentina                87.200000      66.000000  \n",
       "Australia                89.100000      75.142857  \n",
       "Belgium                  79.100000      64.100000  \n",
       "Canada                   95.550000      81.250000  \n",
       "China                    79.445455      75.681818  \n",
       "Denmark                  70.100000      63.800000  \n",
       "France                   83.450000      69.150000  \n",
       "Germany                  84.775000      70.525000  \n",
       "Japan                    84.700000      73.180000  \n",
       "Malaysia                 68.200000      67.100000  \n",
       "Netherlands              76.150000      71.600000  \n",
       "New Zealand              84.200000      63.400000  \n",
       "Russia                   73.600000      63.200000  \n",
       "Singapore                95.950000      91.800000  \n",
       "South Korea              70.320000      68.900000  \n",
       "Sweden                   58.550000      61.150000  \n",
       "Switzerland              69.100000      79.900000  \n",
       "Taiwan                   89.800000      67.300000  \n",
       "UK                       79.688889      76.661111  \n",
       "USA                      86.917241      79.141379  "
      ]
     },
     "execution_count": 259,
     "metadata": {},
     "output_type": "execute_result"
    }
   ],
   "source": [
    "# Enter Code here\n",
    "average_2021=df_2021.groupby('region')['academic reputation', 'employer reputation','faculty student','international faculty','international students','citations per faculty','overall score'].mean()\n",
    "\n",
    "average_2021\n",
    "#display(average_2021)\n",
    "#average_2021[['academic reputation', 'employer reputation','faculty student','international faculty','international students','citations per faculty','overall score']].mean()"
   ]
  },
  {
   "cell_type": "markdown",
   "metadata": {
    "id": "Axa3FzCDZFRJ"
   },
   "source": [
    "**Q5.** Sort the average_2021 dataframe from the previous question based on overall score in a descending fashion (top to bottom). (2)"
   ]
  },
  {
   "cell_type": "code",
   "execution_count": 260,
   "metadata": {
    "id": "FjmBadCcY7vB"
   },
   "outputs": [
    {
     "data": {
      "text/html": [
       "<div>\n",
       "<style scoped>\n",
       "    .dataframe tbody tr th:only-of-type {\n",
       "        vertical-align: middle;\n",
       "    }\n",
       "\n",
       "    .dataframe tbody tr th {\n",
       "        vertical-align: top;\n",
       "    }\n",
       "\n",
       "    .dataframe thead th {\n",
       "        text-align: right;\n",
       "    }\n",
       "</style>\n",
       "<table border=\"1\" class=\"dataframe\">\n",
       "  <thead>\n",
       "    <tr style=\"text-align: right;\">\n",
       "      <th></th>\n",
       "      <th>academic reputation</th>\n",
       "      <th>employer reputation</th>\n",
       "      <th>faculty student</th>\n",
       "      <th>international faculty</th>\n",
       "      <th>international students</th>\n",
       "      <th>citations per faculty</th>\n",
       "      <th>overall score</th>\n",
       "    </tr>\n",
       "    <tr>\n",
       "      <th>region</th>\n",
       "      <th></th>\n",
       "      <th></th>\n",
       "      <th></th>\n",
       "      <th></th>\n",
       "      <th></th>\n",
       "      <th></th>\n",
       "      <th></th>\n",
       "    </tr>\n",
       "  </thead>\n",
       "  <tbody>\n",
       "    <tr>\n",
       "      <th>Singapore</th>\n",
       "      <td>82.250000</td>\n",
       "      <td>75.300000</td>\n",
       "      <td>100.000000</td>\n",
       "      <td>91.100000</td>\n",
       "      <td>96.500000</td>\n",
       "      <td>95.950000</td>\n",
       "      <td>91.800000</td>\n",
       "    </tr>\n",
       "    <tr>\n",
       "      <th>Canada</th>\n",
       "      <td>51.150000</td>\n",
       "      <td>94.600000</td>\n",
       "      <td>95.700000</td>\n",
       "      <td>67.400000</td>\n",
       "      <td>95.050000</td>\n",
       "      <td>95.550000</td>\n",
       "      <td>81.250000</td>\n",
       "    </tr>\n",
       "    <tr>\n",
       "      <th>Switzerland</th>\n",
       "      <td>75.575000</td>\n",
       "      <td>88.825000</td>\n",
       "      <td>98.800000</td>\n",
       "      <td>95.225000</td>\n",
       "      <td>84.525000</td>\n",
       "      <td>69.100000</td>\n",
       "      <td>79.900000</td>\n",
       "    </tr>\n",
       "    <tr>\n",
       "      <th>USA</th>\n",
       "      <td>78.448276</td>\n",
       "      <td>66.293103</td>\n",
       "      <td>67.600000</td>\n",
       "      <td>69.093103</td>\n",
       "      <td>79.103448</td>\n",
       "      <td>86.917241</td>\n",
       "      <td>79.141379</td>\n",
       "    </tr>\n",
       "    <tr>\n",
       "      <th>UK</th>\n",
       "      <td>63.927778</td>\n",
       "      <td>91.516667</td>\n",
       "      <td>90.577778</td>\n",
       "      <td>70.805556</td>\n",
       "      <td>84.838889</td>\n",
       "      <td>79.688889</td>\n",
       "      <td>76.661111</td>\n",
       "    </tr>\n",
       "    <tr>\n",
       "      <th>China</th>\n",
       "      <td>69.545455</td>\n",
       "      <td>58.818182</td>\n",
       "      <td>84.345455</td>\n",
       "      <td>76.618182</td>\n",
       "      <td>72.645455</td>\n",
       "      <td>79.445455</td>\n",
       "      <td>75.681818</td>\n",
       "    </tr>\n",
       "    <tr>\n",
       "      <th>Australia</th>\n",
       "      <td>78.871429</td>\n",
       "      <td>99.485714</td>\n",
       "      <td>99.657143</td>\n",
       "      <td>24.371429</td>\n",
       "      <td>86.485714</td>\n",
       "      <td>89.100000</td>\n",
       "      <td>75.142857</td>\n",
       "    </tr>\n",
       "    <tr>\n",
       "      <th>Japan</th>\n",
       "      <td>54.340000</td>\n",
       "      <td>21.380000</td>\n",
       "      <td>18.600000</td>\n",
       "      <td>90.860000</td>\n",
       "      <td>80.180000</td>\n",
       "      <td>84.700000</td>\n",
       "      <td>73.180000</td>\n",
       "    </tr>\n",
       "    <tr>\n",
       "      <th>Netherlands</th>\n",
       "      <td>82.950000</td>\n",
       "      <td>70.150000</td>\n",
       "      <td>89.400000</td>\n",
       "      <td>45.600000</td>\n",
       "      <td>72.100000</td>\n",
       "      <td>76.150000</td>\n",
       "      <td>71.600000</td>\n",
       "    </tr>\n",
       "    <tr>\n",
       "      <th>Germany</th>\n",
       "      <td>39.350000</td>\n",
       "      <td>47.400000</td>\n",
       "      <td>58.025000</td>\n",
       "      <td>80.975000</td>\n",
       "      <td>70.625000</td>\n",
       "      <td>84.775000</td>\n",
       "      <td>70.525000</td>\n",
       "    </tr>\n",
       "    <tr>\n",
       "      <th>France</th>\n",
       "      <td>31.200000</td>\n",
       "      <td>64.300000</td>\n",
       "      <td>57.450000</td>\n",
       "      <td>79.850000</td>\n",
       "      <td>72.250000</td>\n",
       "      <td>83.450000</td>\n",
       "      <td>69.150000</td>\n",
       "    </tr>\n",
       "    <tr>\n",
       "      <th>South Korea</th>\n",
       "      <td>68.740000</td>\n",
       "      <td>21.680000</td>\n",
       "      <td>23.360000</td>\n",
       "      <td>86.120000</td>\n",
       "      <td>73.200000</td>\n",
       "      <td>70.320000</td>\n",
       "      <td>68.900000</td>\n",
       "    </tr>\n",
       "    <tr>\n",
       "      <th>Taiwan</th>\n",
       "      <td>59.700000</td>\n",
       "      <td>30.400000</td>\n",
       "      <td>20.800000</td>\n",
       "      <td>41.900000</td>\n",
       "      <td>82.400000</td>\n",
       "      <td>89.800000</td>\n",
       "      <td>67.300000</td>\n",
       "    </tr>\n",
       "    <tr>\n",
       "      <th>Malaysia</th>\n",
       "      <td>41.500000</td>\n",
       "      <td>57.200000</td>\n",
       "      <td>62.800000</td>\n",
       "      <td>90.700000</td>\n",
       "      <td>72.000000</td>\n",
       "      <td>68.200000</td>\n",
       "      <td>67.100000</td>\n",
       "    </tr>\n",
       "    <tr>\n",
       "      <th>Argentina</th>\n",
       "      <td>2.400000</td>\n",
       "      <td>64.700000</td>\n",
       "      <td>50.700000</td>\n",
       "      <td>77.400000</td>\n",
       "      <td>91.300000</td>\n",
       "      <td>87.200000</td>\n",
       "      <td>66.000000</td>\n",
       "    </tr>\n",
       "    <tr>\n",
       "      <th>Belgium</th>\n",
       "      <td>85.300000</td>\n",
       "      <td>37.500000</td>\n",
       "      <td>90.000000</td>\n",
       "      <td>11.800000</td>\n",
       "      <td>64.300000</td>\n",
       "      <td>79.100000</td>\n",
       "      <td>64.100000</td>\n",
       "    </tr>\n",
       "    <tr>\n",
       "      <th>Denmark</th>\n",
       "      <td>25.500000</td>\n",
       "      <td>29.400000</td>\n",
       "      <td>92.600000</td>\n",
       "      <td>100.000000</td>\n",
       "      <td>43.900000</td>\n",
       "      <td>70.100000</td>\n",
       "      <td>63.800000</td>\n",
       "    </tr>\n",
       "    <tr>\n",
       "      <th>New Zealand</th>\n",
       "      <td>44.800000</td>\n",
       "      <td>91.800000</td>\n",
       "      <td>94.400000</td>\n",
       "      <td>25.000000</td>\n",
       "      <td>62.800000</td>\n",
       "      <td>84.200000</td>\n",
       "      <td>63.400000</td>\n",
       "    </tr>\n",
       "    <tr>\n",
       "      <th>Russia</th>\n",
       "      <td>7.200000</td>\n",
       "      <td>56.100000</td>\n",
       "      <td>18.000000</td>\n",
       "      <td>99.700000</td>\n",
       "      <td>84.900000</td>\n",
       "      <td>73.600000</td>\n",
       "      <td>63.200000</td>\n",
       "    </tr>\n",
       "    <tr>\n",
       "      <th>Sweden</th>\n",
       "      <td>62.350000</td>\n",
       "      <td>59.400000</td>\n",
       "      <td>93.100000</td>\n",
       "      <td>56.550000</td>\n",
       "      <td>61.350000</td>\n",
       "      <td>58.550000</td>\n",
       "      <td>61.150000</td>\n",
       "    </tr>\n",
       "  </tbody>\n",
       "</table>\n",
       "</div>"
      ],
      "text/plain": [
       "             academic reputation  employer reputation  faculty student  \\\n",
       "region                                                                   \n",
       "Singapore              82.250000            75.300000       100.000000   \n",
       "Canada                 51.150000            94.600000        95.700000   \n",
       "Switzerland            75.575000            88.825000        98.800000   \n",
       "USA                    78.448276            66.293103        67.600000   \n",
       "UK                     63.927778            91.516667        90.577778   \n",
       "China                  69.545455            58.818182        84.345455   \n",
       "Australia              78.871429            99.485714        99.657143   \n",
       "Japan                  54.340000            21.380000        18.600000   \n",
       "Netherlands            82.950000            70.150000        89.400000   \n",
       "Germany                39.350000            47.400000        58.025000   \n",
       "France                 31.200000            64.300000        57.450000   \n",
       "South Korea            68.740000            21.680000        23.360000   \n",
       "Taiwan                 59.700000            30.400000        20.800000   \n",
       "Malaysia               41.500000            57.200000        62.800000   \n",
       "Argentina               2.400000            64.700000        50.700000   \n",
       "Belgium                85.300000            37.500000        90.000000   \n",
       "Denmark                25.500000            29.400000        92.600000   \n",
       "New Zealand            44.800000            91.800000        94.400000   \n",
       "Russia                  7.200000            56.100000        18.000000   \n",
       "Sweden                 62.350000            59.400000        93.100000   \n",
       "\n",
       "             international faculty  international students  \\\n",
       "region                                                       \n",
       "Singapore                91.100000               96.500000   \n",
       "Canada                   67.400000               95.050000   \n",
       "Switzerland              95.225000               84.525000   \n",
       "USA                      69.093103               79.103448   \n",
       "UK                       70.805556               84.838889   \n",
       "China                    76.618182               72.645455   \n",
       "Australia                24.371429               86.485714   \n",
       "Japan                    90.860000               80.180000   \n",
       "Netherlands              45.600000               72.100000   \n",
       "Germany                  80.975000               70.625000   \n",
       "France                   79.850000               72.250000   \n",
       "South Korea              86.120000               73.200000   \n",
       "Taiwan                   41.900000               82.400000   \n",
       "Malaysia                 90.700000               72.000000   \n",
       "Argentina                77.400000               91.300000   \n",
       "Belgium                  11.800000               64.300000   \n",
       "Denmark                 100.000000               43.900000   \n",
       "New Zealand              25.000000               62.800000   \n",
       "Russia                   99.700000               84.900000   \n",
       "Sweden                   56.550000               61.350000   \n",
       "\n",
       "             citations per faculty  overall score  \n",
       "region                                             \n",
       "Singapore                95.950000      91.800000  \n",
       "Canada                   95.550000      81.250000  \n",
       "Switzerland              69.100000      79.900000  \n",
       "USA                      86.917241      79.141379  \n",
       "UK                       79.688889      76.661111  \n",
       "China                    79.445455      75.681818  \n",
       "Australia                89.100000      75.142857  \n",
       "Japan                    84.700000      73.180000  \n",
       "Netherlands              76.150000      71.600000  \n",
       "Germany                  84.775000      70.525000  \n",
       "France                   83.450000      69.150000  \n",
       "South Korea              70.320000      68.900000  \n",
       "Taiwan                   89.800000      67.300000  \n",
       "Malaysia                 68.200000      67.100000  \n",
       "Argentina                87.200000      66.000000  \n",
       "Belgium                  79.100000      64.100000  \n",
       "Denmark                  70.100000      63.800000  \n",
       "New Zealand              84.200000      63.400000  \n",
       "Russia                   73.600000      63.200000  \n",
       "Sweden                   58.550000      61.150000  "
      ]
     },
     "execution_count": 260,
     "metadata": {},
     "output_type": "execute_result"
    }
   ],
   "source": [
    "# Enter Code here\n",
    "average_2021=average_2021.sort_values(by='overall score', ascending=False)\n",
    "average_2021\n"
   ]
  },
  {
   "cell_type": "markdown",
   "metadata": {
    "id": "0Dwu5YNCltgU"
   },
   "source": [
    "**Q6.** What do you observe from the table above? Which country tops the ranking? Why did USA go down in the rankings? (3) <br>\n",
    "Note: This is an open-ended question. Comment on why you think is the reason that USA is not top of the list. "
   ]
  },
  {
   "cell_type": "markdown",
   "metadata": {
    "id": "l8yshKVFmRkm"
   },
   "source": [
    "**Ans.** Write your answer here.\n",
    "USA consistently got low average marks in employer reputation, faculty student and international faculty rankings which in turn lowered the country's overall score"
   ]
  },
  {
   "cell_type": "markdown",
   "metadata": {
    "id": "9wWqnLX--q8z"
   },
   "source": [
    "**Q7.** Represent all the attributes in the average_2021 dataframe using a box and whisker plot. Do you observe any anomalies in any of them? (7+3) <br>\n",
    "**Note:** They should be in the same cell, but not necessarily in the same figure.<br>\n",
    "**Hint:** You can do this using subplots (and also otherwise)\n"
   ]
  },
  {
   "cell_type": "code",
   "execution_count": 261,
   "metadata": {
    "id": "Ogw_XcGJ-kYI"
   },
   "outputs": [
    {
     "data": {
      "text/plain": [
       "<AxesSubplot:>"
      ]
     },
     "execution_count": 261,
     "metadata": {},
     "output_type": "execute_result"
    },
    {
     "data": {
      "image/png": "[encoded data removed]",
      "text/plain": [
       "<Figure size 1440x432 with 1 Axes>"
      ]
     },
     "metadata": {
      "needs_background": "light"
     },
     "output_type": "display_data"
    }
   ],
   "source": [
    "# Enter Code here\n",
    "#sns.boxplot(x=average_2021['academic reputation'])\n",
    "# Write about anomalies in comments\n",
    "#a.empty, a.bool(), a.item(), a.any() or a.all().\n",
    "average_2021.boxplot(figsize=(20,6))\n"
   ]
  },
  {
   "cell_type": "markdown",
   "metadata": {
    "id": "BSOav3W5NRsq"
   },
   "source": [
    "**Q8.** Represent all the attributes in the average_2021 dataframe using a scatter plot. Do you observe any general trend? (5+2) <br>\n",
    "**Note:** They should be in the same cell, but not necessarily in the same figure.<br>\n",
    "**Hint:** Very similar to the previous question"
   ]
  },
  {
   "cell_type": "code",
   "execution_count": 262,
   "metadata": {
    "id": "4ktkGSpsNHMj"
   },
   "outputs": [
    {
     "data": {
      "image/png": "[encoded data removed]",
      "text/plain": [
       "<Figure size 432x288 with 1 Axes>"
      ]
     },
     "metadata": {
      "needs_background": "light"
     },
     "output_type": "display_data"
    },
    {
     "data": {
      "image/png": "[encoded data removed]",
      "text/plain": [
       "<Figure size 432x288 with 1 Axes>"
      ]
     },
     "metadata": {
      "needs_background": "light"
     },
     "output_type": "display_data"
    },
    {
     "data": {
      "image/png": "[encoded data removed]",
      "text/plain": [
       "<Figure size 432x288 with 1 Axes>"
      ]
     },
     "metadata": {
      "needs_background": "light"
     },
     "output_type": "display_data"
    },
    {
     "data": {
      "image/png": "[encoded data removed]",
      "text/plain": [
       "<Figure size 432x288 with 1 Axes>"
      ]
     },
     "metadata": {
      "needs_background": "light"
     },
     "output_type": "display_data"
    },
    {
     "data": {
      "image/png": "[encoded data removed]",
      "text/plain": [
       "<Figure size 432x288 with 1 Axes>"
      ]
     },
     "metadata": {
      "needs_background": "light"
     },
     "output_type": "display_data"
    },
    {
     "data": {
      "image/png": "[encoded data removed]",
      "text/plain": [
       "<Figure size 432x288 with 1 Axes>"
      ]
     },
     "metadata": {
      "needs_background": "light"
     },
     "output_type": "display_data"
    }
   ],
   "source": [
    "# Enter Code here\n",
    "\n",
    "#fig = plt.figure()\n",
    "#fig,ax=plt.subplots(2, figsize=(4, 4))\n",
    "average_2021.plot.scatter(x='overall score',y='academic reputation')\n",
    "average_2021.plot.scatter(x='overall score',y='employer reputation')\n",
    "average_2021.plot.scatter(x='overall score',y='faculty student')\n",
    "average_2021.plot.scatter(x='overall score',y='international faculty')\n",
    "average_2021.plot.scatter(x='overall score',y='international students')\n",
    "average_2021.plot.scatter(x='overall score',y='citations per faculty')\n",
    "\n",
    "plt.show()\n",
    "# Write about general trend here\n"
   ]
  },
  {
   "cell_type": "markdown",
   "metadata": {
    "id": "rMXe5cKnBaj4"
   },
   "source": [
    "**Q9.** Finally, let's plot the kernel density estimate (KDE) of all the different types of score from the average_2021 data. (5) <br>\n",
    "**Note:** There should be just one figure having all the plots. Make a suitable legend alongside."
   ]
  },
  {
   "cell_type": "code",
   "execution_count": 263,
   "metadata": {
    "id": "Lfee7wkTBZyX"
   },
   "outputs": [
    {
     "data": {
      "text/plain": [
       "<AxesSubplot:ylabel='Density'>"
      ]
     },
     "execution_count": 263,
     "metadata": {},
     "output_type": "execute_result"
    },
    {
     "data": {
      "image/png": "[encoded data removed]",
      "text/plain": [
       "<Figure size 432x288 with 1 Axes>"
      ]
     },
     "metadata": {
      "needs_background": "light"
     },
     "output_type": "display_data"
    }
   ],
   "source": [
    "# Enter Code here\n",
    "average_2021.plot.kde()"
   ]
  },
  {
   "cell_type": "markdown",
   "metadata": {
    "id": "GFrXqtdnQtvx"
   },
   "source": [
    "So far, so good :) <br> \n",
    "We're just wrapping up now"
   ]
  },
  {
   "cell_type": "markdown",
   "metadata": {
    "id": "MaxAZRjw8iPH"
   },
   "source": [
    "**Let's come to the Top 10 Universities and observe how they performed over the years.** <br><br>\n",
    "**Q10.** Create a smaller dataframe which has the top ten universities from each year, and only their overall scores across the three years. (5) <br>\n",
    "Hint: \n",
    "\n",
    "*   There will be four columns in the dataframe you make\n",
    "*   The top ten universities are same across the three years. Only their rankings differ.\n",
    "*   Use the merge function. You can read more about how to use it in the documentation: https://pandas.pydata.org/pandas-docs/stable/reference/api/pandas.DataFrame.merge.html\n",
    "*   Shape of the resultant dataframe should be (10, 4)\n",
    "\n",
    "\n",
    "\n",
    "\n"
   ]
  },
  {
   "cell_type": "code",
   "execution_count": 264,
   "metadata": {
    "id": "wQ90KTDg4egV"
   },
   "outputs": [
    {
     "data": {
      "text/plain": [
       "(10, 4)"
      ]
     },
     "execution_count": 264,
     "metadata": {},
     "output_type": "execute_result"
    }
   ],
   "source": [
    "# Enter code here\n",
    "t2019=df_2019[df_2019['rank']<=10]\n",
    "t2020=df_2020[df_2020['rank']<=10]\n",
    "t2021=df_2021[df_2021['rank']<=10]\n",
    "t2021 =t2021[['university','overall score']]      \n",
    "t2021=t2021.merge(t2020,how='inner',on='university',suffixes=(' 2021', ' 2020'))\n",
    "t2021=t2021.merge(t2019,how='inner',on='university',suffixes=(' 2020', ' 2019'))\n",
    "t2021=t2021[['university','overall score 2021','overall score 2020','overall score']]\n",
    "\n",
    "t2021.shape\n",
    "#t2021.merge(t2019,how='outer',on='university',suffixes=(' 2021', ' 2019'))\n"
   ]
  },
  {
   "cell_type": "markdown",
   "metadata": {
    "id": "AsUyz-3C-N8-"
   },
   "source": [
    "**As you noticed that when you merged, Pandas auto-assigned the column names. Let's change them.** <br><br>\n",
    "**Q11.** For the columns representing scores, rename them such that they describe the data that the column holds. (3)"
   ]
  },
  {
   "cell_type": "code",
   "execution_count": 267,
   "metadata": {
    "id": "Adlg9ODa-pPe"
   },
   "outputs": [],
   "source": [
    "# Enter Code here\n",
    "t2021=t2021.rename(columns={\"overall score 2021\": \"2021\", \"overall score 2020\": \"2020\",\"overall score\":\"2019\"})"
   ]
  },
  {
   "cell_type": "markdown",
   "metadata": {
    "id": "2mWkHs133oon"
   },
   "source": [
    "**Q12.** Draw a suitable plot to show how the overall scores of the Top 10 universities varied over the three years. Clearly label your graph and attach a legend. (5) <br>\n",
    "Note: \n",
    "*   All universities must be in the same plot.\n",
    "*   Your graph should be clear and legend should be placed suitably \n",
    "\n"
   ]
  },
  {
   "cell_type": "code",
   "execution_count": 286,
   "metadata": {
    "id": "9sJ3Rs9RL25I"
   },
   "outputs": [
    {
     "data": {
      "text/plain": [
       "<AxesSubplot:xlabel='university'>"
      ]
     },
     "execution_count": 286,
     "metadata": {},
     "output_type": "execute_result"
    },
    {
     "data": {
      "image/png": "[encoded data removed]",
      "text/plain": [
       "<Figure size 864x720 with 1 Axes>"
      ]
     },
     "metadata": {
      "needs_background": "light"
     },
     "output_type": "display_data"
    }
   ],
   "source": [
    "# Enter Code here\n",
    "t2021.plot.bar('university',figsize=(12,10))"
   ]
  },
  {
   "cell_type": "markdown",
   "metadata": {
    "id": "fcLguCYLUI7p"
   },
   "source": [
    "**Q13.** What do you observe from the plot above? Which university has remained consistent in their scores? Which have increased/decreased over the years? (3) <br> \n",
    "**Ans.** Type your answers here\n",
    "Harvard University decreased \n",
    "ETH zurich increased \n",
    "University of Cambridge decreased \n",
    "UCL increased \n",
    "Imperial college increased\n",
    "University of chicago increased\n",
    "Stanford decreased \n",
    "University of Oxford increased \n",
    "MIT remained constant\n"
   ]
  },
  {
   "cell_type": "markdown",
   "metadata": {
    "id": "KGMiTjo_TP-f"
   },
   "source": [
    "Let's finally look at another useful tool to get an idea about how different variables are corelated to each other. We call it a **correlation matrix** <br>\n",
    "A correlation matrix provides a correlation coefficient (a number between -1 and 1) that tells how strongly two variables are correlated. Values closer to -1 mean strong negative correlation whereas values closer to 1 mean strong positve correlation. Values closer to 0 show variables having no or little correlation. <br>\n",
    "You can learn more about correlation matrices from here: https://www.statology.org/how-to-read-a-correlation-matrix/ <br> <br>\n",
    "\n",
    "**Q14.** Plot a correlation matrix to see how each variable is correlated to another. You can use the data from 2021. (5) <br>\n",
    "**Helpful link:** https://datatofish.com/correlation-matrix-pandas/"
   ]
  },
  {
   "cell_type": "code",
   "execution_count": 269,
   "metadata": {
    "id": "yhQE9aa_v64V"
   },
   "outputs": [
    {
     "name": "stdout",
     "output_type": "stream",
     "text": [
      "          2021      2020      2019\n",
      "2021  1.000000  1.000000  0.927179\n",
      "2020  1.000000  1.000000  0.927179\n",
      "2019  0.927179  0.927179  1.000000\n"
     ]
    }
   ],
   "source": [
    "# Enter Code here\n",
    "corr=t2021.corr()\n",
    "print(corr)"
   ]
  },
  {
   "cell_type": "markdown",
   "metadata": {
    "id": "WBDT4lNLVpQJ"
   },
   "source": [
    "**Q15.** Comment on the matrix you obtained in the previous part. (3)"
   ]
  },
  {
   "cell_type": "markdown",
   "metadata": {
    "id": "a6_1bEW1Vx_o"
   },
   "source": [
    "**Ans.** Write your answer here.\n",
    "the year 2020 and 2021 showed that the rankings did not change at all but in the difference in the year 2019 and 2020 is apparent that shows that universities that were already in the top 10 improved significantly and that improvement remained constant in the following year"
   ]
  },
  {
   "cell_type": "markdown",
   "metadata": {
    "id": "wJBk3IOlWFoa"
   },
   "source": [
    "Wow! This was a long ride. But I'm sure you have learnt alot through this assignment. Not only will this help you a lot in your project, but we have cleaned data extensively, looked at a variety of visualization techniques, analyzed the results we obtained. The most important part of the data science cycle is actually the collection, cleaning and EDA. Therefore, it is important to get a good grip on this technique. <br>\n",
    "I hope you had fun, and now it's time to take a break :)  "
   ]
  },
  {
   "cell_type": "markdown",
   "metadata": {
    "id": "yhWPuKM5YFKG"
   },
   "source": [
    "![That%27s_all_Folks_tagline.jpg](data:image/jpeg;base64,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)"
   ]
  },
  {
   "cell_type": "code",
   "execution_count": null,
   "metadata": {
    "id": "L8sdlkyNYGhx"
   },
   "outputs": [],
   "source": []
  },
  {
   "cell_type": "code",
   "execution_count": null,
   "metadata": {},
   "outputs": [],
   "source": []
  },
  {
   "cell_type": "code",
   "execution_count": null,
   "metadata": {},
   "outputs": [],
   "source": []
  },
  {
   "cell_type": "code",
   "execution_count": null,
   "metadata": {},
   "outputs": [],
   "source": []
  },
  {
   "cell_type": "code",
   "execution_count": null,
   "metadata": {},
   "outputs": [],
   "source": []
  },
  {
   "cell_type": "code",
   "execution_count": null,
   "metadata": {},
   "outputs": [],
   "source": []
  },
  {
   "cell_type": "code",
   "execution_count": null,
   "metadata": {},
   "outputs": [],
   "source": []
  }
 ],
 "metadata": {
  "colab": {
   "collapsed_sections": [],
   "name": "A2_2.ipynb",
   "provenance": []
  },
  "kernelspec": {
   "display_name": "Python 3",
   "language": "python",
   "name": "python3"
  },
  "language_info": {
   "codemirror_mode": {
    "name": "ipython",
    "version": 3
   },
   "file_extension": ".py",
   "mimetype": "text/x-python",
   "name": "python",
   "nbconvert_exporter": "python",
   "pygments_lexer": "ipython3",
   "version": "3.8.5"
  }
 },
 "nbformat": 4,
 "nbformat_minor": 1
}
