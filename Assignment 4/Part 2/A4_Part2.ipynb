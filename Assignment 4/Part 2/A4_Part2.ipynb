{
  "nbformat": 4,
  "nbformat_minor": 0,
  "metadata": {
    "colab": {
      "name": "A4_Part2.ipynb",
      "provenance": [],
      "collapsed_sections": []
    },
    "kernelspec": {
      "name": "python3",
      "display_name": "Python 3"
    },
    "language_info": {
      "name": "python"
    }
  },
  "cells": [
    {
      "cell_type": "markdown",
      "metadata": {
        "id": "FQx45TI12rL6"
      },
      "source": [
        "#**Assignment 4 Part 2**"
      ]
    },
    {
      "cell_type": "markdown",
      "metadata": {
        "id": "ZurmakpAHgEk"
      },
      "source": [
        "**Expected Time:** 2 hours"
      ]
    },
    {
      "cell_type": "markdown",
      "metadata": {
        "id": "IXa2t5fkIRqU"
      },
      "source": [
        "#**Classification and Evaluation**"
      ]
    },
    {
      "cell_type": "markdown",
      "metadata": {
        "id": "u4Cfym-eIw5A"
      },
      "source": [
        "In Part 1 of this assignment, we looked at Linear Regression and built a model from scratch. In practice, we usually do not build models from scratch, but use already available ones. Scikit-Learn provides a vast variety of models. You can have a look at the different options available here (completely optional): <br>\n",
        "* Classification: https://scikit-learn.org/stable/auto_examples/classification/plot_classifier_comparison.html <br> \n",
        "* Overall Supervised Learning: https://scikit-learn.org/stable/supervised_learning.html <br>"
      ]
    },
    {
      "cell_type": "markdown",
      "metadata": {
        "id": "wJ3ZNeGyJvn8"
      },
      "source": [
        "In this Part, we will return to our dataset of Assignment 2 (Mental Health in Tech Companies) and check if we could use features related to work environment of an individual to predict whether they suffer from mental health issues or not. "
      ]
    },
    {
      "cell_type": "markdown",
      "metadata": {
        "id": "ogtD44A2IIqq"
      },
      "source": [
        "###**Importing Libraries**"
      ]
    },
    {
      "cell_type": "code",
      "metadata": {
        "id": "P-gLgjasAayv"
      },
      "source": [
        "import pandas as pd\n",
        "import numpy as np\n",
        "import matplotlib.pyplot as plt\n",
        "from matplotlib import pyplot\n",
        "import seaborn as sns\n",
        "from statsmodels.graphics.gofplots import qqplot\n"
      ],
      "execution_count": null,
      "outputs": []
    },
    {
      "cell_type": "markdown",
      "metadata": {
        "id": "2iIqBodULVyA"
      },
      "source": [
        "###**Importing Cleaned Dataset**"
      ]
    },
    {
      "cell_type": "markdown",
      "metadata": {
        "id": "aESlewZZLjbm"
      },
      "source": [
        "Analyze the data properly so you can make an informed decision during feature selection."
      ]
    },
    {
      "cell_type": "code",
      "metadata": {
        "id": "DM-CXhjRAbv5"
      },
      "source": [
        "# For display purposes\n",
        "pd.set_option('display.max_rows', None)\n",
        "pd.set_option('display.max_columns', None)\n",
        "pd.set_option('display.width', None)\n",
        "\n",
        "\n",
        "data_tech = pd.read_pickle('data_tech.pkl')\n",
        "columns = pd.read_csv('Cols_cleaned.csv')\n",
        "columns"
      ],
      "execution_count": null,
      "outputs": []
    },
    {
      "cell_type": "code",
      "metadata": {
        "id": "xA1eOVpiWDN1"
      },
      "source": [
        "data_tech.sample(10)"
      ],
      "execution_count": null,
      "outputs": []
    },
    {
      "cell_type": "markdown",
      "metadata": {
        "id": "5zNuo0GLL83y"
      },
      "source": [
        "###**Feature Engineering**"
      ]
    },
    {
      "cell_type": "markdown",
      "metadata": {
        "id": "6Ic3tGKHBhOK"
      },
      "source": [
        "We want to make use of our features to predict whether an employee in the tech-industry would have mental health issues or not. \n",
        "But before that, we need to transform our features into new numerical features that the model could interpret. This process of transforming raw data into encoded features is known as Feature Engineering"
      ]
    },
    {
      "cell_type": "markdown",
      "metadata": {
        "id": "BdLs261uUbBi"
      },
      "source": [
        "**Q1:** Choose your own attributes that you would like to have in your feature set. Encode them into numerical values. This can be a repetitive step, therefore, feel free to come back to this question and add/remove features. (/3)"
      ]
    },
    {
      "cell_type": "code",
      "metadata": {
        "id": "X_rs8ffLAhJi"
      },
      "source": [
        "# Enter Code here"
      ],
      "execution_count": null,
      "outputs": []
    },
    {
      "cell_type": "code",
      "metadata": {
        "id": "b0LemzA1p2R0"
      },
      "source": [
        "data_tech.info()"
      ],
      "execution_count": null,
      "outputs": []
    },
    {
      "cell_type": "markdown",
      "metadata": {
        "id": "d_DOSPbWmstv"
      },
      "source": [
        "**Q2:** Create a correlation matrix to see how do your selected features correlate with each other and the test attribute. (/3)"
      ]
    },
    {
      "cell_type": "code",
      "metadata": {
        "id": "juMnm0JemsLr"
      },
      "source": [
        "# Enter Code here"
      ],
      "execution_count": null,
      "outputs": []
    },
    {
      "cell_type": "markdown",
      "metadata": {
        "id": "yEX41qniWQqi"
      },
      "source": [
        "**Q2:** Next, we want to create our feature set and our label vector. Extract your chosen attributes from the dataframe and create a feature set. Similarly, create a label vector. Decide which column will be appropriate to act as a label vector. Give reasoning for your choice of both the feature set and test vector at the end of the cell as comments. (/3 + 2) "
      ]
    },
    {
      "cell_type": "code",
      "metadata": {
        "id": "ySAWVYq8AoQA"
      },
      "source": [
        "# Enter Code here\n",
        "Feature_set = ...\n",
        "Label = ...\n",
        "\n",
        "# Reasoning about Feature set:\n",
        "\n",
        "# Reasoning about test label:"
      ],
      "execution_count": null,
      "outputs": []
    },
    {
      "cell_type": "code",
      "metadata": {
        "id": "nyOTAO8wAq2x"
      },
      "source": [
        "print(\"The Feature Set of our Model:\\n\\n\",Feature_set)"
      ],
      "execution_count": null,
      "outputs": []
    },
    {
      "cell_type": "code",
      "metadata": {
        "id": "YESAxPBWAs9l"
      },
      "source": [
        "print(\"Labels:\",Label)"
      ],
      "execution_count": null,
      "outputs": []
    },
    {
      "cell_type": "markdown",
      "metadata": {
        "id": "ut9oO2MS4CJ_"
      },
      "source": [
        "###**Creating a KNN Classifier**"
      ]
    },
    {
      "cell_type": "markdown",
      "metadata": {
        "id": "DpYrdrQ22BwR"
      },
      "source": [
        "This is a classification problem. Therefore, we can apply a **K-Nearest Neighbor Model** to it.\n",
        "\n",
        "K-nearest neighbors (KNN) algorithm is a type of supervised ML algorithm which can be used for both classification as well as regression predictive problems. However, it is mainly used for classification predictive problems in industry. K-nearest neighbors (KNN) algorithm uses ‘feature similarity’ to predict the values of new datapoints which further means that the new data point will be assigned a value based on how closely it matches the points in the training set.\n",
        "You can read more on KNNs from this documentation. It will also help you build the model ahead:\n",
        "https://scikit-learn.org/stable/modules/generated/sklearn.neighbors.KNeighborsClassifier.html\n",
        "\n",
        "Here is a completely optional interactive video on understanding how KNNs works: <br> https://youtu.be/MDniRwXizWo"
      ]
    },
    {
      "cell_type": "markdown",
      "metadata": {
        "id": "ARYiCcCP2OER"
      },
      "source": [
        "###**Importing Scikit Learn Libraries**"
      ]
    },
    {
      "cell_type": "code",
      "metadata": {
        "id": "_GPOifEvAvJ1"
      },
      "source": [
        "from sklearn import metrics #Import scikit-learn metrics module for accuracy calculation\n",
        "from sklearn.model_selection import train_test_split # For splitting dataset\n",
        "from sklearn.metrics import accuracy_score, f1_score, precision_score, recall_score, classification_report, multilabel_confusion_matrix # Evaluation metrics\n",
        "from sklearn.neighbors import KNeighborsClassifier # KNN Classifier"
      ],
      "execution_count": null,
      "outputs": []
    },
    {
      "cell_type": "markdown",
      "metadata": {
        "id": "INIuBqGjMRnK"
      },
      "source": [
        "###**Splitting Data**"
      ]
    },
    {
      "cell_type": "markdown",
      "metadata": {
        "id": "NKhvxoIk26Xc"
      },
      "source": [
        "**Q3:** To set up a model, you first have to split your data into train and test sets. We can do this manually, but that will not be an optimized approach and can include biases. Therefore, we have an in-built function for it: train_test_split <br> \n",
        "Read this documentation to see how to use it. **Hint:** It is a one-liner!  (/3)<br> https://scikit-learn.org/stable/modules/generated/sklearn.model_selection.train_test_split.html"
      ]
    },
    {
      "cell_type": "code",
      "metadata": {
        "id": "JLj5Y-PRAy5w"
      },
      "source": [
        "# Split dataset into training set and test set. Choose the test_size parameter yourself. \n",
        "\n",
        "# Printing shapes\n",
        "print ('Train set:', X_train.shape,  y_train.shape)\n",
        "print ('Test set:', X_test.shape,  y_test.shape)"
      ],
      "execution_count": null,
      "outputs": []
    },
    {
      "cell_type": "markdown",
      "metadata": {
        "id": "uFvSJ06H31-W"
      },
      "source": [
        "**Q4:** Now let's create the KNN classifier. Follow the guidelines below to create, fit, and make predictions using your initial classifier. Refer to the KNN documentation for help. (/6)"
      ]
    },
    {
      "cell_type": "code",
      "metadata": {
        "id": "ZRsTchkgA2_8"
      },
      "source": [
        "# Create KNN Classifier. Keep any value of K for now e.g. 3,5,7...\n",
        "\n",
        "# Train the model using the training sets\n",
        "\n",
        "# Predict the response for test dataset\n"
      ],
      "execution_count": null,
      "outputs": []
    },
    {
      "cell_type": "markdown",
      "metadata": {
        "id": "Aev8MeoX4YpN"
      },
      "source": [
        "We can now calculate the initial accuracy of our model. Remember that we have not optimized any parameters yet."
      ]
    },
    {
      "cell_type": "code",
      "metadata": {
        "id": "7ceXdvC_A6sx"
      },
      "source": [
        "# Model Accuracy, how often is the classifier correct?\n",
        "print(\"Accuracy in Percentage:\",np.around(((metrics.accuracy_score(y_test, y_pred))*100),decimals=5),\"%\")"
      ],
      "execution_count": null,
      "outputs": []
    },
    {
      "cell_type": "markdown",
      "metadata": {
        "id": "x09c8u-kBUx3"
      },
      "source": [
        "###**Optimization**"
      ]
    },
    {
      "cell_type": "markdown",
      "metadata": {
        "id": "YFWSKJQkBNCe"
      },
      "source": [
        "One of the main parameters for KNN is the number of neighbors. We want to find out for which value of K will the loss be minimized. To do that, we create models for varying values of K, and plot a graph of Error Rate against Number of Neighbors."
      ]
    },
    {
      "cell_type": "code",
      "metadata": {
        "id": "VFZevLp7A-bT"
      },
      "source": [
        "error_rate = []\n",
        "\n",
        "for i in range(1,20): \n",
        " knn = KNeighborsClassifier(n_neighbors=i)\n",
        " knn.fit(X_train,y_train)\n",
        " y_pred = knn.predict(X_test)\n",
        " error_rate.append(np.mean(y_pred != y_test))\n",
        "\n",
        "plt.figure(figsize=(8,5))\n",
        "plt.plot(range(1,20),error_rate,color='blue', linestyle='dashed', marker='o',markerfacecolor='red', markersize=10)\n",
        "plt.title('Error Rate vs. K Value')\n",
        "plt.xlabel('Number of Neighbors-K')\n",
        "plt.ylabel('Error Rate')\n",
        "plt.show()\n",
        "\n",
        "min_val = 1+error_rate.index(min(error_rate))\n",
        "print(\"Minimum error: \",np.around(min(error_rate),decimals=5),\"at K =\", min_val)"
      ],
      "execution_count": null,
      "outputs": []
    },
    {
      "cell_type": "markdown",
      "metadata": {
        "id": "BrvkAea65cQz"
      },
      "source": [
        "**Q5:** Now that you know the optimum value for K, create another model using this value. Also predict using X_train (as well as X_test) and store their results in separate variables. We will use that in the next question. (/4) <br>\n",
        "**Note:** Do not hard code the value of K. "
      ]
    },
    {
      "cell_type": "code",
      "metadata": {
        "id": "nOqDO2BmBXWe"
      },
      "source": [
        "# Create KNN Classifier\n",
        "\n",
        "# Train the model using the training sets\n",
        "\n",
        "# Predict the response for Test data\n",
        "\n",
        "# Predict the response for Train data\n"
      ],
      "execution_count": null,
      "outputs": []
    },
    {
      "cell_type": "markdown",
      "metadata": {
        "id": "3lGL1sfQ7Mep"
      },
      "source": [
        "###**Evaluation Metrics**"
      ]
    },
    {
      "cell_type": "markdown",
      "metadata": {
        "id": "uVMXOrmA-1Lq"
      },
      "source": [
        "**Q6:** The final part of the modelling process is evaluation of the model. There are four metrics which are commonly used. Each holds its own significance and meaning: \n",
        "\n",
        "*   Accuracy\n",
        "*   F1 Score\n",
        "*   Precision\n",
        "*   Recall\n",
        "\n",
        "Define Accuracy, Precision, and Recall in terms of this model. (/3)"
      ]
    },
    {
      "cell_type": "markdown",
      "metadata": {
        "id": "5hNG0XHgEhiW"
      },
      "source": [
        "**Answer here:** <br>\n",
        "Accuracy: <br>\n",
        "Precision: <br>\n",
        "Recall: <br>"
      ]
    },
    {
      "cell_type": "markdown",
      "metadata": {
        "id": "xpd7Px1FEv3q"
      },
      "source": [
        "**Q7:** Scikit Learn has in-built functions for calculating each metric individually. Look up for these functions and print the following: \n",
        "(/5)\n",
        "\n",
        "*   Train Accuracy\n",
        "*   Test Accuracy\n",
        "*   F1 Score\n",
        "*   Precision\n",
        "*   Recall"
      ]
    },
    {
      "cell_type": "code",
      "metadata": {
        "id": "NCAkP0jh64bS"
      },
      "source": [
        "# Enter Code here"
      ],
      "execution_count": null,
      "outputs": []
    },
    {
      "cell_type": "markdown",
      "metadata": {
        "id": "cjtaaTspCOfQ"
      },
      "source": [
        "**Q8:** As a final exercise, we want to summarize our prediction results using a confusion matrix. Create and display a confusion matrix that shows the test predictions. Again, you can use sklearn for the purpose. (/5) <br>\n",
        "**Note:** Do not forget to label the plot properly.  "
      ]
    },
    {
      "cell_type": "code",
      "metadata": {
        "id": "GVEoBVDUG5rQ"
      },
      "source": [
        "from sklearn.metrics import confusion_matrix\n",
        "# Enter Code here"
      ],
      "execution_count": null,
      "outputs": []
    },
    {
      "cell_type": "markdown",
      "metadata": {
        "id": "mtFjoPEiDKSu"
      },
      "source": [
        "**Q9:** Do the above results validate the accuracy, recall, and precision scores that you received in **Q7**? <br>Manually calculate the accuracy, precision, and recall of the test predicitions. Do not forget to state the formula you used for each. (/3)"
      ]
    },
    {
      "cell_type": "markdown",
      "metadata": {
        "id": "ccJgCXwQFdaj"
      },
      "source": [
        "Answer here"
      ]
    },
    {
      "cell_type": "markdown",
      "metadata": {
        "id": "XjxwO92LGqK8"
      },
      "source": [
        "###**Conclusion**"
      ]
    },
    {
      "cell_type": "markdown",
      "metadata": {
        "id": "gOus2E72Ff7j"
      },
      "source": [
        "This brings an end to your assignment on creating Machine Learning Models. In this part, we saw how implementations are already available in libraries such as Scikit Learn, which streamlines the entire process of machine learning. Various parameters can also be tuned in order to increase performances. <br>\n",
        "We hope that you enjoyed this assignment (especially Part 2), and have gained some experience of building models and classifiers. <br>"
      ]
    },
    {
      "cell_type": "markdown",
      "metadata": {
        "id": "J_7L2Ja_GxRC"
      },
      "source": [
        "We will conclude with a small joke on Machine Learning. <br>\n",
        "Till next time. Take care!"
      ]
    },
    {
      "cell_type": "markdown",
      "metadata": {
        "id": "mWAB6Q0hHJDX"
      },
      "source": [
        "![5Q5OC.png](data:image/png;base64,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)"
      ]
    }
  ]
}