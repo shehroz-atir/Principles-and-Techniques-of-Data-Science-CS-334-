{
  "nbformat": 4,
  "nbformat_minor": 0,
  "metadata": {
    "kernelspec": {
      "display_name": "Python 3",
      "language": "python",
      "name": "python3"
    },
    "language_info": {
      "codemirror_mode": {
        "name": "ipython",
        "version": 3
      },
      "file_extension": ".py",
      "mimetype": "text/x-python",
      "name": "python",
      "nbconvert_exporter": "python",
      "pygments_lexer": "ipython3",
      "version": "3.7.4"
    },
    "colab": {
      "name": "22100337_A3_1.ipynb",
      "provenance": []
    }
  },
  "cells": [
    {
      "cell_type": "markdown",
      "metadata": {
        "id": "zLH-IALG5RFD"
      },
      "source": [
        "## Assignment 3 Part 1"
      ]
    },
    {
      "cell_type": "markdown",
      "metadata": {
        "id": "VDh7CJ_v5RFL"
      },
      "source": [
        "Attempting this part will take approximately 2 hours."
      ]
    },
    {
      "cell_type": "markdown",
      "metadata": {
        "id": "bTEylge25RFL"
      },
      "source": [
        "### **Importing Libraries**"
      ]
    },
    {
      "cell_type": "code",
      "metadata": {
        "id": "YKagSBA65RFM"
      },
      "source": [
        "import pandas as pd\n",
        "import numpy as np\n",
        "%matplotlib inline\n",
        "import matplotlib.pyplot as plots\n",
        "import matplotlib.pyplot as plt\n",
        "plots.style.use('fivethirtyeight')\n"
      ],
      "execution_count": 2,
      "outputs": []
    },
    {
      "cell_type": "markdown",
      "metadata": {
        "id": "Fj8EUAfy5RFQ"
      },
      "source": [
        "# **Instructions**"
      ]
    },
    {
      "cell_type": "markdown",
      "metadata": {
        "id": "mgKo-Yrw5RFQ"
      },
      "source": [
        "How to run this on Google Colab: Uncomment the code cells below and place your csv files on Drive to run this assignment on Google Colab (only if you want to - jupyter notebooks work just fine)"
      ]
    },
    {
      "cell_type": "code",
      "metadata": {
        "colab": {
          "base_uri": "https://localhost:8080/"
        },
        "id": "eO4vP6j05RFQ",
        "outputId": "69299dba-1abf-40c1-c5da-b90b9818206d"
      },
      "source": [
        "'''\n",
        "Linking google colab to your drive folder\n",
        "'''\n",
        "from google.colab import drive\n",
        "drive.mount('/content/drive', force_remount=True)"
      ],
      "execution_count": 3,
      "outputs": [
        {
          "output_type": "stream",
          "text": [
            "Mounted at /content/drive\n"
          ],
          "name": "stdout"
        }
      ]
    },
    {
      "cell_type": "code",
      "metadata": {
        "colab": {
          "base_uri": "https://localhost:8080/"
        },
        "id": "TbVjA7PP5RFR",
        "outputId": "d860ff8f-ab97-42fd-c769-fea6da850449"
      },
      "source": [
        "'''\n",
        "Place the csv files inside your drive and then run this cell\n",
        "'''\n",
        "%cd /content/drive/MyDrive"
      ],
      "execution_count": 4,
      "outputs": [
        {
          "output_type": "stream",
          "text": [
            "/content/drive/MyDrive\n"
          ],
          "name": "stdout"
        }
      ]
    },
    {
      "cell_type": "code",
      "metadata": {
        "id": "bxmfdCxSI2Iu",
        "colab": {
          "base_uri": "https://localhost:8080/"
        },
        "outputId": "c3a5d407-9d7f-4673-b106-25ed5d45fa40"
      },
      "source": [
        "from google.colab import drive\n",
        "drive.mount('/content/drive')"
      ],
      "execution_count": 5,
      "outputs": [
        {
          "output_type": "stream",
          "text": [
            "Drive already mounted at /content/drive; to attempt to forcibly remount, call drive.mount(\"/content/drive\", force_remount=True).\n"
          ],
          "name": "stdout"
        }
      ]
    },
    {
      "cell_type": "markdown",
      "metadata": {
        "id": "QXlpKj6m5RFR"
      },
      "source": [
        "# **Submission Instructions**"
      ]
    },
    {
      "cell_type": "markdown",
      "metadata": {
        "id": "rF9gpTtL5RFS"
      },
      "source": [
        "* You should name the notebook as **YourRollNumber_PartNumber.ipynb**. (e.g. this part should be named as *`2XXXXXXX_1.ipynb`*)\n",
        "* You must submit a zip file containg just the notebook and it must not have any folder or any other file. \n",
        "* The name of the zip file must be your `Roll Number`"
      ]
    },
    {
      "cell_type": "markdown",
      "metadata": {
        "id": "QGZPtG_W5RFT"
      },
      "source": [
        "### **Pima Indian Diabetes Dataset**"
      ]
    },
    {
      "cell_type": "markdown",
      "metadata": {
        "id": "538vIGHi5RFU"
      },
      "source": [
        "This dataset is originally from the National Institute of Diabetes and Digestive and Kidney Diseases. The objective of the dataset is to diagnostically predict whether or not a patient has diabetes, based on certain diagnostic measurements included in the dataset. Several constraints were placed on the selection of these instances from a larger database. In particular, all patients here are females at least 21 years old of Pima Indian heritage."
      ]
    },
    {
      "cell_type": "markdown",
      "metadata": {
        "id": "uZiNGB7S5RFU"
      },
      "source": [
        "Run the cell below to load the dataset and explore its attributes for a study conducted for 786 patients in 1990"
      ]
    },
    {
      "cell_type": "markdown",
      "metadata": {
        "id": "dXzzMREt5RFU"
      },
      "source": [
        "### **Loading Data**"
      ]
    },
    {
      "cell_type": "code",
      "metadata": {
        "colab": {
          "base_uri": "https://localhost:8080/",
          "height": 456
        },
        "id": "RbEAdtr75RFV",
        "outputId": "c8f2b7d4-220d-4a1c-a791-925297370497"
      },
      "source": [
        "pima = pd.read_csv('diabetes_study.csv')\n",
        "pima"
      ],
      "execution_count": 6,
      "outputs": [
        {
          "output_type": "execute_result",
          "data": {
            "text/html": [
              "<div>\n",
              "<style scoped>\n",
              "    .dataframe tbody tr th:only-of-type {\n",
              "        vertical-align: middle;\n",
              "    }\n",
              "\n",
              "    .dataframe tbody tr th {\n",
              "        vertical-align: top;\n",
              "    }\n",
              "\n",
              "    .dataframe thead th {\n",
              "        text-align: right;\n",
              "    }\n",
              "</style>\n",
              "<table border=\"1\" class=\"dataframe\">\n",
              "  <thead>\n",
              "    <tr style=\"text-align: right;\">\n",
              "      <th></th>\n",
              "      <th>p_id</th>\n",
              "      <th>no_times_pregnant</th>\n",
              "      <th>glucose_concentration</th>\n",
              "      <th>blood_pressure</th>\n",
              "      <th>skin_fold_thickness</th>\n",
              "      <th>serum_insulin</th>\n",
              "      <th>bmi</th>\n",
              "      <th>diabetes pedigree</th>\n",
              "      <th>age</th>\n",
              "      <th>diabetes</th>\n",
              "    </tr>\n",
              "  </thead>\n",
              "  <tbody>\n",
              "    <tr>\n",
              "      <th>0</th>\n",
              "      <td>316</td>\n",
              "      <td>2</td>\n",
              "      <td>112</td>\n",
              "      <td>68</td>\n",
              "      <td>22</td>\n",
              "      <td>94</td>\n",
              "      <td>34.1</td>\n",
              "      <td>0.315</td>\n",
              "      <td>26</td>\n",
              "      <td>0</td>\n",
              "    </tr>\n",
              "    <tr>\n",
              "      <th>1</th>\n",
              "      <td>25</td>\n",
              "      <td>11</td>\n",
              "      <td>143</td>\n",
              "      <td>94</td>\n",
              "      <td>33</td>\n",
              "      <td>146</td>\n",
              "      <td>36.6</td>\n",
              "      <td>0.254</td>\n",
              "      <td>51</td>\n",
              "      <td>1</td>\n",
              "    </tr>\n",
              "    <tr>\n",
              "      <th>2</th>\n",
              "      <td>710</td>\n",
              "      <td>2</td>\n",
              "      <td>93</td>\n",
              "      <td>64</td>\n",
              "      <td>32</td>\n",
              "      <td>160</td>\n",
              "      <td>38.0</td>\n",
              "      <td>0.674</td>\n",
              "      <td>23</td>\n",
              "      <td>1</td>\n",
              "    </tr>\n",
              "    <tr>\n",
              "      <th>3</th>\n",
              "      <td>658</td>\n",
              "      <td>1</td>\n",
              "      <td>120</td>\n",
              "      <td>80</td>\n",
              "      <td>48</td>\n",
              "      <td>200</td>\n",
              "      <td>38.9</td>\n",
              "      <td>1.162</td>\n",
              "      <td>41</td>\n",
              "      <td>0</td>\n",
              "    </tr>\n",
              "    <tr>\n",
              "      <th>4</th>\n",
              "      <td>542</td>\n",
              "      <td>3</td>\n",
              "      <td>128</td>\n",
              "      <td>72</td>\n",
              "      <td>25</td>\n",
              "      <td>190</td>\n",
              "      <td>32.4</td>\n",
              "      <td>0.549</td>\n",
              "      <td>27</td>\n",
              "      <td>1</td>\n",
              "    </tr>\n",
              "    <tr>\n",
              "      <th>...</th>\n",
              "      <td>...</td>\n",
              "      <td>...</td>\n",
              "      <td>...</td>\n",
              "      <td>...</td>\n",
              "      <td>...</td>\n",
              "      <td>...</td>\n",
              "      <td>...</td>\n",
              "      <td>...</td>\n",
              "      <td>...</td>\n",
              "      <td>...</td>\n",
              "    </tr>\n",
              "    <tr>\n",
              "      <th>609</th>\n",
              "      <td>14</td>\n",
              "      <td>1</td>\n",
              "      <td>189</td>\n",
              "      <td>60</td>\n",
              "      <td>23</td>\n",
              "      <td>846</td>\n",
              "      <td>30.1</td>\n",
              "      <td>0.398</td>\n",
              "      <td>59</td>\n",
              "      <td>1</td>\n",
              "    </tr>\n",
              "    <tr>\n",
              "      <th>610</th>\n",
              "      <td>555</td>\n",
              "      <td>1</td>\n",
              "      <td>84</td>\n",
              "      <td>64</td>\n",
              "      <td>23</td>\n",
              "      <td>115</td>\n",
              "      <td>36.9</td>\n",
              "      <td>0.471</td>\n",
              "      <td>28</td>\n",
              "      <td>0</td>\n",
              "    </tr>\n",
              "    <tr>\n",
              "      <th>611</th>\n",
              "      <td>730</td>\n",
              "      <td>2</td>\n",
              "      <td>92</td>\n",
              "      <td>52</td>\n",
              "      <td>0</td>\n",
              "      <td>0</td>\n",
              "      <td>30.1</td>\n",
              "      <td>0.141</td>\n",
              "      <td>22</td>\n",
              "      <td>0</td>\n",
              "    </tr>\n",
              "    <tr>\n",
              "      <th>612</th>\n",
              "      <td>103</td>\n",
              "      <td>0</td>\n",
              "      <td>125</td>\n",
              "      <td>96</td>\n",
              "      <td>0</td>\n",
              "      <td>0</td>\n",
              "      <td>22.5</td>\n",
              "      <td>0.262</td>\n",
              "      <td>21</td>\n",
              "      <td>0</td>\n",
              "    </tr>\n",
              "    <tr>\n",
              "      <th>613</th>\n",
              "      <td>603</td>\n",
              "      <td>1</td>\n",
              "      <td>124</td>\n",
              "      <td>74</td>\n",
              "      <td>36</td>\n",
              "      <td>0</td>\n",
              "      <td>27.8</td>\n",
              "      <td>0.100</td>\n",
              "      <td>30</td>\n",
              "      <td>0</td>\n",
              "    </tr>\n",
              "  </tbody>\n",
              "</table>\n",
              "<p>614 rows × 10 columns</p>\n",
              "</div>"
            ],
            "text/plain": [
              "     p_id  no_times_pregnant  ...  age  diabetes\n",
              "0     316                  2  ...   26         0\n",
              "1      25                 11  ...   51         1\n",
              "2     710                  2  ...   23         1\n",
              "3     658                  1  ...   41         0\n",
              "4     542                  3  ...   27         1\n",
              "..    ...                ...  ...  ...       ...\n",
              "609    14                  1  ...   59         1\n",
              "610   555                  1  ...   28         0\n",
              "611   730                  2  ...   22         0\n",
              "612   103                  0  ...   21         0\n",
              "613   603                  1  ...   30         0\n",
              "\n",
              "[614 rows x 10 columns]"
            ]
          },
          "metadata": {
            "tags": []
          },
          "execution_count": 6
        }
      ]
    },
    {
      "cell_type": "markdown",
      "metadata": {
        "id": "ifaJpatJ5RFV"
      },
      "source": [
        "What do these attributes mean?\n",
        "\n",
        "    p_id : patient ID\n",
        "    \n",
        "    no_time_pregnant: Number of times pregnant\n",
        "\n",
        "    glucose_concentration: Plasma glucose concentration a 2 hours in an oral glucose tolerance test\n",
        "\n",
        "    blood_pressure: Diastolic blood pressure (mm Hg)\n",
        "\n",
        "    skin_fold_thickness: Triceps skin fold thickness (mm)\n",
        "\n",
        "    serum_insulin: 2-Hour serum insulin (mu U/ml)\n",
        "\n",
        "    bmi: Body mass index (weight in kg/(height in m)^2)\n",
        "\n",
        "    diabetes pedigree: Diabetes pedigree function\n",
        "\n",
        "    age: Age (years)\n",
        "\n",
        "    diabetes: 1 if diabetes, 0 if no diabetes\n"
      ]
    },
    {
      "cell_type": "markdown",
      "metadata": {
        "id": "FH6lg6055RFV"
      },
      "source": [
        "Each row represents one patient who has been surveyed. The initial columns represent the patient's condiiton when they came for a checkup and the last column `diabetes` represents whether they were diagnosed with diabetes or not. \n",
        "\n",
        "This data has been cleaned to remove any nulll values so that there are none. Therefore, the data's rows may be lesser than the original study that was conducted."
      ]
    },
    {
      "cell_type": "markdown",
      "metadata": {
        "id": "brC24N5z5RFW"
      },
      "source": [
        "**Question 1**: Print the dataset's description in the following cell and check whether any null values exist. (3)"
      ]
    },
    {
      "cell_type": "code",
      "metadata": {
        "colab": {
          "base_uri": "https://localhost:8080/",
          "height": 197
        },
        "id": "FA-RDxha5RFW",
        "outputId": "33890612-f063-4f12-9f42-9944168c9e6f"
      },
      "source": [
        "#Enter code here\n",
        "#display(pima.info())\n",
        "#display(pima.isnull().sum())\n",
        "#pima.shape\n",
        "pima_col=pima.columns.to_list()\n",
        "for column in pima_col:\n",
        "  p=(pima[column].isnull()==True)\n",
        "  if (pima[p].empty):\n",
        "    display(str(column)+ \" contains no Null value\")\n",
        "  else:\n",
        "    display(str(column)+ \" contains Null value\")"
      ],
      "execution_count": 7,
      "outputs": [
        {
          "output_type": "display_data",
          "data": {
            "application/vnd.google.colaboratory.intrinsic+json": {
              "type": "string"
            },
            "text/plain": [
              "'p_id contains no Null value'"
            ]
          },
          "metadata": {
            "tags": []
          }
        },
        {
          "output_type": "display_data",
          "data": {
            "application/vnd.google.colaboratory.intrinsic+json": {
              "type": "string"
            },
            "text/plain": [
              "'no_times_pregnant contains no Null value'"
            ]
          },
          "metadata": {
            "tags": []
          }
        },
        {
          "output_type": "display_data",
          "data": {
            "application/vnd.google.colaboratory.intrinsic+json": {
              "type": "string"
            },
            "text/plain": [
              "'glucose_concentration contains no Null value'"
            ]
          },
          "metadata": {
            "tags": []
          }
        },
        {
          "output_type": "display_data",
          "data": {
            "application/vnd.google.colaboratory.intrinsic+json": {
              "type": "string"
            },
            "text/plain": [
              "'blood_pressure contains no Null value'"
            ]
          },
          "metadata": {
            "tags": []
          }
        },
        {
          "output_type": "display_data",
          "data": {
            "application/vnd.google.colaboratory.intrinsic+json": {
              "type": "string"
            },
            "text/plain": [
              "'skin_fold_thickness contains no Null value'"
            ]
          },
          "metadata": {
            "tags": []
          }
        },
        {
          "output_type": "display_data",
          "data": {
            "application/vnd.google.colaboratory.intrinsic+json": {
              "type": "string"
            },
            "text/plain": [
              "'serum_insulin contains no Null value'"
            ]
          },
          "metadata": {
            "tags": []
          }
        },
        {
          "output_type": "display_data",
          "data": {
            "application/vnd.google.colaboratory.intrinsic+json": {
              "type": "string"
            },
            "text/plain": [
              "'bmi contains no Null value'"
            ]
          },
          "metadata": {
            "tags": []
          }
        },
        {
          "output_type": "display_data",
          "data": {
            "application/vnd.google.colaboratory.intrinsic+json": {
              "type": "string"
            },
            "text/plain": [
              "'diabetes pedigree contains no Null value'"
            ]
          },
          "metadata": {
            "tags": []
          }
        },
        {
          "output_type": "display_data",
          "data": {
            "application/vnd.google.colaboratory.intrinsic+json": {
              "type": "string"
            },
            "text/plain": [
              "'age contains no Null value'"
            ]
          },
          "metadata": {
            "tags": []
          }
        },
        {
          "output_type": "display_data",
          "data": {
            "application/vnd.google.colaboratory.intrinsic+json": {
              "type": "string"
            },
            "text/plain": [
              "'diabetes contains no Null value'"
            ]
          },
          "metadata": {
            "tags": []
          }
        }
      ]
    },
    {
      "cell_type": "markdown",
      "metadata": {
        "id": "Vd2Ayb6d5RFW"
      },
      "source": [
        "### Diabetes and the population"
      ]
    },
    {
      "cell_type": "markdown",
      "metadata": {
        "id": "Ly-yJe1P5RFW"
      },
      "source": [
        "In this section, we will be exploring whether this dataset is a representative sample of population by examining the patients under this survey. This will help us highlights the limitations of the dataset.\n",
        "\n",
        "[According to The Lancet Global Health](https://www.researchgate.net/publication/329604943_The_increasing_burden_of_diabetes_and_variations_among_the_states_of_India_the_Global_Burden_of_Disease_Study_1990-2016), the prevalence of diagnosed diabetes (i.e., the proportion of the population who have it) in India around this time was 0.055. We are going to conduct a hypothesis test with the following null and alternative hypotheses:\n",
        "\n",
        "**Null Hypothesis**: The probability that a participant within the Pima Study has diabetes is equivalent to the prevalence of diagnosed diabetes within the population. (i.e., any difference between the study prevalence and population prevalence is due to random chance in the selection of the participants).\n",
        "\n",
        "**Alternative Hypothesis**: The probability that a participant within the Pima Study has diabetes is different than the prevalence of diagnosed diabetes within the population.\n",
        "\n",
        "We are going to use the absolute distance between the observed prevalence and the true population prevalence as our test statistic. "
      ]
    },
    {
      "cell_type": "markdown",
      "metadata": {
        "id": "6Kgmy2AR5RFX"
      },
      "source": [
        "**Question 2**: What is the observed value of the statistic in the data from the Pima Indian Diabetes Dataset? (5)"
      ]
    },
    {
      "cell_type": "code",
      "metadata": {
        "id": "YgOac4sX5RFX",
        "colab": {
          "base_uri": "https://localhost:8080/"
        },
        "outputId": "15c7d5b0-0ae6-4b02-8b2c-69ec0fc26d6d"
      },
      "source": [
        "\n",
        "total=pima['diabetes'].value_counts()\n",
        "pdia=total[1]/(total[0]+total[1])\n",
        "print(\"observed statistic of people with diabetes:\",pdia)\n",
        "print(\"observed statistic of people not having diabetes:\",1-pdia)\n"
      ],
      "execution_count": 8,
      "outputs": [
        {
          "output_type": "stream",
          "text": [
            "observed statistic of people with diabetes: 0.3485342019543974\n",
            "observed statistic of people not having diabetes: 0.6514657980456027\n"
          ],
          "name": "stdout"
        }
      ]
    },
    {
      "cell_type": "markdown",
      "metadata": {
        "id": "NwRk4Amw5RFX"
      },
      "source": [
        "**Question 3**: Make a function that returns a simulated statistic under the null hypothesis. (7)\n",
        "\n",
        "**IMPORTANT NOTE:** Look into the [np.random.multinomial](https://numpy.org/doc/stable/reference/random/generated/numpy.random.multinomial.html) function for simulating the statistic."
      ]
    },
    {
      "cell_type": "code",
      "metadata": {
        "id": "4TKtELxx5RFX"
      },
      "source": [
        "#Enter code here\n",
        "def null_hyp(n,p,size=1):\n",
        "  nul=np.random.multinomial(n,p,size=size)\n",
        "  return (nul/n)"
      ],
      "execution_count": 9,
      "outputs": []
    },
    {
      "cell_type": "markdown",
      "metadata": {
        "id": "hR_c3MAJ5RFX"
      },
      "source": [
        "**Question 4**: Use this function to simulate 5000 values of the statistic under null hypothesis (7)"
      ]
    },
    {
      "cell_type": "code",
      "metadata": {
        "id": "2cf1Jbmw5RFY",
        "colab": {
          "base_uri": "https://localhost:8080/",
          "height": 136
        },
        "outputId": "193e2d1d-b681-4f97-aab0-912af14224e1"
      },
      "source": [
        "#Enter code here\n",
        "p=[1-0.055,0.055]\n",
        "n=100\n",
        "size=5000\n",
        "sample=null_hyp(n,p,size)\n",
        "display(sample)"
      ],
      "execution_count": 10,
      "outputs": [
        {
          "output_type": "display_data",
          "data": {
            "text/plain": [
              "array([[0.93, 0.07],\n",
              "       [0.97, 0.03],\n",
              "       [0.95, 0.05],\n",
              "       ...,\n",
              "       [0.92, 0.08],\n",
              "       [0.97, 0.03],\n",
              "       [0.94, 0.06]])"
            ]
          },
          "metadata": {
            "tags": []
          }
        }
      ]
    },
    {
      "cell_type": "markdown",
      "metadata": {
        "id": "CSw8dyo65RFY"
      },
      "source": [
        "**Question 5**: Generate a histogram of the simulated values of your statistic, along with the observed value. (4)\n",
        "\n",
        "*Explain what this histogram displays.*"
      ]
    },
    {
      "cell_type": "code",
      "metadata": {
        "id": "7Yp7zweE5RFY",
        "colab": {
          "base_uri": "https://localhost:8080/",
          "height": 299
        },
        "outputId": "9d8b0875-8973-42a5-8d39-ef0d0babf6cb"
      },
      "source": [
        "#Enter code and comment here\n",
        "histo=pd.DataFrame(sample,columns=['Non Diabetic','Diabetic'])\n",
        "maxval=histo['Diabetic'].max()\n",
        "minval=histo['Diabetic'].min()\n",
        "t=round(histo.shape[0]**0.5)\n",
        "histo['Diabetic'].hist(bins=t)\n",
        "plt.scatter(pdia,20,color=\"green\")\n"
      ],
      "execution_count": 22,
      "outputs": [
        {
          "output_type": "execute_result",
          "data": {
            "text/plain": [
              "<matplotlib.collections.PathCollection at 0x7f3bda168f50>"
            ]
          },
          "metadata": {
            "tags": []
          },
          "execution_count": 22
        },
        {
          "output_type": "display_data",
          "data": {
            "image/png": "[encoded data removed]",
            "text/plain": [
              "<Figure size 432x288 with 1 Axes>"
            ]
          },
          "metadata": {
            "tags": []
          }
        }
      ]
    },
    {
      "cell_type": "markdown",
      "metadata": {
        "id": "22_NfiDh5RFY"
      },
      "source": [
        "**Question 6**: Based on the results of the test and the empirical distribution of the test statistic under the null, should you reject the null hypothesis? (2)"
      ]
    },
    {
      "cell_type": "code",
      "metadata": {
        "colab": {
          "base_uri": "https://localhost:8080/"
        },
        "id": "hUjRlGEDIQCK",
        "outputId": "4ebaeb02-688e-41c1-db03-40ca8aa2db90"
      },
      "source": [
        "print(\"Observed probability: \"+str(pdia*100))\n",
        "print(\"simulations range: \"+str(minval)+\"-\"+str(maxval))"
      ],
      "execution_count": 42,
      "outputs": [
        {
          "output_type": "stream",
          "text": [
            "Observed probability: 34.85342019543974\n",
            "simulations range: 0.0-0.15\n"
          ],
          "name": "stdout"
        }
      ]
    },
    {
      "cell_type": "markdown",
      "metadata": {
        "id": "f0SgoOvwI0Wf"
      },
      "source": [
        "Considering the value we got above we should reject the null hypothesis as the observed value we got from the study is 34.85% and the simulated value we got is in the range of 0-15% "
      ]
    },
    {
      "cell_type": "markdown",
      "metadata": {
        "id": "ihWjOWC25RFY"
      },
      "source": [
        "#Enter comment here"
      ]
    },
    {
      "cell_type": "markdown",
      "metadata": {
        "id": "ip6IdtA25RFY"
      },
      "source": [
        "**Question 7**: Suggest three reasons why the conclusion drawn in question 5 could be a misleading one? What are some possible reasons why this data may not be representative of the population? (3)\n",
        "\n",
        "(Note: think along the lines of the size of this dataset as well as the type of people surveyed)"
      ]
    },
    {
      "cell_type": "markdown",
      "metadata": {
        "id": "ILsv5vp75RFZ"
      },
      "source": [
        "#Enter comment here"
      ]
    },
    {
      "cell_type": "markdown",
      "metadata": {
        "id": "6blxCEj55RFZ"
      },
      "source": [
        "## Bootstrap Sampling and Confidence Intervals"
      ]
    },
    {
      "cell_type": "markdown",
      "metadata": {
        "id": "7OJ-UIqz5RFZ"
      },
      "source": [
        "The bootstrap method is a resampling technique used to estimate statistics on a population by sampling a dataset with replacement.\n",
        "\n",
        "It can be used to estimate summary statistics such as the mean or standard deviation. It is used in applied machine learning to estimate the skill of machine learning models when making predictions on data not included in the training data.\n",
        "\n",
        "A desirable property of the results from estimating machine learning model skill is that the estimated skill can be presented with confidence intervals, a feature not readily available with other methods such as cross-validation."
      ]
    },
    {
      "cell_type": "markdown",
      "metadata": {
        "id": "3CQgshSU5RFZ"
      },
      "source": [
        "**Question 8:** Sample 100 instances from the dataset with replacement and print their description (2)"
      ]
    },
    {
      "cell_type": "code",
      "metadata": {
        "id": "fTc88C_B5RFa",
        "colab": {
          "base_uri": "https://localhost:8080/",
          "height": 334
        },
        "outputId": "fa81b4bb-b014-427c-c979-94ad11df838b"
      },
      "source": [
        "#Enter code here\n",
        "samp_100=pima.sample(100)\n",
        "samp_100.describe()"
      ],
      "execution_count": 23,
      "outputs": [
        {
          "output_type": "execute_result",
          "data": {
            "text/html": [
              "<div>\n",
              "<style scoped>\n",
              "    .dataframe tbody tr th:only-of-type {\n",
              "        vertical-align: middle;\n",
              "    }\n",
              "\n",
              "    .dataframe tbody tr th {\n",
              "        vertical-align: top;\n",
              "    }\n",
              "\n",
              "    .dataframe thead th {\n",
              "        text-align: right;\n",
              "    }\n",
              "</style>\n",
              "<table border=\"1\" class=\"dataframe\">\n",
              "  <thead>\n",
              "    <tr style=\"text-align: right;\">\n",
              "      <th></th>\n",
              "      <th>p_id</th>\n",
              "      <th>no_times_pregnant</th>\n",
              "      <th>glucose_concentration</th>\n",
              "      <th>blood_pressure</th>\n",
              "      <th>skin_fold_thickness</th>\n",
              "      <th>serum_insulin</th>\n",
              "      <th>bmi</th>\n",
              "      <th>diabetes pedigree</th>\n",
              "      <th>age</th>\n",
              "      <th>diabetes</th>\n",
              "    </tr>\n",
              "  </thead>\n",
              "  <tbody>\n",
              "    <tr>\n",
              "      <th>count</th>\n",
              "      <td>100.00000</td>\n",
              "      <td>100.000000</td>\n",
              "      <td>100.000000</td>\n",
              "      <td>100.000000</td>\n",
              "      <td>100.000000</td>\n",
              "      <td>100.000000</td>\n",
              "      <td>100.000000</td>\n",
              "      <td>100.000000</td>\n",
              "      <td>100.000000</td>\n",
              "      <td>100.000000</td>\n",
              "    </tr>\n",
              "    <tr>\n",
              "      <th>mean</th>\n",
              "      <td>365.62000</td>\n",
              "      <td>3.800000</td>\n",
              "      <td>123.040000</td>\n",
              "      <td>71.510000</td>\n",
              "      <td>21.100000</td>\n",
              "      <td>100.340000</td>\n",
              "      <td>32.962000</td>\n",
              "      <td>0.607170</td>\n",
              "      <td>31.870000</td>\n",
              "      <td>0.400000</td>\n",
              "    </tr>\n",
              "    <tr>\n",
              "      <th>std</th>\n",
              "      <td>204.02925</td>\n",
              "      <td>3.536248</td>\n",
              "      <td>33.714164</td>\n",
              "      <td>14.752843</td>\n",
              "      <td>15.377079</td>\n",
              "      <td>153.302515</td>\n",
              "      <td>8.543552</td>\n",
              "      <td>0.426932</td>\n",
              "      <td>10.971639</td>\n",
              "      <td>0.492366</td>\n",
              "    </tr>\n",
              "    <tr>\n",
              "      <th>min</th>\n",
              "      <td>5.00000</td>\n",
              "      <td>0.000000</td>\n",
              "      <td>0.000000</td>\n",
              "      <td>0.000000</td>\n",
              "      <td>0.000000</td>\n",
              "      <td>0.000000</td>\n",
              "      <td>0.000000</td>\n",
              "      <td>0.085000</td>\n",
              "      <td>21.000000</td>\n",
              "      <td>0.000000</td>\n",
              "    </tr>\n",
              "    <tr>\n",
              "      <th>25%</th>\n",
              "      <td>197.25000</td>\n",
              "      <td>1.000000</td>\n",
              "      <td>97.000000</td>\n",
              "      <td>64.000000</td>\n",
              "      <td>7.750000</td>\n",
              "      <td>0.000000</td>\n",
              "      <td>27.275000</td>\n",
              "      <td>0.313500</td>\n",
              "      <td>23.750000</td>\n",
              "      <td>0.000000</td>\n",
              "    </tr>\n",
              "    <tr>\n",
              "      <th>50%</th>\n",
              "      <td>377.50000</td>\n",
              "      <td>2.000000</td>\n",
              "      <td>117.000000</td>\n",
              "      <td>72.000000</td>\n",
              "      <td>22.500000</td>\n",
              "      <td>41.500000</td>\n",
              "      <td>32.500000</td>\n",
              "      <td>0.461500</td>\n",
              "      <td>29.000000</td>\n",
              "      <td>0.000000</td>\n",
              "    </tr>\n",
              "    <tr>\n",
              "      <th>75%</th>\n",
              "      <td>498.50000</td>\n",
              "      <td>6.000000</td>\n",
              "      <td>148.750000</td>\n",
              "      <td>80.000000</td>\n",
              "      <td>33.000000</td>\n",
              "      <td>136.250000</td>\n",
              "      <td>39.175000</td>\n",
              "      <td>0.833000</td>\n",
              "      <td>38.250000</td>\n",
              "      <td>1.000000</td>\n",
              "    </tr>\n",
              "    <tr>\n",
              "      <th>max</th>\n",
              "      <td>756.00000</td>\n",
              "      <td>17.000000</td>\n",
              "      <td>197.000000</td>\n",
              "      <td>108.000000</td>\n",
              "      <td>51.000000</td>\n",
              "      <td>846.000000</td>\n",
              "      <td>52.300000</td>\n",
              "      <td>2.288000</td>\n",
              "      <td>81.000000</td>\n",
              "      <td>1.000000</td>\n",
              "    </tr>\n",
              "  </tbody>\n",
              "</table>\n",
              "</div>"
            ],
            "text/plain": [
              "            p_id  no_times_pregnant  ...         age    diabetes\n",
              "count  100.00000         100.000000  ...  100.000000  100.000000\n",
              "mean   365.62000           3.800000  ...   31.870000    0.400000\n",
              "std    204.02925           3.536248  ...   10.971639    0.492366\n",
              "min      5.00000           0.000000  ...   21.000000    0.000000\n",
              "25%    197.25000           1.000000  ...   23.750000    0.000000\n",
              "50%    377.50000           2.000000  ...   29.000000    0.000000\n",
              "75%    498.50000           6.000000  ...   38.250000    1.000000\n",
              "max    756.00000          17.000000  ...   81.000000    1.000000\n",
              "\n",
              "[8 rows x 10 columns]"
            ]
          },
          "metadata": {
            "tags": []
          },
          "execution_count": 23
        }
      ]
    },
    {
      "cell_type": "markdown",
      "metadata": {
        "id": "5xAbaY6P5RFa"
      },
      "source": [
        "**Question 9:** Make a function that generates the mean bmi of the 100 patients you sampled above. Generate the mean for 1000 samples and append all values to an array (5)"
      ]
    },
    {
      "cell_type": "code",
      "metadata": {
        "id": "6nzZ4wq35RFa"
      },
      "source": [
        "#Enter code here\n",
        "def bmi(bmi_df,samp,size,col):\n",
        "  b=[]\n",
        "  for i in range(samp):\n",
        "    b.append(bmi_df.sample(size)[col].mean())\n",
        "  return b"
      ],
      "execution_count": 24,
      "outputs": []
    },
    {
      "cell_type": "markdown",
      "metadata": {
        "id": "CIGLS4P05RFb"
      },
      "source": [
        "**Question 10:** Call the function above and generate a histogram of the simulated values of your statistic. Also show the original mean as a line drawn on your graph. (5)\n",
        "\n",
        "*Explain what this histogram displays or any observations you make.*"
      ]
    },
    {
      "cell_type": "code",
      "metadata": {
        "id": "-si5mKL75RFb",
        "colab": {
          "base_uri": "https://localhost:8080/",
          "height": 316
        },
        "outputId": "546747dd-43fe-4224-9e94-2a02582fba42"
      },
      "source": [
        "#Enter code here\n",
        "b=bmi(pima,1000,100,'bmi')\n",
        "b_df=pd.DataFrame(b,columns=[\"BMI mean\"])\n",
        "t=round(b_df.shape[0]**0.5)\n",
        "b_df[\"BMI mean\"].hist(bins=t)\n",
        "mean_val=pima['bmi'].mean()\n",
        "b_df_mean=b_df['BMI mean'].mean()\n",
        "plt.plot(np.full(shape=(100),fill_value=mean_val),np.arange(0,100,1))\n",
        "print(\"Mean bmi from sample: \",b_df_mean)\n",
        "print(\"Mean bmi from pima: \",mean_val)\n",
        "#this histogram displays the mean value of bmi taken from a random sample\n",
        "#it shows that the mean bmi of the sample and the entire dataset is almost the same\n"
      ],
      "execution_count": 30,
      "outputs": [
        {
          "output_type": "stream",
          "text": [
            "Mean bmi from sample:  31.89979600000001\n",
            "Mean bmi from pima:  31.909934853420225\n"
          ],
          "name": "stdout"
        },
        {
          "output_type": "display_data",
          "data": {
            "image/png": "[encoded data removed]",
            "text/plain": [
              "<Figure size 432x288 with 1 Axes>"
            ]
          },
          "metadata": {
            "tags": []
          }
        }
      ]
    },
    {
      "cell_type": "markdown",
      "metadata": {
        "id": "kQd5Xin05RFb"
      },
      "source": [
        "**Question 11:** Print the bootstrap approximated 95% confidence interval for the mean bmi of the Pima dataset. (3)"
      ]
    },
    {
      "cell_type": "code",
      "metadata": {
        "id": "wW1u_tO15RFb",
        "colab": {
          "base_uri": "https://localhost:8080/"
        },
        "outputId": "6f6ab908-dcba-4581-9331-adc6af6039d9"
      },
      "source": [
        "#Enter code here\n",
        "coni=95/100\n",
        "arr=np.sort(b_df)\n",
        "dev=np.std(arr)\n",
        "mean=arr.mean()\n",
        "bo={0.99:2.575,0.95:1.96,0.90:1.645}\n",
        "app=bo[coni]\n",
        "max_l=mean+(app*dev)\n",
        "min_l=mean-(app*dev)\n",
        "print(max_l)\n",
        "print(min_l)"
      ],
      "execution_count": 38,
      "outputs": [
        {
          "output_type": "stream",
          "text": [
            "33.37825215168255\n",
            "30.42133984831745\n"
          ],
          "name": "stdout"
        }
      ]
    },
    {
      "cell_type": "markdown",
      "metadata": {
        "id": "gaJB5ntB5RFb"
      },
      "source": [
        "**Question 12:** Why does the resampling distribution of the difference in means approach a normal distribution? (2)"
      ]
    },
    {
      "cell_type": "markdown",
      "metadata": {
        "id": "wr0FfxkY5RFb"
      },
      "source": [
        "It reaches a normal distribution because of the central limit theorm"
      ]
    },
    {
      "cell_type": "markdown",
      "metadata": {
        "id": "CXBfhoaE5RFc"
      },
      "source": [
        "**Question 13 Part A:** What are some advantages of using the bootstrap sampling method? List them down. (2)"
      ]
    },
    {
      "cell_type": "code",
      "metadata": {
        "id": "ZPIN_YM4JXc-"
      },
      "source": [
        ""
      ],
      "execution_count": null,
      "outputs": []
    },
    {
      "cell_type": "markdown",
      "metadata": {
        "id": "hsZ-s2VJciEu"
      },
      "source": [
        "we dont have to keep resampaling and repating the experiment\n",
        "bootstrap provides a more accurate estimate of a parameter"
      ]
    },
    {
      "cell_type": "markdown",
      "metadata": {
        "id": "4zPPn4nZ5RFc"
      },
      "source": [
        "#Enter comment here"
      ]
    },
    {
      "cell_type": "markdown",
      "metadata": {
        "id": "4zMctQQScEq0"
      },
      "source": [
        ""
      ]
    },
    {
      "cell_type": "markdown",
      "metadata": {
        "id": "NkyZIrQ35RFc"
      },
      "source": [
        "**Question 13 Part B:** Write a reason why using bootstrap sampling method for this dataset might prove to be problematic? (2)"
      ]
    },
    {
      "cell_type": "markdown",
      "metadata": {
        "id": "B97zx0o05RFc"
      },
      "source": [
        "bootstrapping will undervalue the observations\n",
        "and this method depends largely on the random sample taken from the data"
      ]
    }
  ]
}