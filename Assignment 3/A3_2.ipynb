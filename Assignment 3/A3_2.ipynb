{
  "nbformat": 4,
  "nbformat_minor": 0,
  "metadata": {
    "kernelspec": {
      "display_name": "Python 3",
      "language": "python",
      "name": "python3"
    },
    "language_info": {
      "codemirror_mode": {
        "name": "ipython",
        "version": 3
      },
      "file_extension": ".py",
      "mimetype": "text/x-python",
      "name": "python",
      "nbconvert_exporter": "python",
      "pygments_lexer": "ipython3",
      "version": "3.7.4"
    },
    "colab": {
      "name": "22100337_A3_2.ipynb",
      "provenance": []
    }
  },
  "cells": [
    {
      "cell_type": "markdown",
      "metadata": {
        "id": "d3CIEzeuxUey"
      },
      "source": [
        "## Assignment 3 Part 2"
      ]
    },
    {
      "cell_type": "markdown",
      "metadata": {
        "id": "psNrJAT8xUe3"
      },
      "source": [
        "Attempting this part will take approximately 2 hours."
      ]
    },
    {
      "cell_type": "markdown",
      "metadata": {
        "id": "W3evwHThxUe4"
      },
      "source": [
        "### **Importing Libraries**"
      ]
    },
    {
      "cell_type": "code",
      "metadata": {
        "colab": {
          "base_uri": "https://localhost:8080/"
        },
        "id": "XiojUqVLxUfC",
        "outputId": "6873063b-49c8-4291-ee44-1653d80a4792"
      },
      "source": [
        "#install the CausalGraphicalModel library using pip install causalgraphicalmodels command on your terminal\n",
        "!pip install causalgraphicalmodels\n",
        "from causalgraphicalmodels import CausalGraphicalModel"
      ],
      "execution_count": 2,
      "outputs": [
        {
          "output_type": "stream",
          "text": [
            "Collecting causalgraphicalmodels\n",
            "  Downloading https://files.pythonhosted.org/packages/c8/ee/3b2d184576f3cb4873cebfc696e8e5c1e53eaef691f38aea76c206f9f916/causalgraphicalmodels-0.0.4-py3-none-any.whl\n",
            "Requirement already satisfied: pandas in /usr/local/lib/python3.7/dist-packages (from causalgraphicalmodels) (1.1.5)\n",
            "Requirement already satisfied: networkx in /usr/local/lib/python3.7/dist-packages (from causalgraphicalmodels) (2.5)\n",
            "Requirement already satisfied: numpy in /usr/local/lib/python3.7/dist-packages (from causalgraphicalmodels) (1.19.5)\n",
            "Requirement already satisfied: graphviz in /usr/local/lib/python3.7/dist-packages (from causalgraphicalmodels) (0.10.1)\n",
            "Requirement already satisfied: pytz>=2017.2 in /usr/local/lib/python3.7/dist-packages (from pandas->causalgraphicalmodels) (2018.9)\n",
            "Requirement already satisfied: python-dateutil>=2.7.3 in /usr/local/lib/python3.7/dist-packages (from pandas->causalgraphicalmodels) (2.8.1)\n",
            "Requirement already satisfied: decorator>=4.3.0 in /usr/local/lib/python3.7/dist-packages (from networkx->causalgraphicalmodels) (4.4.2)\n",
            "Requirement already satisfied: six>=1.5 in /usr/local/lib/python3.7/dist-packages (from python-dateutil>=2.7.3->pandas->causalgraphicalmodels) (1.15.0)\n",
            "Installing collected packages: causalgraphicalmodels\n",
            "Successfully installed causalgraphicalmodels-0.0.4\n"
          ],
          "name": "stdout"
        }
      ]
    },
    {
      "cell_type": "markdown",
      "metadata": {
        "id": "NkL4LV2PxUfD"
      },
      "source": [
        "# **Instructions**"
      ]
    },
    {
      "cell_type": "markdown",
      "metadata": {
        "id": "3oQiO1i1xUfD"
      },
      "source": [
        "How to run this on Google Colab: Uncomment the code cells below and place your csv files on Drive to run this assignment on Google Colab (only if you want to - jupyter notebooks work just fine)"
      ]
    },
    {
      "cell_type": "code",
      "metadata": {
        "id": "HX_z-Wa9xUfE",
        "colab": {
          "base_uri": "https://localhost:8080/",
          "height": 35
        },
        "outputId": "388a8976-1333-4835-9287-ff3d4ef5d594"
      },
      "source": [
        "'''\n",
        "Linking google colab to your drive folder\n",
        "'''\n",
        "# from google.colab import drive\n",
        "# drive.mount('/content/gdrive', force_remount=True)"
      ],
      "execution_count": 3,
      "outputs": [
        {
          "output_type": "execute_result",
          "data": {
            "application/vnd.google.colaboratory.intrinsic+json": {
              "type": "string"
            },
            "text/plain": [
              "'\\nLinking google colab to your drive folder\\n'"
            ]
          },
          "metadata": {
            "tags": []
          },
          "execution_count": 3
        }
      ]
    },
    {
      "cell_type": "code",
      "metadata": {
        "id": "TCwA9v1xxUfF",
        "colab": {
          "base_uri": "https://localhost:8080/",
          "height": 35
        },
        "outputId": "568c99ff-7a88-4d9c-b6ab-2ec21d616884"
      },
      "source": [
        "'''\n",
        "Place the csv files inside your drive and then run this cell\n",
        "'''\n",
        "# %cd /content/gdrive/My\\ Drive/"
      ],
      "execution_count": 4,
      "outputs": [
        {
          "output_type": "execute_result",
          "data": {
            "application/vnd.google.colaboratory.intrinsic+json": {
              "type": "string"
            },
            "text/plain": [
              "'\\nPlace the csv files inside your drive and then run this cell\\n'"
            ]
          },
          "metadata": {
            "tags": []
          },
          "execution_count": 4
        }
      ]
    },
    {
      "cell_type": "markdown",
      "metadata": {
        "id": "46E8j7QYxUfI"
      },
      "source": [
        "# **Submission Instructions**"
      ]
    },
    {
      "cell_type": "markdown",
      "metadata": {
        "id": "OAic7L4BxUfI"
      },
      "source": [
        "* You should name the notebook as **YourRollNumber_PartNumber.ipynb**. (e.g. this part should be named as *`2XXXXXXX_1.ipynb`*)\n",
        "* You must submit a zip file containg just the notebook and it must not have any folder or any other file. \n",
        "* The name of the zip file must be your `Roll Number`"
      ]
    },
    {
      "cell_type": "markdown",
      "metadata": {
        "id": "m-WqAe2ZxUfM"
      },
      "source": [
        "This part of the assignment is based on inferencing causality using Directed Acyclic Graphs. Please ensure that you have thoroughly gone through the lectures before starting. "
      ]
    },
    {
      "cell_type": "code",
      "metadata": {
        "id": "MuOruiYpxUfM"
      },
      "source": [
        "from causalgraphicalmodels import CausalGraphicalModel"
      ],
      "execution_count": 5,
      "outputs": []
    },
    {
      "cell_type": "markdown",
      "metadata": {
        "id": "D5PwNKeqxUfM"
      },
      "source": [
        "**Question 1 Part A:** There are 3 types of causal graphs structures that represent different types of association between the variables (or in the case of data attributes). These are called forks, chains and colliders. In the cell below, using the `CausalGraphicalModel` library represent each of these three. (6)"
      ]
    },
    {
      "cell_type": "code",
      "metadata": {
        "id": "1mmarKQSxUfN",
        "colab": {
          "base_uri": "https://localhost:8080/",
          "height": 176
        },
        "outputId": "6d1ad99a-252a-41ae-f7b7-7b1c19fa4517"
      },
      "source": [
        "fork = CausalGraphicalModel(\n",
        "    nodes=[\"x\", \"y\", \"z\"], \n",
        "    edges= [(\"x\",\"y\"),(\"x\",\"z\")]\n",
        ")\n",
        "\n",
        "\n",
        "\n",
        "chain = CausalGraphicalModel(\n",
        "    nodes=[\"x\", \"y\", \"z\"],\n",
        "    edges= [(\"x\",\"y\"),(\"y\",\"z\")]\n",
        ")\n",
        "\n",
        "\n",
        "\n",
        "collider = CausalGraphicalModel(\n",
        "    nodes=[\"x\", \"y\", \"z\"], \n",
        "    edges= [(\"y\",\"x\"),(\"z\",\"x\")]\n",
        ")\n",
        "\n",
        "collider.draw()\n",
        "\n"
      ],
      "execution_count": 6,
      "outputs": [
        {
          "output_type": "execute_result",
          "data": {
            "text/plain": [
              "<graphviz.dot.Digraph at 0x7f1222ad3790>"
            ],
            "image/svg+xml": "<?xml version=\"1.0\" encoding=\"UTF-8\" standalone=\"no\"?>\n<!DOCTYPE svg PUBLIC \"-//W3C//DTD SVG 1.1//EN\"\n \"http://www.w3.org/Graphics/SVG/1.1/DTD/svg11.dtd\">\n<!-- Generated by graphviz version 2.40.1 (20161225.0304)\n -->\n<!-- Title: %3 Pages: 1 -->\n<svg width=\"134pt\" height=\"116pt\"\n viewBox=\"0.00 0.00 134.00 116.00\" xmlns=\"http://www.w3.org/2000/svg\" xmlns:xlink=\"http://www.w3.org/1999/xlink\">\n<g id=\"graph0\" class=\"graph\" transform=\"scale(1 1) rotate(0) translate(4 112)\">\n<title>%3</title>\n<polygon fill=\"#ffffff\" stroke=\"transparent\" points=\"-4,4 -4,-112 130,-112 130,4 -4,4\"/>\n<!-- y -->\n<g id=\"node1\" class=\"node\">\n<title>y</title>\n<ellipse fill=\"none\" stroke=\"#000000\" cx=\"27\" cy=\"-90\" rx=\"27\" ry=\"18\"/>\n<text text-anchor=\"middle\" x=\"27\" y=\"-86.3\" font-family=\"Times,serif\" font-size=\"14.00\" fill=\"#000000\">y</text>\n</g>\n<!-- x -->\n<g id=\"node3\" class=\"node\">\n<title>x</title>\n<ellipse fill=\"none\" stroke=\"#000000\" cx=\"63\" cy=\"-18\" rx=\"27\" ry=\"18\"/>\n<text text-anchor=\"middle\" x=\"63\" y=\"-14.3\" font-family=\"Times,serif\" font-size=\"14.00\" fill=\"#000000\">x</text>\n</g>\n<!-- y&#45;&gt;x -->\n<g id=\"edge1\" class=\"edge\">\n<title>y&#45;&gt;x</title>\n<path fill=\"none\" stroke=\"#000000\" d=\"M35.7146,-72.5708C39.9597,-64.0807 45.1536,-53.6929 49.8663,-44.2674\"/>\n<polygon fill=\"#000000\" stroke=\"#000000\" points=\"53.024,-45.7782 54.3657,-35.2687 46.763,-42.6477 53.024,-45.7782\"/>\n</g>\n<!-- z -->\n<g id=\"node2\" class=\"node\">\n<title>z</title>\n<ellipse fill=\"none\" stroke=\"#000000\" cx=\"99\" cy=\"-90\" rx=\"27\" ry=\"18\"/>\n<text text-anchor=\"middle\" x=\"99\" y=\"-86.3\" font-family=\"Times,serif\" font-size=\"14.00\" fill=\"#000000\">z</text>\n</g>\n<!-- z&#45;&gt;x -->\n<g id=\"edge2\" class=\"edge\">\n<title>z&#45;&gt;x</title>\n<path fill=\"none\" stroke=\"#000000\" d=\"M90.2854,-72.5708C86.0403,-64.0807 80.8464,-53.6929 76.1337,-44.2674\"/>\n<polygon fill=\"#000000\" stroke=\"#000000\" points=\"79.237,-42.6477 71.6343,-35.2687 72.976,-45.7782 79.237,-42.6477\"/>\n</g>\n</g>\n</svg>\n"
          },
          "metadata": {
            "tags": []
          },
          "execution_count": 6
        }
      ]
    },
    {
      "cell_type": "code",
      "metadata": {
        "colab": {
          "base_uri": "https://localhost:8080/",
          "height": 272
        },
        "id": "Qy4dtPFp8ePp",
        "outputId": "c0e9e49a-006c-4e27-ce8c-52802f112be5"
      },
      "source": [
        "chain.draw()"
      ],
      "execution_count": 7,
      "outputs": [
        {
          "output_type": "execute_result",
          "data": {
            "text/plain": [
              "<graphviz.dot.Digraph at 0x7f1222ad3390>"
            ],
            "image/svg+xml": "<?xml version=\"1.0\" encoding=\"UTF-8\" standalone=\"no\"?>\n<!DOCTYPE svg PUBLIC \"-//W3C//DTD SVG 1.1//EN\"\n \"http://www.w3.org/Graphics/SVG/1.1/DTD/svg11.dtd\">\n<!-- Generated by graphviz version 2.40.1 (20161225.0304)\n -->\n<!-- Title: %3 Pages: 1 -->\n<svg width=\"62pt\" height=\"188pt\"\n viewBox=\"0.00 0.00 62.00 188.00\" xmlns=\"http://www.w3.org/2000/svg\" xmlns:xlink=\"http://www.w3.org/1999/xlink\">\n<g id=\"graph0\" class=\"graph\" transform=\"scale(1 1) rotate(0) translate(4 184)\">\n<title>%3</title>\n<polygon fill=\"#ffffff\" stroke=\"transparent\" points=\"-4,4 -4,-184 58,-184 58,4 -4,4\"/>\n<!-- y -->\n<g id=\"node1\" class=\"node\">\n<title>y</title>\n<ellipse fill=\"none\" stroke=\"#000000\" cx=\"27\" cy=\"-90\" rx=\"27\" ry=\"18\"/>\n<text text-anchor=\"middle\" x=\"27\" y=\"-86.3\" font-family=\"Times,serif\" font-size=\"14.00\" fill=\"#000000\">y</text>\n</g>\n<!-- z -->\n<g id=\"node2\" class=\"node\">\n<title>z</title>\n<ellipse fill=\"none\" stroke=\"#000000\" cx=\"27\" cy=\"-18\" rx=\"27\" ry=\"18\"/>\n<text text-anchor=\"middle\" x=\"27\" y=\"-14.3\" font-family=\"Times,serif\" font-size=\"14.00\" fill=\"#000000\">z</text>\n</g>\n<!-- y&#45;&gt;z -->\n<g id=\"edge2\" class=\"edge\">\n<title>y&#45;&gt;z</title>\n<path fill=\"none\" stroke=\"#000000\" d=\"M27,-71.8314C27,-64.131 27,-54.9743 27,-46.4166\"/>\n<polygon fill=\"#000000\" stroke=\"#000000\" points=\"30.5001,-46.4132 27,-36.4133 23.5001,-46.4133 30.5001,-46.4132\"/>\n</g>\n<!-- x -->\n<g id=\"node3\" class=\"node\">\n<title>x</title>\n<ellipse fill=\"none\" stroke=\"#000000\" cx=\"27\" cy=\"-162\" rx=\"27\" ry=\"18\"/>\n<text text-anchor=\"middle\" x=\"27\" y=\"-158.3\" font-family=\"Times,serif\" font-size=\"14.00\" fill=\"#000000\">x</text>\n</g>\n<!-- x&#45;&gt;y -->\n<g id=\"edge1\" class=\"edge\">\n<title>x&#45;&gt;y</title>\n<path fill=\"none\" stroke=\"#000000\" d=\"M27,-143.8314C27,-136.131 27,-126.9743 27,-118.4166\"/>\n<polygon fill=\"#000000\" stroke=\"#000000\" points=\"30.5001,-118.4132 27,-108.4133 23.5001,-118.4133 30.5001,-118.4132\"/>\n</g>\n</g>\n</svg>\n"
          },
          "metadata": {
            "tags": []
          },
          "execution_count": 7
        }
      ]
    },
    {
      "cell_type": "code",
      "metadata": {
        "colab": {
          "base_uri": "https://localhost:8080/",
          "height": 176
        },
        "id": "i4-DVuVz8fd5",
        "outputId": "c6ac85e0-a9c7-4214-e4a0-532c834d0132"
      },
      "source": [
        "fork.draw()"
      ],
      "execution_count": 8,
      "outputs": [
        {
          "output_type": "execute_result",
          "data": {
            "text/plain": [
              "<graphviz.dot.Digraph at 0x7f1222a6b250>"
            ],
            "image/svg+xml": "<?xml version=\"1.0\" encoding=\"UTF-8\" standalone=\"no\"?>\n<!DOCTYPE svg PUBLIC \"-//W3C//DTD SVG 1.1//EN\"\n \"http://www.w3.org/Graphics/SVG/1.1/DTD/svg11.dtd\">\n<!-- Generated by graphviz version 2.40.1 (20161225.0304)\n -->\n<!-- Title: %3 Pages: 1 -->\n<svg width=\"134pt\" height=\"116pt\"\n viewBox=\"0.00 0.00 134.00 116.00\" xmlns=\"http://www.w3.org/2000/svg\" xmlns:xlink=\"http://www.w3.org/1999/xlink\">\n<g id=\"graph0\" class=\"graph\" transform=\"scale(1 1) rotate(0) translate(4 112)\">\n<title>%3</title>\n<polygon fill=\"#ffffff\" stroke=\"transparent\" points=\"-4,4 -4,-112 130,-112 130,4 -4,4\"/>\n<!-- y -->\n<g id=\"node1\" class=\"node\">\n<title>y</title>\n<ellipse fill=\"none\" stroke=\"#000000\" cx=\"27\" cy=\"-18\" rx=\"27\" ry=\"18\"/>\n<text text-anchor=\"middle\" x=\"27\" y=\"-14.3\" font-family=\"Times,serif\" font-size=\"14.00\" fill=\"#000000\">y</text>\n</g>\n<!-- z -->\n<g id=\"node2\" class=\"node\">\n<title>z</title>\n<ellipse fill=\"none\" stroke=\"#000000\" cx=\"99\" cy=\"-18\" rx=\"27\" ry=\"18\"/>\n<text text-anchor=\"middle\" x=\"99\" y=\"-14.3\" font-family=\"Times,serif\" font-size=\"14.00\" fill=\"#000000\">z</text>\n</g>\n<!-- x -->\n<g id=\"node3\" class=\"node\">\n<title>x</title>\n<ellipse fill=\"none\" stroke=\"#000000\" cx=\"63\" cy=\"-90\" rx=\"27\" ry=\"18\"/>\n<text text-anchor=\"middle\" x=\"63\" y=\"-86.3\" font-family=\"Times,serif\" font-size=\"14.00\" fill=\"#000000\">x</text>\n</g>\n<!-- x&#45;&gt;y -->\n<g id=\"edge1\" class=\"edge\">\n<title>x&#45;&gt;y</title>\n<path fill=\"none\" stroke=\"#000000\" d=\"M54.2854,-72.5708C50.0403,-64.0807 44.8464,-53.6929 40.1337,-44.2674\"/>\n<polygon fill=\"#000000\" stroke=\"#000000\" points=\"43.237,-42.6477 35.6343,-35.2687 36.976,-45.7782 43.237,-42.6477\"/>\n</g>\n<!-- x&#45;&gt;z -->\n<g id=\"edge2\" class=\"edge\">\n<title>x&#45;&gt;z</title>\n<path fill=\"none\" stroke=\"#000000\" d=\"M71.7146,-72.5708C75.9597,-64.0807 81.1536,-53.6929 85.8663,-44.2674\"/>\n<polygon fill=\"#000000\" stroke=\"#000000\" points=\"89.024,-45.7782 90.3657,-35.2687 82.763,-42.6477 89.024,-45.7782\"/>\n</g>\n</g>\n</svg>\n"
          },
          "metadata": {
            "tags": []
          },
          "execution_count": 8
        }
      ]
    },
    {
      "cell_type": "markdown",
      "metadata": {
        "id": "YcUJB7jQxUfN"
      },
      "source": [
        "**Question 1 Part B:** For each type drawn above, describe which nodes are dependent on each other and those that are independent (if so, under what conditions) (4)"
      ]
    },
    {
      "cell_type": "markdown",
      "metadata": {
        "id": "2Tc-N4rsxUfa"
      },
      "source": [
        "#Enter comments here"
      ]
    },
    {
      "cell_type": "markdown",
      "metadata": {
        "id": "slONlR6QxUfa"
      },
      "source": [
        "**Question 2:**  To check your understanding of these structures, in the cell below, draw 3 **different** DAGs that **ALL** show the following conditional independence: (6)"
      ]
    },
    {
      "cell_type": "markdown",
      "metadata": {
        "id": "o57hni3JxUfa"
      },
      "source": [
        "![WhatsApp%20Image%202021-02-28%20at%2012.51.43.jpeg](attachment:WhatsApp%20Image%202021-02-28%20at%2012.51.43.jpeg)"
      ]
    },
    {
      "cell_type": "code",
      "metadata": {
        "id": "Aj7OB7ajxUfb"
      },
      "source": [
        "#Write code here\n",
        "fork = CausalGraphicalModel(\n",
        "    nodes=[\"c\", \"b\", \"a\"], \n",
        "    edges= [(\"a\",\"b\"),(\"a\",\"c\")]\n",
        ")\n",
        "\n",
        "\n",
        "\n",
        "chain = CausalGraphicalModel(\n",
        "    nodes=[\"c\", \"b\", \"a\"],\n",
        "    edges= [(\"c\",\"a\"),(\"a\",\"b\")]\n",
        ")\n",
        "\n",
        "\n",
        "\n",
        "collider = CausalGraphicalModel(\n",
        "    nodes=[\"c\", \"b\", \"a\"], \n",
        "    edges= [(\"c\",\"a\"),(\"b\",\"a\")]\n",
        ")\n"
      ],
      "execution_count": 26,
      "outputs": []
    },
    {
      "cell_type": "code",
      "metadata": {
        "colab": {
          "base_uri": "https://localhost:8080/",
          "height": 272
        },
        "id": "PpGhbaZpl7D_",
        "outputId": "45046c01-c63d-4828-be74-ecf1a0fbfbb1"
      },
      "source": [
        "chain.draw()"
      ],
      "execution_count": 17,
      "outputs": [
        {
          "output_type": "execute_result",
          "data": {
            "text/plain": [
              "<graphviz.dot.Digraph at 0x7f1222a2b950>"
            ],
            "image/svg+xml": "<?xml version=\"1.0\" encoding=\"UTF-8\" standalone=\"no\"?>\n<!DOCTYPE svg PUBLIC \"-//W3C//DTD SVG 1.1//EN\"\n \"http://www.w3.org/Graphics/SVG/1.1/DTD/svg11.dtd\">\n<!-- Generated by graphviz version 2.40.1 (20161225.0304)\n -->\n<!-- Title: %3 Pages: 1 -->\n<svg width=\"62pt\" height=\"188pt\"\n viewBox=\"0.00 0.00 62.00 188.00\" xmlns=\"http://www.w3.org/2000/svg\" xmlns:xlink=\"http://www.w3.org/1999/xlink\">\n<g id=\"graph0\" class=\"graph\" transform=\"scale(1 1) rotate(0) translate(4 184)\">\n<title>%3</title>\n<polygon fill=\"#ffffff\" stroke=\"transparent\" points=\"-4,4 -4,-184 58,-184 58,4 -4,4\"/>\n<!-- a -->\n<g id=\"node1\" class=\"node\">\n<title>a</title>\n<ellipse fill=\"none\" stroke=\"#000000\" cx=\"27\" cy=\"-90\" rx=\"27\" ry=\"18\"/>\n<text text-anchor=\"middle\" x=\"27\" y=\"-86.3\" font-family=\"Times,serif\" font-size=\"14.00\" fill=\"#000000\">a</text>\n</g>\n<!-- b -->\n<g id=\"node2\" class=\"node\">\n<title>b</title>\n<ellipse fill=\"none\" stroke=\"#000000\" cx=\"27\" cy=\"-18\" rx=\"27\" ry=\"18\"/>\n<text text-anchor=\"middle\" x=\"27\" y=\"-14.3\" font-family=\"Times,serif\" font-size=\"14.00\" fill=\"#000000\">b</text>\n</g>\n<!-- a&#45;&gt;b -->\n<g id=\"edge2\" class=\"edge\">\n<title>a&#45;&gt;b</title>\n<path fill=\"none\" stroke=\"#000000\" d=\"M27,-71.8314C27,-64.131 27,-54.9743 27,-46.4166\"/>\n<polygon fill=\"#000000\" stroke=\"#000000\" points=\"30.5001,-46.4132 27,-36.4133 23.5001,-46.4133 30.5001,-46.4132\"/>\n</g>\n<!-- c -->\n<g id=\"node3\" class=\"node\">\n<title>c</title>\n<ellipse fill=\"none\" stroke=\"#000000\" cx=\"27\" cy=\"-162\" rx=\"27\" ry=\"18\"/>\n<text text-anchor=\"middle\" x=\"27\" y=\"-158.3\" font-family=\"Times,serif\" font-size=\"14.00\" fill=\"#000000\">c</text>\n</g>\n<!-- c&#45;&gt;a -->\n<g id=\"edge1\" class=\"edge\">\n<title>c&#45;&gt;a</title>\n<path fill=\"none\" stroke=\"#000000\" d=\"M27,-143.8314C27,-136.131 27,-126.9743 27,-118.4166\"/>\n<polygon fill=\"#000000\" stroke=\"#000000\" points=\"30.5001,-118.4132 27,-108.4133 23.5001,-118.4133 30.5001,-118.4132\"/>\n</g>\n</g>\n</svg>\n"
          },
          "metadata": {
            "tags": []
          },
          "execution_count": 17
        }
      ]
    },
    {
      "cell_type": "code",
      "metadata": {
        "colab": {
          "base_uri": "https://localhost:8080/",
          "height": 176
        },
        "id": "76_p8TLxmHlP",
        "outputId": "5b16da0d-248b-481e-ccb4-9c47aa0ae135"
      },
      "source": [
        "fork.draw()"
      ],
      "execution_count": 21,
      "outputs": [
        {
          "output_type": "execute_result",
          "data": {
            "text/plain": [
              "<graphviz.dot.Digraph at 0x7f12229a25d0>"
            ],
            "image/svg+xml": "<?xml version=\"1.0\" encoding=\"UTF-8\" standalone=\"no\"?>\n<!DOCTYPE svg PUBLIC \"-//W3C//DTD SVG 1.1//EN\"\n \"http://www.w3.org/Graphics/SVG/1.1/DTD/svg11.dtd\">\n<!-- Generated by graphviz version 2.40.1 (20161225.0304)\n -->\n<!-- Title: %3 Pages: 1 -->\n<svg width=\"134pt\" height=\"116pt\"\n viewBox=\"0.00 0.00 134.00 116.00\" xmlns=\"http://www.w3.org/2000/svg\" xmlns:xlink=\"http://www.w3.org/1999/xlink\">\n<g id=\"graph0\" class=\"graph\" transform=\"scale(1 1) rotate(0) translate(4 112)\">\n<title>%3</title>\n<polygon fill=\"#ffffff\" stroke=\"transparent\" points=\"-4,4 -4,-112 130,-112 130,4 -4,4\"/>\n<!-- a -->\n<g id=\"node1\" class=\"node\">\n<title>a</title>\n<ellipse fill=\"none\" stroke=\"#000000\" cx=\"63\" cy=\"-90\" rx=\"27\" ry=\"18\"/>\n<text text-anchor=\"middle\" x=\"63\" y=\"-86.3\" font-family=\"Times,serif\" font-size=\"14.00\" fill=\"#000000\">a</text>\n</g>\n<!-- b -->\n<g id=\"node2\" class=\"node\">\n<title>b</title>\n<ellipse fill=\"none\" stroke=\"#000000\" cx=\"27\" cy=\"-18\" rx=\"27\" ry=\"18\"/>\n<text text-anchor=\"middle\" x=\"27\" y=\"-14.3\" font-family=\"Times,serif\" font-size=\"14.00\" fill=\"#000000\">b</text>\n</g>\n<!-- a&#45;&gt;b -->\n<g id=\"edge1\" class=\"edge\">\n<title>a&#45;&gt;b</title>\n<path fill=\"none\" stroke=\"#000000\" d=\"M54.2854,-72.5708C50.0403,-64.0807 44.8464,-53.6929 40.1337,-44.2674\"/>\n<polygon fill=\"#000000\" stroke=\"#000000\" points=\"43.237,-42.6477 35.6343,-35.2687 36.976,-45.7782 43.237,-42.6477\"/>\n</g>\n<!-- c -->\n<g id=\"node3\" class=\"node\">\n<title>c</title>\n<ellipse fill=\"none\" stroke=\"#000000\" cx=\"99\" cy=\"-18\" rx=\"27\" ry=\"18\"/>\n<text text-anchor=\"middle\" x=\"99\" y=\"-14.3\" font-family=\"Times,serif\" font-size=\"14.00\" fill=\"#000000\">c</text>\n</g>\n<!-- a&#45;&gt;c -->\n<g id=\"edge2\" class=\"edge\">\n<title>a&#45;&gt;c</title>\n<path fill=\"none\" stroke=\"#000000\" d=\"M71.7146,-72.5708C75.9597,-64.0807 81.1536,-53.6929 85.8663,-44.2674\"/>\n<polygon fill=\"#000000\" stroke=\"#000000\" points=\"89.024,-45.7782 90.3657,-35.2687 82.763,-42.6477 89.024,-45.7782\"/>\n</g>\n</g>\n</svg>\n"
          },
          "metadata": {
            "tags": []
          },
          "execution_count": 21
        }
      ]
    },
    {
      "cell_type": "code",
      "metadata": {
        "colab": {
          "base_uri": "https://localhost:8080/",
          "height": 176
        },
        "id": "bSRs7VwxmH0E",
        "outputId": "da1240e8-d165-490a-f0ea-331aee0d5759"
      },
      "source": [
        "collider.draw()"
      ],
      "execution_count": 27,
      "outputs": [
        {
          "output_type": "execute_result",
          "data": {
            "text/plain": [
              "<graphviz.dot.Digraph at 0x7f12229f1550>"
            ],
            "image/svg+xml": "<?xml version=\"1.0\" encoding=\"UTF-8\" standalone=\"no\"?>\n<!DOCTYPE svg PUBLIC \"-//W3C//DTD SVG 1.1//EN\"\n \"http://www.w3.org/Graphics/SVG/1.1/DTD/svg11.dtd\">\n<!-- Generated by graphviz version 2.40.1 (20161225.0304)\n -->\n<!-- Title: %3 Pages: 1 -->\n<svg width=\"134pt\" height=\"116pt\"\n viewBox=\"0.00 0.00 134.00 116.00\" xmlns=\"http://www.w3.org/2000/svg\" xmlns:xlink=\"http://www.w3.org/1999/xlink\">\n<g id=\"graph0\" class=\"graph\" transform=\"scale(1 1) rotate(0) translate(4 112)\">\n<title>%3</title>\n<polygon fill=\"#ffffff\" stroke=\"transparent\" points=\"-4,4 -4,-112 130,-112 130,4 -4,4\"/>\n<!-- a -->\n<g id=\"node1\" class=\"node\">\n<title>a</title>\n<ellipse fill=\"none\" stroke=\"#000000\" cx=\"63\" cy=\"-18\" rx=\"27\" ry=\"18\"/>\n<text text-anchor=\"middle\" x=\"63\" y=\"-14.3\" font-family=\"Times,serif\" font-size=\"14.00\" fill=\"#000000\">a</text>\n</g>\n<!-- b -->\n<g id=\"node2\" class=\"node\">\n<title>b</title>\n<ellipse fill=\"none\" stroke=\"#000000\" cx=\"27\" cy=\"-90\" rx=\"27\" ry=\"18\"/>\n<text text-anchor=\"middle\" x=\"27\" y=\"-86.3\" font-family=\"Times,serif\" font-size=\"14.00\" fill=\"#000000\">b</text>\n</g>\n<!-- b&#45;&gt;a -->\n<g id=\"edge2\" class=\"edge\">\n<title>b&#45;&gt;a</title>\n<path fill=\"none\" stroke=\"#000000\" d=\"M35.7146,-72.5708C39.9597,-64.0807 45.1536,-53.6929 49.8663,-44.2674\"/>\n<polygon fill=\"#000000\" stroke=\"#000000\" points=\"53.024,-45.7782 54.3657,-35.2687 46.763,-42.6477 53.024,-45.7782\"/>\n</g>\n<!-- c -->\n<g id=\"node3\" class=\"node\">\n<title>c</title>\n<ellipse fill=\"none\" stroke=\"#000000\" cx=\"99\" cy=\"-90\" rx=\"27\" ry=\"18\"/>\n<text text-anchor=\"middle\" x=\"99\" y=\"-86.3\" font-family=\"Times,serif\" font-size=\"14.00\" fill=\"#000000\">c</text>\n</g>\n<!-- c&#45;&gt;a -->\n<g id=\"edge1\" class=\"edge\">\n<title>c&#45;&gt;a</title>\n<path fill=\"none\" stroke=\"#000000\" d=\"M90.2854,-72.5708C86.0403,-64.0807 80.8464,-53.6929 76.1337,-44.2674\"/>\n<polygon fill=\"#000000\" stroke=\"#000000\" points=\"79.237,-42.6477 71.6343,-35.2687 72.976,-45.7782 79.237,-42.6477\"/>\n</g>\n</g>\n</svg>\n"
          },
          "metadata": {
            "tags": []
          },
          "execution_count": 27
        }
      ]
    },
    {
      "cell_type": "markdown",
      "metadata": {
        "id": "ivjTV7VDxUfb"
      },
      "source": [
        "**Question 3:** For the image below, explain the association between Alcohol use and Lung Cancer. Also explain how confounders can be avoided. (2)"
      ]
    },
    {
      "cell_type": "markdown",
      "metadata": {
        "id": "DL0MaGEdxUfb"
      },
      "source": [
        "![3-s2.0-B9780128142769000143-f14-02-9780128142769.jpg](attachment:3-s2.0-B9780128142769000143-f14-02-9780128142769.jpg)"
      ]
    },
    {
      "cell_type": "markdown",
      "metadata": {
        "id": "dILFw2X_xUfb"
      },
      "source": [
        "\n",
        "\n",
        "```\n",
        "# This is formatted as code\n",
        "```\n",
        "\n",
        "Smoking is a gateway to alchol usage and the exposure to alchol can be directly linked to Lung cancer\n",
        "confounders can be avoided in this case by removing the link between alcohol usage and smoking making alcohol independent from smoking as not every smoker drinks alcohol or smoking does not necessarily lead to alcohol addiction"
      ]
    },
    {
      "cell_type": "markdown",
      "metadata": {
        "id": "eYrgj4X9xUfb"
      },
      "source": [
        "### **From here onwards, the questions will be about this Directed Acyclic Graph:**"
      ]
    },
    {
      "cell_type": "code",
      "metadata": {
        "id": "Bh-0TlnNxUfb",
        "colab": {
          "base_uri": "https://localhost:8080/",
          "height": 656
        },
        "outputId": "6f15bec1-dc74-4146-9dab-31a69f121766"
      },
      "source": [
        "dag = CausalGraphicalModel(\n",
        "nodes=[\"x\", \"Y\", \"z\", \"p\", \"q\", \"r\", \"s\", \"T\", \"m\",\"o\"],\n",
        "edges=[(\"p\", \"T\"), (\"q\",\"p\"),(\"q\",\"r\"), (\"r\",\"Y\"), (\"T\",\"s\"), (\"s\",\"m\"), (\"m\", \"Y\"), (\"x\", \"T\"),(\"x\",\"o\"), (\"o\",\"z\"), (\"Y\",\"z\")]\n",
        ")\n",
        "\n",
        "dag.draw()"
      ],
      "execution_count": 10,
      "outputs": [
        {
          "output_type": "execute_result",
          "data": {
            "text/plain": [
              "<graphviz.dot.Digraph at 0x7f1222ac2cd0>"
            ],
            "image/svg+xml": "<?xml version=\"1.0\" encoding=\"UTF-8\" standalone=\"no\"?>\n<!DOCTYPE svg PUBLIC \"-//W3C//DTD SVG 1.1//EN\"\n \"http://www.w3.org/Graphics/SVG/1.1/DTD/svg11.dtd\">\n<!-- Generated by graphviz version 2.40.1 (20161225.0304)\n -->\n<!-- Title: %3 Pages: 1 -->\n<svg width=\"189pt\" height=\"476pt\"\n viewBox=\"0.00 0.00 189.00 476.00\" xmlns=\"http://www.w3.org/2000/svg\" xmlns:xlink=\"http://www.w3.org/1999/xlink\">\n<g id=\"graph0\" class=\"graph\" transform=\"scale(1 1) rotate(0) translate(4 472)\">\n<title>%3</title>\n<polygon fill=\"#ffffff\" stroke=\"transparent\" points=\"-4,4 -4,-472 185,-472 185,4 -4,4\"/>\n<!-- s -->\n<g id=\"node1\" class=\"node\">\n<title>s</title>\n<ellipse fill=\"none\" stroke=\"#000000\" cx=\"82\" cy=\"-234\" rx=\"27\" ry=\"18\"/>\n<text text-anchor=\"middle\" x=\"82\" y=\"-230.3\" font-family=\"Times,serif\" font-size=\"14.00\" fill=\"#000000\">s</text>\n</g>\n<!-- m -->\n<g id=\"node7\" class=\"node\">\n<title>m</title>\n<ellipse fill=\"none\" stroke=\"#000000\" cx=\"82\" cy=\"-162\" rx=\"27\" ry=\"18\"/>\n<text text-anchor=\"middle\" x=\"82\" y=\"-158.3\" font-family=\"Times,serif\" font-size=\"14.00\" fill=\"#000000\">m</text>\n</g>\n<!-- s&#45;&gt;m -->\n<g id=\"edge8\" class=\"edge\">\n<title>s&#45;&gt;m</title>\n<path fill=\"none\" stroke=\"#000000\" d=\"M82,-215.8314C82,-208.131 82,-198.9743 82,-190.4166\"/>\n<polygon fill=\"#000000\" stroke=\"#000000\" points=\"85.5001,-190.4132 82,-180.4133 78.5001,-190.4133 85.5001,-190.4132\"/>\n</g>\n<!-- x -->\n<g id=\"node2\" class=\"node\">\n<title>x</title>\n<ellipse fill=\"none\" stroke=\"#000000\" cx=\"154\" cy=\"-378\" rx=\"27\" ry=\"18\"/>\n<text text-anchor=\"middle\" x=\"154\" y=\"-374.3\" font-family=\"Times,serif\" font-size=\"14.00\" fill=\"#000000\">x</text>\n</g>\n<!-- T -->\n<g id=\"node3\" class=\"node\">\n<title>T</title>\n<ellipse fill=\"none\" stroke=\"#000000\" cx=\"99\" cy=\"-306\" rx=\"27\" ry=\"18\"/>\n<text text-anchor=\"middle\" x=\"99\" y=\"-302.3\" font-family=\"Times,serif\" font-size=\"14.00\" fill=\"#000000\">T</text>\n</g>\n<!-- x&#45;&gt;T -->\n<g id=\"edge1\" class=\"edge\">\n<title>x&#45;&gt;T</title>\n<path fill=\"none\" stroke=\"#000000\" d=\"M141.5196,-361.6621C134.4876,-352.4564 125.5653,-340.7764 117.7117,-330.4953\"/>\n<polygon fill=\"#000000\" stroke=\"#000000\" points=\"120.2828,-328.0953 111.431,-322.2733 114.72,-332.3446 120.2828,-328.0953\"/>\n</g>\n<!-- o -->\n<g id=\"node8\" class=\"node\">\n<title>o</title>\n<ellipse fill=\"none\" stroke=\"#000000\" cx=\"154\" cy=\"-234\" rx=\"27\" ry=\"18\"/>\n<text text-anchor=\"middle\" x=\"154\" y=\"-230.3\" font-family=\"Times,serif\" font-size=\"14.00\" fill=\"#000000\">o</text>\n</g>\n<!-- x&#45;&gt;o -->\n<g id=\"edge2\" class=\"edge\">\n<title>x&#45;&gt;o</title>\n<path fill=\"none\" stroke=\"#000000\" d=\"M154,-359.7623C154,-335.201 154,-291.2474 154,-262.3541\"/>\n<polygon fill=\"#000000\" stroke=\"#000000\" points=\"157.5001,-262.0896 154,-252.0896 150.5001,-262.0897 157.5001,-262.0896\"/>\n</g>\n<!-- T&#45;&gt;s -->\n<g id=\"edge9\" class=\"edge\">\n<title>T&#45;&gt;s</title>\n<path fill=\"none\" stroke=\"#000000\" d=\"M94.7978,-288.2022C92.9179,-280.2406 90.6575,-270.6671 88.5629,-261.7957\"/>\n<polygon fill=\"#000000\" stroke=\"#000000\" points=\"91.9172,-260.7706 86.2128,-251.8425 85.1045,-262.3792 91.9172,-260.7706\"/>\n</g>\n<!-- q -->\n<g id=\"node4\" class=\"node\">\n<title>q</title>\n<ellipse fill=\"none\" stroke=\"#000000\" cx=\"54\" cy=\"-450\" rx=\"27\" ry=\"18\"/>\n<text text-anchor=\"middle\" x=\"54\" y=\"-446.3\" font-family=\"Times,serif\" font-size=\"14.00\" fill=\"#000000\">q</text>\n</g>\n<!-- r -->\n<g id=\"node9\" class=\"node\">\n<title>r</title>\n<ellipse fill=\"none\" stroke=\"#000000\" cx=\"27\" cy=\"-306\" rx=\"27\" ry=\"18\"/>\n<text text-anchor=\"middle\" x=\"27\" y=\"-302.3\" font-family=\"Times,serif\" font-size=\"14.00\" fill=\"#000000\">r</text>\n</g>\n<!-- q&#45;&gt;r -->\n<g id=\"edge6\" class=\"edge\">\n<title>q&#45;&gt;r</title>\n<path fill=\"none\" stroke=\"#000000\" d=\"M50.635,-432.0535C46.027,-407.4774 37.7064,-363.1008 32.2683,-334.0974\"/>\n<polygon fill=\"#000000\" stroke=\"#000000\" points=\"35.6904,-333.3564 30.4074,-324.1727 28.8103,-334.6465 35.6904,-333.3564\"/>\n</g>\n<!-- p -->\n<g id=\"node10\" class=\"node\">\n<title>p</title>\n<ellipse fill=\"none\" stroke=\"#000000\" cx=\"82\" cy=\"-378\" rx=\"27\" ry=\"18\"/>\n<text text-anchor=\"middle\" x=\"82\" y=\"-374.3\" font-family=\"Times,serif\" font-size=\"14.00\" fill=\"#000000\">p</text>\n</g>\n<!-- q&#45;&gt;p -->\n<g id=\"edge5\" class=\"edge\">\n<title>q&#45;&gt;p</title>\n<path fill=\"none\" stroke=\"#000000\" d=\"M60.778,-432.5708C63.9872,-424.3187 67.8935,-414.2738 71.4758,-405.0623\"/>\n<polygon fill=\"#000000\" stroke=\"#000000\" points=\"74.8248,-406.1069 75.1874,-395.5182 68.3008,-403.5697 74.8248,-406.1069\"/>\n</g>\n<!-- z -->\n<g id=\"node5\" class=\"node\">\n<title>z</title>\n<ellipse fill=\"none\" stroke=\"#000000\" cx=\"109\" cy=\"-18\" rx=\"27\" ry=\"18\"/>\n<text text-anchor=\"middle\" x=\"109\" y=\"-14.3\" font-family=\"Times,serif\" font-size=\"14.00\" fill=\"#000000\">z</text>\n</g>\n<!-- Y -->\n<g id=\"node6\" class=\"node\">\n<title>Y</title>\n<ellipse fill=\"none\" stroke=\"#000000\" cx=\"82\" cy=\"-90\" rx=\"27\" ry=\"18\"/>\n<text text-anchor=\"middle\" x=\"82\" y=\"-86.3\" font-family=\"Times,serif\" font-size=\"14.00\" fill=\"#000000\">Y</text>\n</g>\n<!-- Y&#45;&gt;z -->\n<g id=\"edge3\" class=\"edge\">\n<title>Y&#45;&gt;z</title>\n<path fill=\"none\" stroke=\"#000000\" d=\"M88.6742,-72.2022C91.7476,-64.0064 95.4616,-54.1024 98.8695,-45.0145\"/>\n<polygon fill=\"#000000\" stroke=\"#000000\" points=\"102.1685,-46.1853 102.4026,-35.593 95.6142,-43.7274 102.1685,-46.1853\"/>\n</g>\n<!-- m&#45;&gt;Y -->\n<g id=\"edge10\" class=\"edge\">\n<title>m&#45;&gt;Y</title>\n<path fill=\"none\" stroke=\"#000000\" d=\"M82,-143.8314C82,-136.131 82,-126.9743 82,-118.4166\"/>\n<polygon fill=\"#000000\" stroke=\"#000000\" points=\"85.5001,-118.4132 82,-108.4133 78.5001,-118.4133 85.5001,-118.4132\"/>\n</g>\n<!-- o&#45;&gt;z -->\n<g id=\"edge11\" class=\"edge\">\n<title>o&#45;&gt;z</title>\n<path fill=\"none\" stroke=\"#000000\" d=\"M150.2407,-215.9555C142.3793,-178.2205 124.1566,-90.7518 114.7892,-45.7882\"/>\n<polygon fill=\"#000000\" stroke=\"#000000\" points=\"118.183,-44.9172 112.7169,-35.8413 111.3301,-46.3449 118.183,-44.9172\"/>\n</g>\n<!-- r&#45;&gt;Y -->\n<g id=\"edge7\" class=\"edge\">\n<title>r&#45;&gt;Y</title>\n<path fill=\"none\" stroke=\"#000000\" d=\"M26.4137,-287.8694C26.01,-257.2324 27.7239,-193.7005 46,-144 49.8498,-133.5307 56.1059,-123.083 62.3314,-114.2059\"/>\n<polygon fill=\"#000000\" stroke=\"#000000\" points=\"65.3326,-116.0335 68.4564,-105.9096 59.7011,-111.8758 65.3326,-116.0335\"/>\n</g>\n<!-- p&#45;&gt;T -->\n<g id=\"edge4\" class=\"edge\">\n<title>p&#45;&gt;T</title>\n<path fill=\"none\" stroke=\"#000000\" d=\"M86.2022,-360.2022C88.0821,-352.2406 90.3425,-342.6671 92.4371,-333.7957\"/>\n<polygon fill=\"#000000\" stroke=\"#000000\" points=\"95.8955,-334.3792 94.7872,-323.8425 89.0828,-332.7706 95.8955,-334.3792\"/>\n</g>\n</g>\n</svg>\n"
          },
          "metadata": {
            "tags": []
          },
          "execution_count": 10
        }
      ]
    },
    {
      "cell_type": "markdown",
      "metadata": {
        "id": "mX0e5U-6xUfc"
      },
      "source": [
        "**Question 4:** How many conditionally independent relationships are in the graph above? (2)"
      ]
    },
    {
      "cell_type": "code",
      "metadata": {
        "id": "-rQ0-TYoxUfc",
        "colab": {
          "base_uri": "https://localhost:8080/"
        },
        "outputId": "62983355-fe06-43b9-9e80-2a0b54efbca5"
      },
      "source": [
        "y=dag.get_all_independence_relationships()\n",
        "count = 0\n",
        "for line in y:\n",
        "  count += 1\n",
        "print(count)\n"
      ],
      "execution_count": 57,
      "outputs": [
        {
          "output_type": "stream",
          "text": [
            "4444\n"
          ],
          "name": "stdout"
        }
      ]
    },
    {
      "cell_type": "markdown",
      "metadata": {
        "id": "QLEw-G0HxUfc"
      },
      "source": [
        "**Question 5:** Are nodes T and Y d-seperated? if you answer as 'No' then write and print the unblocked path below. (4)"
      ]
    },
    {
      "cell_type": "code",
      "metadata": {
        "id": "VRAWOUGDxUfc",
        "colab": {
          "base_uri": "https://localhost:8080/",
          "height": 385
        },
        "outputId": "c678b045-7723-482c-d577-c55571df0ac0"
      },
      "source": [
        "print(dag.is_d_separated(\"T\", \"Y\"))\n",
        "chain = CausalGraphicalModel(\n",
        "    nodes=[\"T\", \"s\", \"m\",\"Y\"],\n",
        "    edges= [(\"T\",\"s\"),(\"s\",\"m\"),('m','Y')]\n",
        ")\n",
        "chain.draw()"
      ],
      "execution_count": 62,
      "outputs": [
        {
          "output_type": "stream",
          "text": [
            "False\n"
          ],
          "name": "stdout"
        },
        {
          "output_type": "execute_result",
          "data": {
            "text/plain": [
              "<graphviz.dot.Digraph at 0x7f12229f14d0>"
            ],
            "image/svg+xml": "<?xml version=\"1.0\" encoding=\"UTF-8\" standalone=\"no\"?>\n<!DOCTYPE svg PUBLIC \"-//W3C//DTD SVG 1.1//EN\"\n \"http://www.w3.org/Graphics/SVG/1.1/DTD/svg11.dtd\">\n<!-- Generated by graphviz version 2.40.1 (20161225.0304)\n -->\n<!-- Title: %3 Pages: 1 -->\n<svg width=\"62pt\" height=\"260pt\"\n viewBox=\"0.00 0.00 62.00 260.00\" xmlns=\"http://www.w3.org/2000/svg\" xmlns:xlink=\"http://www.w3.org/1999/xlink\">\n<g id=\"graph0\" class=\"graph\" transform=\"scale(1 1) rotate(0) translate(4 256)\">\n<title>%3</title>\n<polygon fill=\"#ffffff\" stroke=\"transparent\" points=\"-4,4 -4,-256 58,-256 58,4 -4,4\"/>\n<!-- T -->\n<g id=\"node1\" class=\"node\">\n<title>T</title>\n<ellipse fill=\"none\" stroke=\"#000000\" cx=\"27\" cy=\"-234\" rx=\"27\" ry=\"18\"/>\n<text text-anchor=\"middle\" x=\"27\" y=\"-230.3\" font-family=\"Times,serif\" font-size=\"14.00\" fill=\"#000000\">T</text>\n</g>\n<!-- s -->\n<g id=\"node3\" class=\"node\">\n<title>s</title>\n<ellipse fill=\"none\" stroke=\"#000000\" cx=\"27\" cy=\"-162\" rx=\"27\" ry=\"18\"/>\n<text text-anchor=\"middle\" x=\"27\" y=\"-158.3\" font-family=\"Times,serif\" font-size=\"14.00\" fill=\"#000000\">s</text>\n</g>\n<!-- T&#45;&gt;s -->\n<g id=\"edge1\" class=\"edge\">\n<title>T&#45;&gt;s</title>\n<path fill=\"none\" stroke=\"#000000\" d=\"M27,-215.8314C27,-208.131 27,-198.9743 27,-190.4166\"/>\n<polygon fill=\"#000000\" stroke=\"#000000\" points=\"30.5001,-190.4132 27,-180.4133 23.5001,-190.4133 30.5001,-190.4132\"/>\n</g>\n<!-- m -->\n<g id=\"node2\" class=\"node\">\n<title>m</title>\n<ellipse fill=\"none\" stroke=\"#000000\" cx=\"27\" cy=\"-90\" rx=\"27\" ry=\"18\"/>\n<text text-anchor=\"middle\" x=\"27\" y=\"-86.3\" font-family=\"Times,serif\" font-size=\"14.00\" fill=\"#000000\">m</text>\n</g>\n<!-- Y -->\n<g id=\"node4\" class=\"node\">\n<title>Y</title>\n<ellipse fill=\"none\" stroke=\"#000000\" cx=\"27\" cy=\"-18\" rx=\"27\" ry=\"18\"/>\n<text text-anchor=\"middle\" x=\"27\" y=\"-14.3\" font-family=\"Times,serif\" font-size=\"14.00\" fill=\"#000000\">Y</text>\n</g>\n<!-- m&#45;&gt;Y -->\n<g id=\"edge3\" class=\"edge\">\n<title>m&#45;&gt;Y</title>\n<path fill=\"none\" stroke=\"#000000\" d=\"M27,-71.8314C27,-64.131 27,-54.9743 27,-46.4166\"/>\n<polygon fill=\"#000000\" stroke=\"#000000\" points=\"30.5001,-46.4132 27,-36.4133 23.5001,-46.4133 30.5001,-46.4132\"/>\n</g>\n<!-- s&#45;&gt;m -->\n<g id=\"edge2\" class=\"edge\">\n<title>s&#45;&gt;m</title>\n<path fill=\"none\" stroke=\"#000000\" d=\"M27,-143.8314C27,-136.131 27,-126.9743 27,-118.4166\"/>\n<polygon fill=\"#000000\" stroke=\"#000000\" points=\"30.5001,-118.4132 27,-108.4133 23.5001,-118.4133 30.5001,-118.4132\"/>\n</g>\n</g>\n</svg>\n"
          },
          "metadata": {
            "tags": []
          },
          "execution_count": 62
        }
      ]
    },
    {
      "cell_type": "markdown",
      "metadata": {
        "id": "v8-5UOdexUfd"
      },
      "source": [
        "**Question 6:** Are nodes T and Y d-seperated if we condition on node 's'? if you answer as 'No' then write and print the unblocked path below. (4)"
      ]
    },
    {
      "cell_type": "code",
      "metadata": {
        "id": "xDovmeHrxUfd"
      },
      "source": [
        "#Enter comment here\n",
        "#with the condition on S, T and Y are d-seperated\n"
      ],
      "execution_count": 63,
      "outputs": []
    },
    {
      "cell_type": "markdown",
      "metadata": {
        "id": "sjdxgs__xUfd"
      },
      "source": [
        "**Question 7 Part A:**  List all the colliders in the example above.\n",
        "Example:\n",
        "answer= [['a', 'b', 'c'], ['a', 'e', 'f], ['b', 'f', 'g']]   (4)"
      ]
    },
    {
      "cell_type": "code",
      "metadata": {
        "id": "HcJBGCEzxUfd"
      },
      "source": [
        "answer = [['x','p','t'],['m','r','y'],['o','y','z']]"
      ],
      "execution_count": 14,
      "outputs": []
    },
    {
      "cell_type": "markdown",
      "metadata": {
        "id": "61BSo_n6xUfd"
      },
      "source": [
        "**Question 7 Part B:**  List all the forks in the example above.\n",
        "Example:\n",
        "answer= [['a', 'b', 'c'], ['a', 'e', 'f], ['b', 'f', 'g']] (4)"
      ]
    },
    {
      "cell_type": "code",
      "metadata": {
        "id": "zAm5F2wExUfi"
      },
      "source": [
        "answer = [['x','o','t'],['q','p','r']]"
      ],
      "execution_count": 28,
      "outputs": []
    },
    {
      "cell_type": "markdown",
      "metadata": {
        "id": "1jFb-TAHxUfi"
      },
      "source": [
        "**Question 8:** What is the longest backdoor path in the graph from T to Y? Example answer = ['x','o','z'] (4)"
      ]
    },
    {
      "cell_type": "code",
      "metadata": {
        "id": "KdRjeH3hxUfi"
      },
      "source": [
        "answer= ['T','p','q','r','Y']"
      ],
      "execution_count": null,
      "outputs": []
    },
    {
      "cell_type": "markdown",
      "metadata": {
        "id": "yINdU56exUfi"
      },
      "source": [
        "**Congratulations on completing your 3rd Assignment :) Take a break and relax!** "
      ]
    },
    {
      "cell_type": "code",
      "metadata": {
        "id": "xntHhnhLxUfi"
      },
      "source": [
        ""
      ],
      "execution_count": null,
      "outputs": []
    }
  ]
}